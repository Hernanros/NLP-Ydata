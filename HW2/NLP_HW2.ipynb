{
  "nbformat": 4,
  "nbformat_minor": 0,
  "metadata": {
    "kernelspec": {
      "display_name": "Python 3",
      "language": "python",
      "name": "python3"
    },
    "language_info": {
      "codemirror_mode": {
        "name": "ipython",
        "version": 3
      },
      "file_extension": ".py",
      "mimetype": "text/x-python",
      "name": "python",
      "nbconvert_exporter": "python",
      "pygments_lexer": "ipython3",
      "version": "3.7.4"
    },
    "colab": {
      "name": "NLP_HW2.ipynb",
      "provenance": [],
      "include_colab_link": true
    },
    "accelerator": "GPU"
  },
  "cells": [
    {
      "cell_type": "markdown",
      "metadata": {
        "id": "view-in-github",
        "colab_type": "text"
      },
      "source": [
        "<a href=\"https://colab.research.google.com/github/Hernanros/NLP-Ydata/blob/master/HW2/NLP_HW2.ipynb\" target=\"_parent\"><img src=\"https://colab.research.google.com/assets/colab-badge.svg\" alt=\"Open In Colab\"/></a>"
      ]
    },
    {
      "cell_type": "markdown",
      "metadata": {
        "id": "vb1yXLWqNO3s",
        "colab_type": "text"
      },
      "source": [
        "##  Text generation by Markov chain"
      ]
    },
    {
      "cell_type": "code",
      "metadata": {
        "id": "uf77BtrtNO3t",
        "colab_type": "code",
        "colab": {}
      },
      "source": [
        "import csv\n",
        "import pandas as pd"
      ],
      "execution_count": 0,
      "outputs": []
    },
    {
      "cell_type": "markdown",
      "metadata": {
        "id": "CIXpb5jBNO3w",
        "colab_type": "text"
      },
      "source": [
        "Markov chain is a probabalistic model in which the probability of each event depends only on the state attained in the previous event. [markovify](https://github.com/jsvine/markovify) is a library for text generation by Markov chain.\n",
        "\n",
        "Use \"pip install markovify\" to install markovify"
      ]
    },
    {
      "cell_type": "code",
      "metadata": {
        "id": "0d89JFOANO3x",
        "colab_type": "code",
        "colab": {
          "base_uri": "https://localhost:8080/",
          "height": 50
        },
        "outputId": "b84f9733-d917-46c4-d020-514d24754083"
      },
      "source": [
        "!pip install markovify\n",
        "import markovify"
      ],
      "execution_count": 2,
      "outputs": [
        {
          "output_type": "stream",
          "text": [
            "Requirement already satisfied: markovify in /usr/local/lib/python3.6/dist-packages (0.8.0)\n",
            "Requirement already satisfied: unidecode in /usr/local/lib/python3.6/dist-packages (from markovify) (1.1.1)\n"
          ],
          "name": "stdout"
        }
      ]
    },
    {
      "cell_type": "code",
      "metadata": {
        "id": "H3dtkH9VNgf5",
        "colab_type": "code",
        "colab": {}
      },
      "source": [
        "def parseJson(fname):\n",
        "    for line in open(fname, 'r+'):\n",
        "        yield eval(line)\n",
        "\n",
        "data = pd.DataFrame(list(parseJson('Sarcasm_Headlines_Dataset_v2.json')))\n",
        "\n",
        "\n",
        "\n",
        "data.is_sarcastic = data.is_sarcastic.astype('bool')\n"
      ],
      "execution_count": 0,
      "outputs": []
    },
    {
      "cell_type": "code",
      "metadata": {
        "id": "W9yfEfD-QNSX",
        "colab_type": "code",
        "outputId": "57c49a8f-2fef-4746-87ba-27b57c85b2fd",
        "colab": {
          "base_uri": "https://localhost:8080/",
          "height": 196
        }
      },
      "source": [
        "data.head()"
      ],
      "execution_count": 47,
      "outputs": [
        {
          "output_type": "execute_result",
          "data": {
            "text/html": [
              "<div>\n",
              "<style scoped>\n",
              "    .dataframe tbody tr th:only-of-type {\n",
              "        vertical-align: middle;\n",
              "    }\n",
              "\n",
              "    .dataframe tbody tr th {\n",
              "        vertical-align: top;\n",
              "    }\n",
              "\n",
              "    .dataframe thead th {\n",
              "        text-align: right;\n",
              "    }\n",
              "</style>\n",
              "<table border=\"1\" class=\"dataframe\">\n",
              "  <thead>\n",
              "    <tr style=\"text-align: right;\">\n",
              "      <th></th>\n",
              "      <th>is_sarcastic</th>\n",
              "      <th>headline</th>\n",
              "      <th>article_link</th>\n",
              "    </tr>\n",
              "  </thead>\n",
              "  <tbody>\n",
              "    <tr>\n",
              "      <th>0</th>\n",
              "      <td>True</td>\n",
              "      <td>thirtysomething scientists unveil doomsday clo...</td>\n",
              "      <td>https://www.theonion.com/thirtysomething-scien...</td>\n",
              "    </tr>\n",
              "    <tr>\n",
              "      <th>1</th>\n",
              "      <td>False</td>\n",
              "      <td>dem rep. totally nails why congress is falling...</td>\n",
              "      <td>https://www.huffingtonpost.com/entry/donna-edw...</td>\n",
              "    </tr>\n",
              "    <tr>\n",
              "      <th>2</th>\n",
              "      <td>False</td>\n",
              "      <td>eat your veggies: 9 deliciously different recipes</td>\n",
              "      <td>https://www.huffingtonpost.com/entry/eat-your-...</td>\n",
              "    </tr>\n",
              "    <tr>\n",
              "      <th>3</th>\n",
              "      <td>True</td>\n",
              "      <td>inclement weather prevents liar from getting t...</td>\n",
              "      <td>https://local.theonion.com/inclement-weather-p...</td>\n",
              "    </tr>\n",
              "    <tr>\n",
              "      <th>4</th>\n",
              "      <td>True</td>\n",
              "      <td>mother comes pretty close to using word 'strea...</td>\n",
              "      <td>https://www.theonion.com/mother-comes-pretty-c...</td>\n",
              "    </tr>\n",
              "  </tbody>\n",
              "</table>\n",
              "</div>"
            ],
            "text/plain": [
              "   is_sarcastic  ...                                       article_link\n",
              "0          True  ...  https://www.theonion.com/thirtysomething-scien...\n",
              "1         False  ...  https://www.huffingtonpost.com/entry/donna-edw...\n",
              "2         False  ...  https://www.huffingtonpost.com/entry/eat-your-...\n",
              "3          True  ...  https://local.theonion.com/inclement-weather-p...\n",
              "4          True  ...  https://www.theonion.com/mother-comes-pretty-c...\n",
              "\n",
              "[5 rows x 3 columns]"
            ]
          },
          "metadata": {
            "tags": []
          },
          "execution_count": 47
        }
      ]
    },
    {
      "cell_type": "code",
      "metadata": {
        "id": "3UYA9GlERvkc",
        "colab_type": "code",
        "outputId": "03332257-7cd0-4e43-ee68-9b195dafb620",
        "colab": {
          "base_uri": "https://localhost:8080/",
          "height": 33
        }
      },
      "source": [
        "len([headline for i,headline in enumerate(data.headline) if data.is_sarcastic[i]==True])"
      ],
      "execution_count": 48,
      "outputs": [
        {
          "output_type": "execute_result",
          "data": {
            "text/plain": [
              "13634"
            ]
          },
          "metadata": {
            "tags": []
          },
          "execution_count": 48
        }
      ]
    },
    {
      "cell_type": "markdown",
      "metadata": {
        "id": "Yolq4AkYNO30",
        "colab_type": "text"
      },
      "source": [
        "Download [Dataset.csv](https://drive.google.com/file/d/1raxIkJZ4lMTvgTB8eYjxu4Ux8aNL-x0s/view?usp=sharing) composed of sarcastic and serious headlines for the news. The csv-file consists of two columns. \"headline\" column contains texts of headlines. \"is_sarcastic\" column contain 0 if the hiadline is serious and 1 otherwise.\n",
        "\n",
        "Read dataset "
      ]
    },
    {
      "cell_type": "code",
      "metadata": {
        "id": "2_vDl5b8NO31",
        "colab_type": "code",
        "outputId": "f0ab98c9-15cc-40dc-e7ad-02fb3b7763bc",
        "colab": {
          "base_uri": "https://localhost:8080/",
          "height": 50
        }
      },
      "source": [
        "texts_serious = [headline for i,headline in enumerate(data.headline) if data.is_sarcastic[i]==False] # list of serious hiadline texts\n",
        "texts_sarcastic = [headline for i,headline in enumerate(data.headline) if data.is_sarcastic[i]==True] # list of sarcastic hiadline texts\n",
        "# with open('Dataset.csv', encoding='utf-8') as f:\n",
        "#     # Rread csv-file by DictReader from csv library\n",
        "#     reader = csv.DictReader(f) \n",
        "#     for line in reader:\n",
        "#         # read texts of headline\n",
        "#         headline = line['headline'].strip()\n",
        "#         # read sarcasticity of headline\n",
        "#         is_sarcastic = int(line['is_sarcastic'].strip())\n",
        "#         if is_sarcastic:\n",
        "#             texts_sarcastic.append(headline)\n",
        "#         else:\n",
        "#             texts_serious.append(headline)\n",
        "print('Found {} sarcastic texts in Dataset'.format(data.groupby('is_sarcastic').size()[1]))\n",
        "print('Found {} serious texts in Dataset'.format(data.groupby('is_sarcastic').size()[0]))\n"
      ],
      "execution_count": 49,
      "outputs": [
        {
          "output_type": "stream",
          "text": [
            "Found 13634 sarcastic texts in Dataset\n",
            "Found 14985 serious texts in Dataset\n"
          ],
          "name": "stdout"
        }
      ]
    },
    {
      "cell_type": "markdown",
      "metadata": {
        "id": "QhtJNgwuNO35",
        "colab_type": "text"
      },
      "source": [
        "Merge headlines into one text"
      ]
    },
    {
      "cell_type": "code",
      "metadata": {
        "id": "eI9k6oOaNO35",
        "colab_type": "code",
        "colab": {}
      },
      "source": [
        "text_0 = '\\n '.join(texts_serious)\n",
        "text_1 = '\\n '.join(texts_sarcastic)"
      ],
      "execution_count": 0,
      "outputs": []
    },
    {
      "cell_type": "code",
      "metadata": {
        "id": "XextATaPUinJ",
        "colab_type": "code",
        "outputId": "ea76db1a-c661-4dca-ae53-a506d994ad8e",
        "colab": {
          "base_uri": "https://localhost:8080/",
          "height": 33
        }
      },
      "source": [
        "markovify.Text(texts_sarcastic)"
      ],
      "execution_count": 7,
      "outputs": [
        {
          "output_type": "execute_result",
          "data": {
            "text/plain": [
              "<markovify.text.Text at 0x7ffb067ff400>"
            ]
          },
          "metadata": {
            "tags": []
          },
          "execution_count": 7
        }
      ]
    },
    {
      "cell_type": "markdown",
      "metadata": {
        "id": "bgh0nuOHNO38",
        "colab_type": "text"
      },
      "source": [
        "Create Markov chain model for serious headlines generation"
      ]
    },
    {
      "cell_type": "code",
      "metadata": {
        "id": "MFez6CN-NO38",
        "colab_type": "code",
        "colab": {
          "base_uri": "https://localhost:8080/",
          "height": 178
        },
        "outputId": "0ba02c61-d157-4a2c-9c61-075a733f27b2"
      },
      "source": [
        "serious_model = markovify.Text(texts_serious, state_size=2)\n",
        "sarcastic_model = markovify.Text(texts_sarcastic)\n"
      ],
      "execution_count": 6,
      "outputs": [
        {
          "output_type": "error",
          "ename": "NameError",
          "evalue": "ignored",
          "traceback": [
            "\u001b[0;31m---------------------------------------------------------------------------\u001b[0m",
            "\u001b[0;31mNameError\u001b[0m                                 Traceback (most recent call last)",
            "\u001b[0;32m<ipython-input-6-17286f7ede30>\u001b[0m in \u001b[0;36m<module>\u001b[0;34m()\u001b[0m\n\u001b[0;32m----> 1\u001b[0;31m \u001b[0mserious_model\u001b[0m \u001b[0;34m=\u001b[0m \u001b[0mmarkovify\u001b[0m\u001b[0;34m.\u001b[0m\u001b[0mText\u001b[0m\u001b[0;34m(\u001b[0m\u001b[0mtexts_serious\u001b[0m\u001b[0;34m,\u001b[0m \u001b[0mstate_size\u001b[0m\u001b[0;34m=\u001b[0m\u001b[0;36m2\u001b[0m\u001b[0;34m)\u001b[0m\u001b[0;34m\u001b[0m\u001b[0;34m\u001b[0m\u001b[0m\n\u001b[0m\u001b[1;32m      2\u001b[0m \u001b[0msarcastic_model\u001b[0m \u001b[0;34m=\u001b[0m \u001b[0mmarkovify\u001b[0m\u001b[0;34m.\u001b[0m\u001b[0mText\u001b[0m\u001b[0;34m(\u001b[0m\u001b[0mtexts_sarcastic\u001b[0m\u001b[0;34m)\u001b[0m\u001b[0;34m\u001b[0m\u001b[0;34m\u001b[0m\u001b[0m\n",
            "\u001b[0;31mNameError\u001b[0m: name 'markovify' is not defined"
          ]
        }
      ]
    },
    {
      "cell_type": "markdown",
      "metadata": {
        "id": "_zZMwvZFNO3_",
        "colab_type": "text"
      },
      "source": [
        "Generate 20 serious headlines"
      ]
    },
    {
      "cell_type": "code",
      "metadata": {
        "id": "NDKt79ZcNO3_",
        "colab_type": "code",
        "outputId": "afe12edb-c5a3-4a90-cd03-7d95da3ebc7f",
        "colab": {
          "base_uri": "https://localhost:8080/",
          "height": 178
        }
      },
      "source": [
        "for i in range(20):\n",
        "    print(serious_model.make_sentence())"
      ],
      "execution_count": 7,
      "outputs": [
        {
          "output_type": "error",
          "ename": "NameError",
          "evalue": "ignored",
          "traceback": [
            "\u001b[0;31m---------------------------------------------------------------------------\u001b[0m",
            "\u001b[0;31mNameError\u001b[0m                                 Traceback (most recent call last)",
            "\u001b[0;32m<ipython-input-7-87adba752dd3>\u001b[0m in \u001b[0;36m<module>\u001b[0;34m()\u001b[0m\n\u001b[1;32m      1\u001b[0m \u001b[0;32mfor\u001b[0m \u001b[0mi\u001b[0m \u001b[0;32min\u001b[0m \u001b[0mrange\u001b[0m\u001b[0;34m(\u001b[0m\u001b[0;36m20\u001b[0m\u001b[0;34m)\u001b[0m\u001b[0;34m:\u001b[0m\u001b[0;34m\u001b[0m\u001b[0;34m\u001b[0m\u001b[0m\n\u001b[0;32m----> 2\u001b[0;31m     \u001b[0mprint\u001b[0m\u001b[0;34m(\u001b[0m\u001b[0mserious_model\u001b[0m\u001b[0;34m.\u001b[0m\u001b[0mmake_sentence\u001b[0m\u001b[0;34m(\u001b[0m\u001b[0;34m)\u001b[0m\u001b[0;34m)\u001b[0m\u001b[0;34m\u001b[0m\u001b[0;34m\u001b[0m\u001b[0m\n\u001b[0m",
            "\u001b[0;31mNameError\u001b[0m: name 'serious_model' is not defined"
          ]
        }
      ]
    },
    {
      "cell_type": "markdown",
      "metadata": {
        "id": "MDQHlJiFNO4B",
        "colab_type": "text"
      },
      "source": [
        "Create model and generate 20 sarcastic headlines"
      ]
    },
    {
      "cell_type": "code",
      "metadata": {
        "id": "OQOc0cWHNO4C",
        "colab_type": "code",
        "outputId": "23ffe994-556f-4d74-b6c2-476f3967aed4",
        "colab": {
          "base_uri": "https://localhost:8080/",
          "height": 371
        }
      },
      "source": [
        "for i in range(20):\n",
        "    print(sarcastic_model.make_sentence())"
      ],
      "execution_count": 16,
      "outputs": [
        {
          "output_type": "stream",
          "text": [
            "president's american manufacturing council down to single tofurkey\n",
            "holocaust film appeals to hispanic voters for return of bachmann's full attention\n",
            "man running toward departing train must have killed great white shark ride\n",
            "texas to execute death row inmates could decimate texas restaurant industry not that original\n",
            "man runs out of this\n",
            "nation surprised to see people as human shields\n",
            "ivana trump calls ex-husband to ask them how they could be last date in ages lets dangling modifier slide\n",
            "bono outbids everyone at work waiting to see the view from apartment's roof\n",
            "area woman always has backup problem just in case rest of year announced\n",
            "new study finds 85% of americans just want to give baby up for adoption\n",
            "man can get by in his state still effectively subhuman\n",
            "weary, cynical woman knows to look directly at sun\n",
            "well known gresham, or musicians form gresham, or musicians form gresham, or supergroup\n",
            "uneasy détente forms between man sitting on shower wall can't believe he's filming another blog off a computer monitor\n",
            "responsible man sets aside small portion of sat with all his wits to get over here\n",
            "valiant fact-checkers once again shines at office must be late, reports cunning viewer recognizing film's subtext\n",
            "bush fishing for compliments during press conference from couch behind podium\n",
            "homosexual tearfully admits to profiting from nazi documentaries\n",
            "coddled potted plant could never make it illegal to charge people money for when audience turns on fox news reporter unafraid to face the cold, hard factoids\n",
            "poll: 89% of americans forced to wait for collaboration with john mellencamp\n"
          ],
          "name": "stdout"
        }
      ]
    },
    {
      "cell_type": "markdown",
      "metadata": {
        "id": "xJ5Jwl8TNO4E",
        "colab_type": "text"
      },
      "source": [
        "## Text generation by Variation Autoencoder"
      ]
    },
    {
      "cell_type": "markdown",
      "metadata": {
        "id": "K63RFOc9NO4E",
        "colab_type": "text"
      },
      "source": [
        "This part of tutorial based on [Text generation with a Variational Autoencoder](https://nicgian.github.io/text-generation-vae/) article. For sentence generation we use Variational Autoencoder (VAE) neural network model that is an extension seq2seq model. Originally VAE was described in [Auto-Encoding Variational Bayes](https://arxiv.org/pdf/1312.6114.pdf) paper. The idea behind Variational Autoencoder is that we impose predefined disribution (e.g., normal distribution) on the latent state formed by encoder. On the one hand this restriction alow us to sample random vectors from normal distribution and generate arbitrary sentences. On the othe hand this restriction form very dense well differentiated space without holes"
      ]
    },
    {
      "cell_type": "code",
      "metadata": {
        "id": "p6gGt8yRNO4E",
        "colab_type": "code",
        "colab": {}
      },
      "source": [
        "import tensorflow as tf\n",
        "import tensorflow_addons as tfa\n",
        "\n",
        "\n",
        "from keras.layers import Bidirectional, Dense, Embedding, \\\n",
        "Input, Lambda, LSTM, RepeatVector, TimeDistributed, Layer, Activation, Dropout\n",
        "from keras.preprocessing.sequence import pad_sequences\n",
        "from keras.layers.advanced_activations import ELU\n",
        "from keras.preprocessing.text import Tokenizer\n",
        "from keras.callbacks import ModelCheckpoint\n",
        "from keras.optimizers import Adam\n",
        "from keras import backend as K\n",
        "from keras.models import Model\n",
        "\n",
        "from scipy import spatial\n",
        "import pandas as pd\n",
        "import numpy as np\n",
        "import codecs\n",
        "import random\n",
        "import csv\n",
        "import os\n",
        "\n",
        "from sklearn.model_selection import train_test_split"
      ],
      "execution_count": 0,
      "outputs": []
    },
    {
      "cell_type": "code",
      "metadata": {
        "id": "vppT5s81r3T-",
        "colab_type": "code",
        "colab": {
          "base_uri": "https://localhost:8080/",
          "height": 33
        },
        "outputId": "e78ec747-2527-4585-da40-c0cd5944dd2d"
      },
      "source": [
        "%tensorflow_version 2.x\n",
        "import tensorflow as tf\n",
        "device_name = tf.test.gpu_device_name()\n",
        "if device_name != '/device:GPU:0':\n",
        "  raise SystemError('GPU device not found')\n",
        "print('Found GPU at: {}'.format(device_name))"
      ],
      "execution_count": 52,
      "outputs": [
        {
          "output_type": "stream",
          "text": [
            "Found GPU at: /device:GPU:0\n"
          ],
          "name": "stdout"
        }
      ]
    },
    {
      "cell_type": "markdown",
      "metadata": {
        "id": "JG9qeYThNO4H",
        "colab_type": "text"
      },
      "source": [
        "Dowload [GloVe](http://nlp.stanford.edu/data/glove.6B.zip) pretrained word embedding vectors"
      ]
    },
    {
      "cell_type": "code",
      "metadata": {
        "id": "wliKwdPug6qN",
        "colab_type": "code",
        "outputId": "7fa55c37-c608-41b1-94b1-52b8e7033843",
        "colab": {
          "base_uri": "https://localhost:8080/",
          "height": 301
        }
      },
      "source": [
        "!wget http://nlp.stanford.edu/data/glove.6B.zip"
      ],
      "execution_count": 53,
      "outputs": [
        {
          "output_type": "stream",
          "text": [
            "--2020-05-24 19:14:24--  http://nlp.stanford.edu/data/glove.6B.zip\n",
            "Resolving nlp.stanford.edu (nlp.stanford.edu)... 171.64.67.140\n",
            "Connecting to nlp.stanford.edu (nlp.stanford.edu)|171.64.67.140|:80... connected.\n",
            "HTTP request sent, awaiting response... 302 Found\n",
            "Location: https://nlp.stanford.edu/data/glove.6B.zip [following]\n",
            "--2020-05-24 19:14:25--  https://nlp.stanford.edu/data/glove.6B.zip\n",
            "Connecting to nlp.stanford.edu (nlp.stanford.edu)|171.64.67.140|:443... connected.\n",
            "HTTP request sent, awaiting response... 301 Moved Permanently\n",
            "Location: http://downloads.cs.stanford.edu/nlp/data/glove.6B.zip [following]\n",
            "--2020-05-24 19:14:25--  http://downloads.cs.stanford.edu/nlp/data/glove.6B.zip\n",
            "Resolving downloads.cs.stanford.edu (downloads.cs.stanford.edu)... 171.64.64.22\n",
            "Connecting to downloads.cs.stanford.edu (downloads.cs.stanford.edu)|171.64.64.22|:80... connected.\n",
            "HTTP request sent, awaiting response... 200 OK\n",
            "Length: 862182613 (822M) [application/zip]\n",
            "Saving to: ‘glove.6B.zip.1’\n",
            "\n",
            "glove.6B.zip.1        0%[                    ] 898.60K  3.80MB/s               ^C\n"
          ],
          "name": "stdout"
        }
      ]
    },
    {
      "cell_type": "code",
      "metadata": {
        "id": "4bkWe_Rnl-Gv",
        "colab_type": "code",
        "outputId": "6f07a5b9-377d-4fa6-cf73-ce585a360b55",
        "colab": {
          "base_uri": "https://localhost:8080/",
          "height": 100
        }
      },
      "source": [
        "! unzip glove.6B.zip"
      ],
      "execution_count": 13,
      "outputs": [
        {
          "output_type": "stream",
          "text": [
            "Archive:  glove.6B.zip\n",
            "  inflating: glove.6B.50d.txt        \n",
            "  inflating: glove.6B.100d.txt       \n",
            "  inflating: glove.6B.200d.txt       \n",
            "  inflating: glove.6B.300d.txt       \n"
          ],
          "name": "stdout"
        }
      ]
    },
    {
      "cell_type": "code",
      "metadata": {
        "id": "LRO5eyfjNO4H",
        "colab_type": "code",
        "colab": {}
      },
      "source": [
        "MAX_SEQUENCE_LENGTH = 15 # Max text length in tokens\n",
        "MAX_NB_WORDS = 20000 # Max words in dictionary\n",
        "EMBEDDING_DIM = 50 # Dimensionality of GloVe vectors \n",
        "\n",
        "GLOVE_EMBEDDING = 'glove.6B.50d.txt'\n",
        "\n",
        "train_data, val_data = train_test_split(data, test_size = .25, random_state= 42)\n",
        "train_data.to_csv('train_data.csv')\n",
        "val_data.to_csv('val_data.csv')\n"
      ],
      "execution_count": 0,
      "outputs": []
    },
    {
      "cell_type": "markdown",
      "metadata": {
        "id": "yZIhktGyNO4J",
        "colab_type": "text"
      },
      "source": [
        "Create sentence tokenizer and two dictionaries: word_to_id and id_to_word\n",
        "\n",
        "For tokenisation we use [Tokenizer](https://www.tensorflow.org/api_docs/python/tf/keras/preprocessing/text/Tokenizer) from keras library."
      ]
    },
    {
      "cell_type": "code",
      "metadata": {
        "id": "eIqnRARPgCiT",
        "colab_type": "code",
        "colab": {}
      },
      "source": [
        "import re\n",
        "txt = texts_sarcastic+ texts_serious\n",
        "txt = [re.sub(f\"\\'\",'',sent) for sent in txt]\n"
      ],
      "execution_count": 0,
      "outputs": []
    },
    {
      "cell_type": "code",
      "metadata": {
        "id": "mUan2IgCNO4J",
        "colab_type": "code",
        "colab": {}
      },
      "source": [
        " #your code here\n",
        "\n",
        "tokenizer = Tokenizer(MAX_NB_WORDS)\n",
        "tokenizer.fit_on_texts(txt)\n",
        "word_to_id = tokenizer.word_index \n",
        "word_to_id = {k:v for k,v in  word_to_id.items()}\n",
        "id_to_word = {v:k for k,v in word_to_id.items()}"
      ],
      "execution_count": 0,
      "outputs": []
    },
    {
      "cell_type": "markdown",
      "metadata": {
        "id": "JGO1n0wyNO4L",
        "colab_type": "text"
      },
      "source": [
        "Tokenize sarcastic texts and create tensor composed of tokens indexes. If a sentence shorter than MAX_SEQUENCE_LENGTH we pad it. If a sentence longer than MAX_SEQUENCE_LENGTH we cut it."
      ]
    },
    {
      "cell_type": "code",
      "metadata": {
        "id": "3jsUsnDoNO4L",
        "colab_type": "code",
        "colab": {}
      },
      "source": [
        "#your code here\n",
        "\n",
        "sequences = tokenizer.texts_to_sequences(texts_sarcastic)\n",
        "sequences = pad_sequences(sequences, maxlen=MAX_SEQUENCE_LENGTH, padding = 'post')\n",
        "\n",
        "NB_WORDS = (min(tokenizer.num_words, len(word_to_id)) + 1 )"
      ],
      "execution_count": 0,
      "outputs": []
    },
    {
      "cell_type": "code",
      "metadata": {
        "id": "VhUP3Vz5jGGE",
        "colab_type": "code",
        "outputId": "f45c8b71-bba9-45ca-f9b6-18e3d596c14d",
        "colab": {
          "base_uri": "https://localhost:8080/",
          "height": 134
        }
      },
      "source": [
        "sequences"
      ],
      "execution_count": 58,
      "outputs": [
        {
          "output_type": "execute_result",
          "data": {
            "text/plain": [
              "array([[15263,   360,  3224, ...,     0,     0,     0],\n",
              "       [11177,  1569,  6428, ...,     0,     0,     0],\n",
              "       [  449,   495,   305, ...,     0,     0,     0],\n",
              "       ...,\n",
              "       [ 5853,  7197,  5609, ...,     0,     0,     0],\n",
              "       [ 1894,  1328,  3317, ...,     0,     0,     0],\n",
              "       [  217,  3290,    20, ...,     0,     0,     0]], dtype=int32)"
            ]
          },
          "metadata": {
            "tags": []
          },
          "execution_count": 58
        }
      ]
    },
    {
      "cell_type": "code",
      "metadata": {
        "id": "6ZbZ5hKllVpH",
        "colab_type": "code",
        "outputId": "4467b80b-f844-4aea-d07f-b2576a8d9578",
        "colab": {
          "base_uri": "https://localhost:8080/",
          "height": 404
        }
      },
      "source": [
        "train_data"
      ],
      "execution_count": 59,
      "outputs": [
        {
          "output_type": "execute_result",
          "data": {
            "text/html": [
              "<div>\n",
              "<style scoped>\n",
              "    .dataframe tbody tr th:only-of-type {\n",
              "        vertical-align: middle;\n",
              "    }\n",
              "\n",
              "    .dataframe tbody tr th {\n",
              "        vertical-align: top;\n",
              "    }\n",
              "\n",
              "    .dataframe thead th {\n",
              "        text-align: right;\n",
              "    }\n",
              "</style>\n",
              "<table border=\"1\" class=\"dataframe\">\n",
              "  <thead>\n",
              "    <tr style=\"text-align: right;\">\n",
              "      <th></th>\n",
              "      <th>is_sarcastic</th>\n",
              "      <th>headline</th>\n",
              "      <th>article_link</th>\n",
              "    </tr>\n",
              "  </thead>\n",
              "  <tbody>\n",
              "    <tr>\n",
              "      <th>28580</th>\n",
              "      <td>False</td>\n",
              "      <td>pit bull lovers gather in washington</td>\n",
              "      <td>https://www.huffingtonpost.com/entry/pit-bull-...</td>\n",
              "    </tr>\n",
              "    <tr>\n",
              "      <th>14354</th>\n",
              "      <td>True</td>\n",
              "      <td>new tech-support caste arises in india</td>\n",
              "      <td>https://www.theonion.com/new-tech-support-cast...</td>\n",
              "    </tr>\n",
              "    <tr>\n",
              "      <th>19070</th>\n",
              "      <td>True</td>\n",
              "      <td>amazing original thing to become hated cliché ...</td>\n",
              "      <td>https://www.theonion.com/amazing-original-thin...</td>\n",
              "    </tr>\n",
              "    <tr>\n",
              "      <th>5045</th>\n",
              "      <td>False</td>\n",
              "      <td>united airlines temporarily suspends cargo tra...</td>\n",
              "      <td>https://www.huffingtonpost.com/entry/united-su...</td>\n",
              "    </tr>\n",
              "    <tr>\n",
              "      <th>24640</th>\n",
              "      <td>False</td>\n",
              "      <td>cuba and the united states: the long view</td>\n",
              "      <td>https://www.huffingtonpost.com/entry/cuba-and-...</td>\n",
              "    </tr>\n",
              "    <tr>\n",
              "      <th>...</th>\n",
              "      <td>...</td>\n",
              "      <td>...</td>\n",
              "      <td>...</td>\n",
              "    </tr>\n",
              "    <tr>\n",
              "      <th>21575</th>\n",
              "      <td>True</td>\n",
              "      <td>turnout lower than expected for gala central a...</td>\n",
              "      <td>https://www.theonion.com/turnout-lower-than-ex...</td>\n",
              "    </tr>\n",
              "    <tr>\n",
              "      <th>5390</th>\n",
              "      <td>True</td>\n",
              "      <td>retreating clinton campaign torches iowa town ...</td>\n",
              "      <td>https://politics.theonion.com/retreating-clint...</td>\n",
              "    </tr>\n",
              "    <tr>\n",
              "      <th>860</th>\n",
              "      <td>True</td>\n",
              "      <td>national weather service to give hurricanes fu...</td>\n",
              "      <td>https://www.theonion.com/national-weather-serv...</td>\n",
              "    </tr>\n",
              "    <tr>\n",
              "      <th>15795</th>\n",
              "      <td>True</td>\n",
              "      <td>christ returns for some of his old things</td>\n",
              "      <td>https://www.theonion.com/christ-returns-for-so...</td>\n",
              "    </tr>\n",
              "    <tr>\n",
              "      <th>23654</th>\n",
              "      <td>True</td>\n",
              "      <td>loophole in curse lets archaeologist off the hook</td>\n",
              "      <td>https://www.theonion.com/loophole-in-curse-let...</td>\n",
              "    </tr>\n",
              "  </tbody>\n",
              "</table>\n",
              "<p>21464 rows × 3 columns</p>\n",
              "</div>"
            ],
            "text/plain": [
              "       is_sarcastic  ...                                       article_link\n",
              "28580         False  ...  https://www.huffingtonpost.com/entry/pit-bull-...\n",
              "14354          True  ...  https://www.theonion.com/new-tech-support-cast...\n",
              "19070          True  ...  https://www.theonion.com/amazing-original-thin...\n",
              "5045          False  ...  https://www.huffingtonpost.com/entry/united-su...\n",
              "24640         False  ...  https://www.huffingtonpost.com/entry/cuba-and-...\n",
              "...             ...  ...                                                ...\n",
              "21575          True  ...  https://www.theonion.com/turnout-lower-than-ex...\n",
              "5390           True  ...  https://politics.theonion.com/retreating-clint...\n",
              "860            True  ...  https://www.theonion.com/national-weather-serv...\n",
              "15795          True  ...  https://www.theonion.com/christ-returns-for-so...\n",
              "23654          True  ...  https://www.theonion.com/loophole-in-curse-let...\n",
              "\n",
              "[21464 rows x 3 columns]"
            ]
          },
          "metadata": {
            "tags": []
          },
          "execution_count": 59
        }
      ]
    },
    {
      "cell_type": "markdown",
      "metadata": {
        "id": "ehtDdjiDNO4N",
        "colab_type": "text"
      },
      "source": [
        "Define batch generator to train a neural network\n",
        "\n",
        "For padding sentences to max length we use [pad_sequences](https://www.tensorflow.org/api_docs/python/tf/keras/preprocessing/sequence/pad_sequences)"
      ]
    },
    {
      "cell_type": "code",
      "metadata": {
        "id": "jTj-u-QvNO4O",
        "colab_type": "code",
        "outputId": "47644a93-8d51-4fcb-bb97-36e76256ca26",
        "colab": {
          "base_uri": "https://localhost:8080/",
          "height": 288
        }
      },
      "source": [
        "def sent_generator(TRAIN_DATA_FILE, batchsize):\n",
        "    # Create iterator that reads dataset file batch by batch \n",
        "    #your code here\n",
        "    #Suffle the data file\n",
        "    full = pd.read_csv(TRAIN_DATA_FILE)\n",
        "    indexes = np.random.choice (range(len(full)),len(full),False)\n",
        "    \n",
        "    shuffled = full.iloc[indexes]\n",
        "\n",
        "    reader = [shuffled.iloc[batchsize*i: batchsize*i +batchsize,:] for i in range(int(np.ceil(len(full)/batchsize)))]\n",
        "\n",
        "    reader = pd.read_csv(TRAIN_DATA_FILE, chunksize= batchsize, iterator= True)\n",
        "    \n",
        "    for df in reader:\n",
        "\n",
        "        # Read a column that contains headlines\n",
        "        #your code here\n",
        "        texts = list(df['headline'])\n",
        "        texts = [re.sub(\"\\'\",'',sent) for sent in texts]\n",
        "        if len (texts)<batchsize:\n",
        "          texts = texts + [' ']*(batchsize - len(texts))\n",
        "\n",
        "        # Tokenize texts and create padded tensor composed of tokens indexes\n",
        "        sequences = tokenizer.texts_to_sequences(texts)\n",
        "        sequences = pad_sequences(sequences, maxlen=MAX_SEQUENCE_LENGTH, padding='post')\n",
        "        \n",
        "        # Return input-target pairs\n",
        "        #your code here\n",
        "\n",
        "        yield [sequences, sequences] \n",
        "\n",
        "print([a for a in sent_generator('train_data.csv',  4)][:1])"
      ],
      "execution_count": 60,
      "outputs": [
        {
          "output_type": "stream",
          "text": [
            "[[array([[ 3439,  3440,  4566,  2317,     4,   544,     0,     0,     0,\n",
            "            0,     0,     0,     0,     0,     0],\n",
            "       [   11,  1266,   330,  8986, 18482,     4,  1951,     0,     0,\n",
            "            0,     0,     0,     0,     0,     0],\n",
            "       [  987,  2236,   222,     1,   719,  6770, 10451,     4,   205,\n",
            "          566,     0,     0,     0,     0,     0],\n",
            "       [  696,  1412,  5529,  5412,  6587,   662,     5,  4025,     0,\n",
            "            0,     0,     0,     0,     0,     0]], dtype=int32), array([[ 3439,  3440,  4566,  2317,     4,   544,     0,     0,     0,\n",
            "            0,     0,     0,     0,     0,     0],\n",
            "       [   11,  1266,   330,  8986, 18482,     4,  1951,     0,     0,\n",
            "            0,     0,     0,     0,     0,     0],\n",
            "       [  987,  2236,   222,     1,   719,  6770, 10451,     4,   205,\n",
            "          566,     0,     0,     0,     0,     0],\n",
            "       [  696,  1412,  5529,  5412,  6587,   662,     5,  4025,     0,\n",
            "            0,     0,     0,     0,     0,     0]], dtype=int32)]]\n"
          ],
          "name": "stdout"
        }
      ]
    },
    {
      "cell_type": "markdown",
      "metadata": {
        "id": "2ez-r3kaNO4Q",
        "colab_type": "text"
      },
      "source": [
        "Load pretrained GloVe vectors described in [GloVe: Global Vectors for Word Representation](https://nlp.stanford.edu/pubs/glove.pdf) paper"
      ]
    },
    {
      "cell_type": "code",
      "metadata": {
        "id": "lN0hxN0wNO4Q",
        "colab_type": "code",
        "outputId": "6297b325-13cb-496b-cf7a-7501a01cc176",
        "colab": {
          "base_uri": "https://localhost:8080/",
          "height": 33
        }
      },
      "source": [
        "embeddings_index = {}\n",
        "with open('glove.6B.50d.txt', encoding='utf-8') as f:\n",
        "    # read rows from file line by line\n",
        "    for line in f:\n",
        "        values = line.split()\n",
        "        word = values[0] # Get word\n",
        "        coefs = np.asarray(values[1:], dtype='float32') # Get elements of word's vector\n",
        "        embeddings_index[word] = coefs\n",
        "\n",
        "print('Found %s word vectors.' % len(embeddings_index))"
      ],
      "execution_count": 61,
      "outputs": [
        {
          "output_type": "stream",
          "text": [
            "Found 400000 word vectors.\n"
          ],
          "name": "stdout"
        }
      ]
    },
    {
      "cell_type": "markdown",
      "metadata": {
        "id": "dUDA9KQzNO4T",
        "colab_type": "text"
      },
      "source": [
        "Create matrix from embedding vectors. Any row of the matrix is a word's vector. We get words from the dictionary word_to_id defined earlier."
      ]
    },
    {
      "cell_type": "code",
      "metadata": {
        "id": "Gkr2nZYUNO4U",
        "colab_type": "code",
        "outputId": "7d8c472e-2cee-40f1-fa24-699d74a10812",
        "colab": {
          "base_uri": "https://localhost:8080/",
          "height": 33
        }
      },
      "source": [
        "glove_embedding_matrix = np.zeros((NB_WORDS, EMBEDDING_DIM)) # Create empty matrix (max number of tokens, dimension of the embedding vectors)\n",
        "not_in_glove=0\n",
        "nig = []\n",
        "for word, i in word_to_id.items():\n",
        "    #your code here\n",
        "    if i<NB_WORDS:\n",
        "      try:\n",
        "        glove_embedding_matrix[i] = embeddings_index[word]\n",
        "      except:\n",
        "        nig.append(word)\n",
        "        glove_embedding_matrix[i] = embeddings_index['unk']\n",
        "        not_in_glove+=1\n",
        "        continue\n",
        "# compute number of words which there aren't in the GloVe vectors\n",
        "print(f'Null word embeddings: {not_in_glove}')"
      ],
      "execution_count": 62,
      "outputs": [
        {
          "output_type": "stream",
          "text": [
            "Null word embeddings: 626\n"
          ],
          "name": "stdout"
        }
      ]
    },
    {
      "cell_type": "markdown",
      "metadata": {
        "id": "AQ1gaqKSNO4X",
        "colab_type": "text"
      },
      "source": [
        "Define parameters of the net"
      ]
    },
    {
      "cell_type": "code",
      "metadata": {
        "id": "bfIX5PmCSQqW",
        "colab_type": "code",
        "colab": {
          "base_uri": "https://localhost:8080/",
          "height": 1000
        },
        "outputId": "95e2c2e4-d923-4802-d90e-3b27123f6cdc"
      },
      "source": [
        "nig"
      ],
      "execution_count": 63,
      "outputs": [
        {
          "output_type": "execute_result",
          "data": {
            "text/plain": [
              "['shouldnt',\n",
              " 'youve',\n",
              " 'huffpollster',\n",
              " 'familys',\n",
              " 'theyve',\n",
              " 'nsfw',\n",
              " 'oreilly',\n",
              " 'theyll',\n",
              " 'selfie',\n",
              " 'wifes',\n",
              " 'daca',\n",
              " 'brexit',\n",
              " 'metoo',\n",
              " 'cnns',\n",
              " 'werent',\n",
              " 'reince',\n",
              " 'pences',\n",
              " 'arbys',\n",
              " 'netflixs',\n",
              " 'industrys',\n",
              " 'everyones',\n",
              " 'rubios',\n",
              " 'itll',\n",
              " 'zuckerbergs',\n",
              " 'rupauls',\n",
              " 'nras',\n",
              " 'trumpcare',\n",
              " 'blasey',\n",
              " 'shits',\n",
              " 'omalley',\n",
              " 'bannons',\n",
              " 'theyd',\n",
              " 'emoji',\n",
              " 'disick',\n",
              " 'wouldve',\n",
              " 'chicagos',\n",
              " 'nobodys',\n",
              " 'shithole',\n",
              " 'couldve',\n",
              " 'applebees',\n",
              " 'scalias',\n",
              " 'facebooks',\n",
              " 'comeys',\n",
              " 'thatll',\n",
              " 'laquan',\n",
              " 'shkreli',\n",
              " '000th',\n",
              " 'breakroom',\n",
              " 'cruzs',\n",
              " 'markles',\n",
              " 'tonights',\n",
              " 'carsons',\n",
              " 'obamacares',\n",
              " 'cordens',\n",
              " 'selfies',\n",
              " 'kimye',\n",
              " 'beyoncés',\n",
              " 'emojis',\n",
              " 'huffposts',\n",
              " 'syrias',\n",
              " 'adeles',\n",
              " 'fallons',\n",
              " 'icymi',\n",
              " 'cmon',\n",
              " 'infowars',\n",
              " 'hadnt',\n",
              " 'gchat',\n",
              " 'fuckup',\n",
              " 'dipshit',\n",
              " 'truther',\n",
              " 'michelles',\n",
              " 'hatchimals',\n",
              " 'orourke',\n",
              " 'robble',\n",
              " 'irmas',\n",
              " 'dipshits',\n",
              " 'dumbass',\n",
              " 'pornhub',\n",
              " 'shitting',\n",
              " 'everythings',\n",
              " 'bosss',\n",
              " 'oppendahl',\n",
              " 'boehners',\n",
              " 'arpaios',\n",
              " 'kalanick',\n",
              " 'ohios',\n",
              " 'vaxxers',\n",
              " 'trumpism',\n",
              " 'hawaiis',\n",
              " 'paddleboarder',\n",
              " 'lahren',\n",
              " 'warmbier',\n",
              " 'promposal',\n",
              " 'blacklivesmatter',\n",
              " 'michigans',\n",
              " 'philando',\n",
              " 'whcd',\n",
              " 'mh370',\n",
              " 'leelah',\n",
              " 'scaramucci',\n",
              " 'greeces',\n",
              " 'hb2',\n",
              " 'colombias',\n",
              " 'oitnb',\n",
              " 'donts',\n",
              " 'rolos',\n",
              " 'cryptocurrency',\n",
              " 'euphemized',\n",
              " 'societys',\n",
              " 'oclock',\n",
              " 'retweeting',\n",
              " 'egypts',\n",
              " 'anistons',\n",
              " 'chalamet',\n",
              " 'dumbshit',\n",
              " 'autoplaying',\n",
              " 'tammys',\n",
              " 'kirstjen',\n",
              " 'ricola',\n",
              " 'kozlewski',\n",
              " 'urinator',\n",
              " 'comfier',\n",
              " 'masturbators',\n",
              " 'waaah',\n",
              " 'vaticans',\n",
              " 'pussies',\n",
              " 'merkels',\n",
              " 'reapplies',\n",
              " 'carmex',\n",
              " 'rewatching',\n",
              " 'raisinets',\n",
              " 'greenspans',\n",
              " 'hersheys',\n",
              " 'moltzvah',\n",
              " 'melanias',\n",
              " 'hellmanns',\n",
              " 'markered',\n",
              " 'hawkings',\n",
              " 'ladys',\n",
              " 'masturbator',\n",
              " 'altoid',\n",
              " 'humanitys',\n",
              " 'hannitys',\n",
              " 'shithead',\n",
              " 'smores',\n",
              " 'stouffers',\n",
              " 'paltrows',\n",
              " 'moviepass',\n",
              " 'rncs',\n",
              " 'draftkings',\n",
              " 'ivankas',\n",
              " 'precheck',\n",
              " 'beethovens',\n",
              " 'hellscape',\n",
              " 'alabamas',\n",
              " 'gnar',\n",
              " 'retweets',\n",
              " 'bowies',\n",
              " 'antarcticas',\n",
              " 'isil',\n",
              " 'abduls',\n",
              " 'instagrams',\n",
              " 'gorsuchs',\n",
              " 'balvin',\n",
              " 'lopezs',\n",
              " 'kalief',\n",
              " 'russiagate',\n",
              " 'twitterverse',\n",
              " 'motherf',\n",
              " 'philadelphias',\n",
              " 'beyhive',\n",
              " 'motawi',\n",
              " 'oreillys',\n",
              " 'burmas',\n",
              " 'oregons',\n",
              " 'harambes',\n",
              " 'nyfw',\n",
              " 'bullsh',\n",
              " 'teuwen',\n",
              " 'detroits',\n",
              " 'gagas',\n",
              " 'franciscos',\n",
              " 'nigerias',\n",
              " 'witherspoons',\n",
              " 'newfront',\n",
              " 'chibok',\n",
              " 'kentuckys',\n",
              " 'gadot',\n",
              " 'rihannas',\n",
              " 'trumpian',\n",
              " 'thiels',\n",
              " 'nycs',\n",
              " 'odonnells',\n",
              " 'unbreak',\n",
              " 'obvi',\n",
              " 'brooklyns',\n",
              " 'teigens',\n",
              " 'despacito',\n",
              " 'shouldve',\n",
              " 'handsy',\n",
              " 'whove',\n",
              " 'nevertrump',\n",
              " '6x60',\n",
              " 'emilys',\n",
              " 'alcorns',\n",
              " 'broadways',\n",
              " 'coachs',\n",
              " 'odonnell',\n",
              " 'bloombergs',\n",
              " 'universitys',\n",
              " 'daraya',\n",
              " 'kanyes',\n",
              " 'ibtihaj',\n",
              " 'snls',\n",
              " '2014s',\n",
              " 'besties',\n",
              " 'ugandas',\n",
              " 'dutertes',\n",
              " 'buress',\n",
              " 'rodriguezs',\n",
              " 'nasas',\n",
              " 'hiddlestons',\n",
              " 'dashcam',\n",
              " 'talktome',\n",
              " 'seaworlds',\n",
              " '¯',\n",
              " 'douchey',\n",
              " 'ukraines',\n",
              " 'kassig',\n",
              " 'lahrens',\n",
              " 'bransons',\n",
              " 'wideawakepatriot',\n",
              " 'cocksucker',\n",
              " 'tsarnaevs',\n",
              " 'cologned',\n",
              " 'airbrushes',\n",
              " 'xenomorphs',\n",
              " 'blabs',\n",
              " 'pie\\x99',\n",
              " 'cocksuckers',\n",
              " 'molestist',\n",
              " 'pfizers',\n",
              " 'porkys',\n",
              " 'blaseys',\n",
              " 'atony',\n",
              " 'semiotism',\n",
              " 'magrittes',\n",
              " 'megamalls',\n",
              " 'jesus—i',\n",
              " 'waitlist',\n",
              " 'trillionaire',\n",
              " 'underpetted',\n",
              " 'boofing',\n",
              " 'zandts',\n",
              " 'trebeks',\n",
              " 'canbys',\n",
              " 'plotholes',\n",
              " 'gorillagram',\n",
              " 'woodcrafts',\n",
              " 'dumbasses',\n",
              " 'apeshit',\n",
              " 'bowlmate',\n",
              " 'reinforcin',\n",
              " 'gilligans',\n",
              " 'toastables',\n",
              " 'seattles',\n",
              " 'jeffreyton',\n",
              " 'disasty',\n",
              " 'and—holy',\n",
              " 'cow—tony',\n",
              " 'award–nominated',\n",
              " 'conductor—really',\n",
              " 'wow—calypso',\n",
              " 'underpaved',\n",
              " '00000000001',\n",
              " 'frpx',\n",
              " 'k5je',\n",
              " 'oc4n',\n",
              " 'e5dn',\n",
              " 'fearmongers',\n",
              " 'naderite',\n",
              " 'lohans',\n",
              " 'start—and',\n",
              " 'tubmans',\n",
              " 'cracker–wise',\n",
              " 'cortezs',\n",
              " 'grandilomentitudinous',\n",
              " 'mustnt',\n",
              " 'skyeditor',\n",
              " 'sanderses',\n",
              " 'faild',\n",
              " 'nummier',\n",
              " 'sharons',\n",
              " 'mckinleys',\n",
              " 'michelangelos',\n",
              " 'exposer',\n",
              " 'zestitos',\n",
              " 'bombinks',\n",
              " 'disgustipating',\n",
              " 'cornnuts',\n",
              " 'nutsarito',\n",
              " 'horseconnect',\n",
              " 'reisers',\n",
              " 'midwifes',\n",
              " 'perate',\n",
              " 'nigels',\n",
              " 'tempurapedic',\n",
              " 'richies',\n",
              " 'brûlée',\n",
              " 'randos',\n",
              " 'delarge',\n",
              " 'ünited',\n",
              " 'stätes',\n",
              " 'functionless',\n",
              " 'macrowave',\n",
              " 'femstat',\n",
              " 'spumanti',\n",
              " '4se',\n",
              " 'quadriscuits',\n",
              " 'oldenburgs',\n",
              " 'gchats',\n",
              " 'samanthas',\n",
              " 'anchorwomans',\n",
              " 'hestons',\n",
              " 'underdraft',\n",
              " 'lady—remember',\n",
              " '—as',\n",
              " 'loeffelmacher',\n",
              " 'stardew',\n",
              " 'tbfoodsllc',\n",
              " 'dumptruck',\n",
              " 'chaplev',\n",
              " 'mildfires',\n",
              " 'grandchildrens',\n",
              " 'antifa',\n",
              " 'limbaughs',\n",
              " 'prehab',\n",
              " 'chapos',\n",
              " 'rumsfelds',\n",
              " 'wondersplint',\n",
              " 'kickline',\n",
              " 'pubes',\n",
              " 'jigglypuffs',\n",
              " 'ultrachurch',\n",
              " 'berrilicious',\n",
              " 'daddys',\n",
              " 'vieiras',\n",
              " 'whammys',\n",
              " 'doeuvres',\n",
              " 'sashas',\n",
              " 'kimmels',\n",
              " 'araa',\n",
              " 'kayboard',\n",
              " 'bustad',\n",
              " 'boiglerized',\n",
              " 'afterbirthers',\n",
              " 'actresss',\n",
              " 'repletion',\n",
              " 'billcosby',\n",
              " 'nunb',\n",
              " 'arnoth',\n",
              " 'blowjob',\n",
              " 'page–driven',\n",
              " 'waterstons',\n",
              " 'menks',\n",
              " 'lizzos',\n",
              " 'kushners',\n",
              " 'absentminded',\n",
              " 'm4m',\n",
              " 'foxs',\n",
              " 'wharton—wharton',\n",
              " 'ninetysomethings',\n",
              " 'photoshops',\n",
              " 'prizeless',\n",
              " '11717',\n",
              " 'uglification',\n",
              " 'woooo',\n",
              " 'destinys',\n",
              " 'tnts',\n",
              " 'robotrix',\n",
              " 'detangling',\n",
              " 'tedtalk',\n",
              " 'jncos',\n",
              " 'munchstrosity',\n",
              " 'layboratory',\n",
              " 'mlks',\n",
              " 'xabraxian',\n",
              " 'ireporters',\n",
              " 'spokesbeast',\n",
              " 'joels',\n",
              " 'fancyclothes',\n",
              " 'freakonomist',\n",
              " 'reactionist',\n",
              " 'unibeam',\n",
              " 'novλ',\n",
              " 'winwoods',\n",
              " 'christcon',\n",
              " 'mcmuffins',\n",
              " 'napkinless',\n",
              " 'cybergranny',\n",
              " 'indiscrimination',\n",
              " 'hägar',\n",
              " 'wahlbergs',\n",
              " 'radioheads',\n",
              " 'weak—theyre',\n",
              " 'liveblogged',\n",
              " 'megadeths',\n",
              " 'sniglets',\n",
              " '\\u200begyptian',\n",
              " '\\u200bmummies',\n",
              " 'qaddafis',\n",
              " 'tempurpedic',\n",
              " 'lhabab',\n",
              " 'duchen',\n",
              " 'titties',\n",
              " '00003',\n",
              " 'spokeschild',\n",
              " 'beautifies',\n",
              " 'monogramed',\n",
              " 'mitthew',\n",
              " 'dwarvish',\n",
              " 'apatows',\n",
              " 'torrenting',\n",
              " 'inedibles',\n",
              " 'crotchless',\n",
              " 'assing',\n",
              " 'asimovs',\n",
              " 'xylophonist',\n",
              " 'albanys',\n",
              " 'masterstoke',\n",
              " 'scampis',\n",
              " 'ruckeyser',\n",
              " 'rubbermaid\\x99',\n",
              " 'dolphinsoul60s',\n",
              " 'showerin',\n",
              " 'nxivm',\n",
              " 'bodymate',\n",
              " 'fanpage',\n",
              " 'badtz',\n",
              " 'superrman',\n",
              " 'copyediting',\n",
              " 'omnigrain',\n",
              " 'gchatting',\n",
              " 'dressbarn',\n",
              " 'bloodbombs',\n",
              " 'yeezy',\n",
              " 'upbraidings',\n",
              " 'barborak',\n",
              " 'gyno',\n",
              " 'cinnabontography',\n",
              " 'chobani',\n",
              " 'griecos',\n",
              " 'chers',\n",
              " 'shittiest',\n",
              " 'mastiffeagle',\n",
              " 'iowas',\n",
              " 'hatchers',\n",
              " 'wkzn',\n",
              " 'kurrencykook',\n",
              " 'loughlins',\n",
              " 'naawp',\n",
              " 'anesthetizes',\n",
              " '2651',\n",
              " 'strenlow',\n",
              " 'jamesons',\n",
              " 'picassoesque',\n",
              " 'ice–themed',\n",
              " '621st',\n",
              " 'luftwaffle',\n",
              " 'daleys',\n",
              " 'nepotist',\n",
              " 'scattergories',\n",
              " 'earthcuriously',\n",
              " 'mike4763',\n",
              " 'fedexed',\n",
              " 'uncuffing',\n",
              " 'antelopeater',\n",
              " 'mankinds',\n",
              " 'comedys',\n",
              " 'udays',\n",
              " 'nutsack',\n",
              " 'starfucker',\n",
              " 'publik',\n",
              " 'whooshsnaps',\n",
              " 'unicyclist',\n",
              " 'wikiconstitution',\n",
              " 'brueggers',\n",
              " 'mytron',\n",
              " 'arrhythmically',\n",
              " 'deepfake',\n",
              " 'jewmerica',\n",
              " 'acnefree',\n",
              " 'mayflys',\n",
              " 'doxing',\n",
              " 'monarchys',\n",
              " 'cannsas',\n",
              " 'feudalists',\n",
              " 'milanos',\n",
              " 'venezuelas',\n",
              " 'gummis',\n",
              " 'wait—sorry',\n",
              " 'celbritans',\n",
              " '–cuba',\n",
              " 'microlender',\n",
              " 'subhumanity',\n",
              " 'fixins',\n",
              " 'idol\\xa02',\n",
              " '\\xa0winner',\n",
              " 'freedoming',\n",
              " 'drixoral',\n",
              " 'krippendorfs',\n",
              " 'grisled',\n",
              " 'die\\xa0whispered',\n",
              " 'democracys',\n",
              " 'randalia',\n",
              " 'flandemic',\n",
              " 'sacagaweas',\n",
              " '\\u200bgleefully',\n",
              " '\\u200bmocked',\n",
              " 'raytheons',\n",
              " 'photoshopping',\n",
              " 'sneakiest',\n",
              " 'football—nah',\n",
              " 'fleshlighthouse',\n",
              " 'rezzed',\n",
              " 'fiancés',\n",
              " 'americans\\x97nations',\n",
              " 'jaskoviak',\n",
              " 'metrosexuality',\n",
              " 'medicruelty',\n",
              " 'mixxxx',\n",
              " 'squi',\n",
              " 'rhymezone',\n",
              " 'illegibly',\n",
              " 'cryosleep',\n",
              " 'underprotective',\n",
              " 'plasticware',\n",
              " 'nfls',\n",
              " 'overtipper',\n",
              " '10ths',\n",
              " 'anchormans',\n",
              " 'smithereen',\n",
              " 'clancys',\n",
              " 'embalmings',\n",
              " 'bakerys',\n",
              " 'éclairs',\n",
              " 'ossifies',\n",
              " 'skullfucking',\n",
              " 'purdues',\n",
              " 'badmouths',\n",
              " 'unpauses',\n",
              " 'bradburys',\n",
              " 'danishes',\n",
              " 'scrawlings',\n",
              " 'misbuttoned',\n",
              " '3822',\n",
              " 'bracketological',\n",
              " 'aykroyds',\n",
              " 'arizonas',\n",
              " 'turds',\n",
              " 'crennas',\n",
              " 'ihops',\n",
              " 'idahoan',\n",
              " 'loiterer',\n",
              " 'channings',\n",
              " 'buncha',\n",
              " 'historys',\n",
              " 'bachmanns',\n",
              " 'secretarian',\n",
              " 'islamophobe',\n",
              " 'otoole',\n",
              " 'thicks',\n",
              " 'bombie',\n",
              " 'streeps',\n",
              " 'not—she',\n",
              " 'hostings',\n",
              " 'inſurgency',\n",
              " 'hefners',\n",
              " 'handjob',\n",
              " '\\xa0\\xa0\\xa0\\xa0',\n",
              " 'stuporous',\n",
              " 'capn',\n",
              " 'belgiums',\n",
              " 'storkholders',\n",
              " 'eulogizer',\n",
              " 'subtember',\n",
              " 'refry',\n",
              " 'arrabiata',\n",
              " 'lenos',\n",
              " 'krugmans',\n",
              " 'schiavos',\n",
              " 'restocks',\n",
              " 'halloweiner',\n",
              " 'frankfest',\n",
              " 'scaramuccis',\n",
              " 'munchability',\n",
              " 'platinum–level',\n",
              " 'amtraks',\n",
              " 'loréal',\n",
              " 'syria—although',\n",
              " 'monteiths',\n",
              " 'townsperson',\n",
              " 'shopoholism',\n",
              " 'shoposauruses',\n",
              " 'flursday',\n",
              " 'shitload',\n",
              " 'cameltoe',\n",
              " 'odorite',\n",
              " 'craftmatic',\n",
              " 'congressmens',\n",
              " 'sabatinos',\n",
              " 'superstains',\n",
              " 'mccrazy',\n",
              " 'faceshield',\n",
              " 'kaines',\n",
              " 'batshitzania',\n",
              " 'zimmermans',\n",
              " 'kasparovs',\n",
              " 'fuckable',\n",
              " 'yothers',\n",
              " 'mansons',\n",
              " 'employees\\xa0newborn',\n",
              " 'zbt',\n",
              " 'mubaraks',\n",
              " 'venmo',\n",
              " 'gigabite']"
            ]
          },
          "metadata": {
            "tags": []
          },
          "execution_count": 63
        }
      ]
    },
    {
      "cell_type": "code",
      "metadata": {
        "id": "F4rw7A3mNO4Y",
        "colab_type": "code",
        "colab": {}
      },
      "source": [
        "batch_size = 64\n",
        "max_len = MAX_SEQUENCE_LENGTH\n",
        "emb_dim = EMBEDDING_DIM\n",
        "latent_dim = 32 # dimensionality of the hidden state in encoder and decoder RNN's\n",
        "intermediate_dim = 96 # dimensionality of variational space into which we map encoder's hidden state\n",
        "epsilon_std = 1.0 # standard deviation of gaussian noise\n",
        "act = ELU() # activation function of projection layer"
      ],
      "execution_count": 0,
      "outputs": []
    },
    {
      "cell_type": "markdown",
      "metadata": {
        "id": "sarNC5v1NO4c",
        "colab_type": "text"
      },
      "source": [
        "Encoder of the variational autoencoder. It based on bidirectional LSTM\n",
        "\n",
        "We use following layers: [Input](https://www.tensorflow.org/api_docs/python/tf/keras/Input), [Embedding](https://www.tensorflow.org/api_docs/python/tf/keras/layers/Embedding), [Bidirectional](https://www.tensorflow.org/api_docs/python/tf/keras/layers/Bidirectional), [LSTM](https://www.tensorflow.org/api_docs/python/tf/keras/layers/LSTM), [Dropout](https://www.tensorflow.org/api_docs/python/tf/keras/layers/Dropout), [Dense](https://www.tensorflow.org/api_docs/python/tf/keras/layers/Dense), [ELU](https://www.tensorflow.org/api_docs/python/tf/keras/layers/ELU)"
      ]
    },
    {
      "cell_type": "code",
      "metadata": {
        "id": "YgRQeNiGNO4d",
        "colab_type": "code",
        "colab": {}
      },
      "source": [
        "x = Input(batch_shape=(None, max_len)) # Input layer fo the net. \n",
        "# Write an embedding layer for the input sequences of indexes. \n",
        "# Use pretrained word embeddings as a embedding layer weights and don't update these weights\n",
        "\n",
        "#your code here\n",
        "x_embed = Embedding(NB_WORDS, emb_dim, weights=[glove_embedding_matrix],\n",
        "                            input_length=max_len, trainable=False)(x)\n",
        "\n",
        "\n",
        "# Bidirectional LSTM encoder\n",
        "\n",
        "#your code here\n",
        "h = Bidirectional(LSTM(intermediate_dim, return_sequences=False, recurrent_dropout=0.2), merge_mode='concat')(x_embed)\n",
        "\n",
        "\n",
        "\n",
        "h = Dropout(0.2)(h) # Dropout for the BiLSTM layer to avoid overfitting \n",
        "\n",
        "# Fully-connected layer to map encoder hidden state into variational space\n",
        "\n",
        "#your code here\n",
        "h = act(Dense(intermediate_dim, activation='linear')(h))\n",
        "\n",
        "h = Dropout(0.2)(h) # Dropout for the fully-connected layer to avoid overfitting \n",
        "z_mean = Dense(latent_dim)(h) # Fully-connected layer to map variational space into means space \n",
        "z_log_var = Dense(latent_dim)(h) # Fully-connected layer to map variational space into standard deviations space "
      ],
      "execution_count": 0,
      "outputs": []
    },
    {
      "cell_type": "markdown",
      "metadata": {
        "id": "61_EJbujNO4f",
        "colab_type": "text"
      },
      "source": [
        "The mechanism for sampling hidden vectors from variational space\n",
        "\n",
        "To apply it to our model we use [Lambda](https://www.tensorflow.org/api_docs/python/tf/keras/layers/Lambda) layer"
      ]
    },
    {
      "cell_type": "code",
      "metadata": {
        "id": "F5OGmTyuNO4f",
        "colab_type": "code",
        "colab": {}
      },
      "source": [
        "def sampling(args):\n",
        "    # Vectors from means space and standard deviations space respectively\n",
        "    z_mean, z_log_var = args\n",
        "    # Sample random vectors from normal distribution with mean=0 and std=epsilon_std\n",
        "    epsilon = K.random_normal(shape=(batch_size, latent_dim), mean=0.,\n",
        "                              stddev=epsilon_std)\n",
        "    \n",
        "    #your code here\n",
        "    \n",
        "    # Get new hidden state for decoder using vectors from means, standard deviations and normal random spaces\n",
        "    return z_mean + K.exp(z_log_var / 2) * epsilon\n",
        "\n",
        "# Get hidden states for the decoder\n",
        "z = Lambda(sampling, output_shape=(latent_dim,))([z_mean, z_log_var])"
      ],
      "execution_count": 0,
      "outputs": []
    },
    {
      "cell_type": "markdown",
      "metadata": {
        "id": "7U89BoV9NO4h",
        "colab_type": "text"
      },
      "source": [
        "Define decoder of the autoencoder\n",
        "\n",
        "For this we use following layers: [RepeatVector](https://www.tensorflow.org/api_docs/python/tf/keras/layers/RepeatVector), [LSTM](https://www.tensorflow.org/api_docs/python/tf/keras/layers/LSTM), [TimeDistributed](https://www.tensorflow.org/api_docs/python/tf/keras/layers/TimeDistributed), [Dense](https://www.tensorflow.org/api_docs/python/tf/keras/layers/Dense)"
      ]
    },
    {
      "cell_type": "code",
      "metadata": {
        "id": "9kD2_yfJNO4h",
        "colab_type": "code",
        "colab": {}
      },
      "source": [
        "# Repeat the hidden state vector to form input sequence for decoder\n",
        "repeated_context = RepeatVector(max_len)\n",
        "# Decoder LSTM\n",
        "decoder_h = LSTM(intermediate_dim, return_sequences=True, recurrent_dropout=0.2)\n",
        "# Layer for mapping from hidden satates space to the space of dimension equal to size of vocabulary\n",
        "decoder_mean = TimeDistributed(Dense(NB_WORDS, activation='linear'))\n",
        "# Generated sequence\n",
        "h_decoded = decoder_h(repeated_context(z))\n",
        "# Decode every time step vector of the decoded sequence into space of dimension equal to size of vocabulary\n",
        "x_decoded_mean = decoder_mean(h_decoded)"
      ],
      "execution_count": 0,
      "outputs": []
    },
    {
      "cell_type": "markdown",
      "metadata": {
        "id": "2f90V8-ENO4i",
        "colab_type": "text"
      },
      "source": [
        "Define layer for loss computing"
      ]
    },
    {
      "cell_type": "code",
      "metadata": {
        "id": "mjIXaSO8NO4j",
        "colab_type": "code",
        "colab": {}
      },
      "source": [
        "def zero_loss(y_true, y_pred):\n",
        "    # Return tensor filled with ones with shape equal generated sequence shape\n",
        "    return K.zeros_like(y_pred)\n",
        "\n",
        "\n",
        "def kl_loss(x, x_decoded_mean):\n",
        "    kl_loss = - 0.5 * K.sum(1 + z_log_var - K.square(z_mean) - K.exp(z_log_var), axis=-1)\n",
        "    kl_loss = kl_weight * kl_loss\n",
        "    return kl_loss\n"
      ],
      "execution_count": 0,
      "outputs": []
    },
    {
      "cell_type": "code",
      "metadata": {
        "id": "SU1cXC0tNO4k",
        "colab_type": "code",
        "colab": {}
      },
      "source": [
        "kl_weight = .01\n",
        "class CustomVariationalLayer(Layer):\n",
        "    def __init__(self, **kwargs):\n",
        "        self.is_placeholder = True\n",
        "        super(CustomVariationalLayer, self).__init__(**kwargs)\n",
        "        # Create tensor (batch_size, max_sequence_len) filled with ones to consider all elements of generated sequence \n",
        "        self.target_weights = tf.constant(np.ones((batch_size, max_len)), tf.float32)\n",
        "\n",
        "    def vae_loss(self, x, x_decoded_mean):\n",
        "        # Get tensor with similar shape as x\n",
        "        labels = tf.cast(x, tf.int32)\n",
        "        # Compute sequence reconstruction loss\n",
        "        xent_loss = K.sum(tfa.seq2seq.sequence_loss(x_decoded_mean, labels,\n",
        "                                                    weights=self.target_weights,\n",
        "                                                    average_across_timesteps=False,\n",
        "                                                    average_across_batch=False), axis=-1)\n",
        "        # Compute KL-divergence as Variational loss \n",
        "        kl_loss = -0.5 * K.sum(1 + z_log_var - K.square(z_mean) - K.exp(z_log_var), axis=-1)\n",
        "        # Composite loss (reconstruction loss + Variational loss)\n",
        "        return K.mean(xent_loss + kl_loss)\n",
        "\n",
        "    def call(self, inputs):\n",
        "        x = inputs[0] # input sequence\n",
        "        x_decoded_mean = inputs[1] # reconstructed sequence\n",
        "        print(x.shape, x_decoded_mean.shape)\n",
        "        loss = self.vae_loss(x, x_decoded_mean) # Compute loss of the model\n",
        "        self.add_loss(loss, inputs=inputs)\n",
        "        # we don't use this output, but it has to have the correct shape\n",
        "        return K.ones_like(x)"
      ],
      "execution_count": 0,
      "outputs": []
    },
    {
      "cell_type": "markdown",
      "metadata": {
        "id": "a8GYYLM0NO4m",
        "colab_type": "text"
      },
      "source": [
        "Assemble the model\n",
        "\n",
        "To define model we use [Model](https://www.tensorflow.org/api_docs/python/tf/keras/Model) from tensorflow.\n",
        "\n",
        "To train model employ [Adam](https://www.tensorflow.org/api_docs/python/tf/keras/optimizers/Adam) optimization algorithm"
      ]
    },
    {
      "cell_type": "code",
      "metadata": {
        "id": "zQ9Zwt9DNO4n",
        "colab_type": "code",
        "outputId": "2c5e89d5-f48d-45ab-b439-2b2a2f74505f",
        "colab": {
          "base_uri": "https://localhost:8080/",
          "height": 669
        }
      },
      "source": [
        "# Create custom layer for loss computing\n",
        "loss_layer = CustomVariationalLayer()([x, x_decoded_mean])\n",
        "\n",
        "vae = Model(x, [loss_layer])\n",
        "# Use Adam optimizer with learning rate = 0.01\n",
        "opt = Adam(lr=0.01)\n",
        "vae.compile(optimizer=opt, loss=[zero_loss], metrics=[kl_loss])\n",
        "# Show model structure\n",
        "vae.summary()"
      ],
      "execution_count": 86,
      "outputs": [
        {
          "output_type": "stream",
          "text": [
            "(None, 15) (64, 15, 20001)\n",
            "Model: \"model_12\"\n",
            "__________________________________________________________________________________________________\n",
            "Layer (type)                    Output Shape         Param #     Connected to                     \n",
            "==================================================================================================\n",
            "input_4 (InputLayer)            (None, 15)           0                                            \n",
            "__________________________________________________________________________________________________\n",
            "embedding_3 (Embedding)         (None, 15, 50)       1000050     input_4[0][0]                    \n",
            "__________________________________________________________________________________________________\n",
            "bidirectional_3 (Bidirectional) (None, 192)          112896      embedding_3[0][0]                \n",
            "__________________________________________________________________________________________________\n",
            "dropout_5 (Dropout)             (None, 192)          0           bidirectional_3[0][0]            \n",
            "__________________________________________________________________________________________________\n",
            "dense_9 (Dense)                 (None, 96)           18528       dropout_5[0][0]                  \n",
            "__________________________________________________________________________________________________\n",
            "elu_2 (ELU)                     (None, 96)           0           dense_9[0][0]                    \n",
            "__________________________________________________________________________________________________\n",
            "dropout_6 (Dropout)             (None, 96)           0           elu_2[1][0]                      \n",
            "__________________________________________________________________________________________________\n",
            "dense_10 (Dense)                (None, 32)           3104        dropout_6[0][0]                  \n",
            "__________________________________________________________________________________________________\n",
            "dense_11 (Dense)                (None, 32)           3104        dropout_6[0][0]                  \n",
            "__________________________________________________________________________________________________\n",
            "lambda_3 (Lambda)               (None, 32)           0           dense_10[0][0]                   \n",
            "                                                                 dense_11[0][0]                   \n",
            "__________________________________________________________________________________________________\n",
            "repeat_vector_3 (RepeatVector)  (None, 15, 32)       0           lambda_3[0][0]                   \n",
            "__________________________________________________________________________________________________\n",
            "lstm_6 (LSTM)                   (None, 15, 96)       49536       repeat_vector_3[0][0]            \n",
            "__________________________________________________________________________________________________\n",
            "time_distributed_3 (TimeDistrib (None, 15, 20001)    1940097     lstm_6[0][0]                     \n",
            "__________________________________________________________________________________________________\n",
            "custom_variational_layer_11 (Cu [(None, 15), (None,  0           input_4[0][0]                    \n",
            "                                                                 time_distributed_3[0][0]         \n",
            "==================================================================================================\n",
            "Total params: 3,127,315\n",
            "Trainable params: 2,127,265\n",
            "Non-trainable params: 1,000,050\n",
            "__________________________________________________________________________________________________\n"
          ],
          "name": "stdout"
        }
      ]
    },
    {
      "cell_type": "markdown",
      "metadata": {
        "id": "OUq-wpywNO4r",
        "colab_type": "text"
      },
      "source": [
        "Checkpoint function to save states of our model during training"
      ]
    },
    {
      "cell_type": "code",
      "metadata": {
        "id": "6N_2MDF_NO4s",
        "colab_type": "code",
        "colab": {}
      },
      "source": [
        "def create_model_checkpoint(model_name):\n",
        "    filepath = f\"models/{model_name}.h5\"\n",
        "    directory = os.path.dirname(filepath)\n",
        "    try:\n",
        "        # Check if directory exists\n",
        "        os.stat(directory)\n",
        "    except:\n",
        "        # If directory doesn't exist, create the directory\n",
        "        os.mkdir(directory)\n",
        "    # Save model states\n",
        "    checkpointer = ModelCheckpoint(filepath=filepath, verbose=1, save_best_only=False)\n",
        "    return checkpointer\n",
        "\n",
        "# Create model checkpointer\n",
        "checkpointer = create_model_checkpoint('vae_seq2seq')"
      ],
      "execution_count": 0,
      "outputs": []
    },
    {
      "cell_type": "markdown",
      "metadata": {
        "id": "_Cw3RxnCNO4u",
        "colab_type": "text"
      },
      "source": [
        "Train model, test model after each apoch and save model's state"
      ]
    },
    {
      "cell_type": "code",
      "metadata": {
        "id": "mRTTpZOU5Zcf",
        "colab_type": "code",
        "colab": {}
      },
      "source": [
        "sents = val_data['headline']\n",
        "sents = [re.sub(r\"\\'\",'',sent) for sent in sents]\n",
        "val_1_data = tokenizer.texts_to_sequences(sents)\n",
        "val_1_data = pad_sequences(sequences, maxlen=MAX_SEQUENCE_LENGTH,padding = 'post')\n",
        "val_1_data = val_1_data[:np.max([i for i in range(val_1_data.shape[0]) if i % 64 == 0]),:]"
      ],
      "execution_count": 0,
      "outputs": []
    },
    {
      "cell_type": "code",
      "metadata": {
        "id": "11qcJqOG08PE",
        "colab_type": "code",
        "colab": {
          "base_uri": "https://localhost:8080/",
          "height": 134
        },
        "outputId": "830781fc-795a-4d07-d3a6-daaf7248f673"
      },
      "source": [
        "val_1_data"
      ],
      "execution_count": 89,
      "outputs": [
        {
          "output_type": "execute_result",
          "data": {
            "text/plain": [
              "array([[15263,   360,  3224, ...,     0,     0,     0],\n",
              "       [11177,  1569,  6428, ...,     0,     0,     0],\n",
              "       [  449,   495,   305, ...,     0,     0,     0],\n",
              "       ...,\n",
              "       [ 6374,  3190,   235, ...,     0,     0,     0],\n",
              "       [ 3721,     1,   992, ...,     0,     0,     0],\n",
              "       [ 5853,  7197,  5609, ...,     0,     0,     0]], dtype=int32)"
            ]
          },
          "metadata": {
            "tags": []
          },
          "execution_count": 89
        }
      ]
    },
    {
      "cell_type": "code",
      "metadata": {
        "id": "iscsBzrwNO4v",
        "colab_type": "code",
        "outputId": "6db3d2f8-6de3-4855-b3c1-63c5c176d6fa",
        "colab": {
          "base_uri": "https://localhost:8080/",
          "height": 1000
        }
      },
      "source": [
        "nb_epoch = 60 # number of epochs for model training\n",
        "n_steps = train_data.shape[0] // batch_size # Number of steps per epoch\n",
        "for counter in range(nb_epoch):\n",
        "    print('-------epoch: ', counter, '-------')\n",
        "    # Train model. Test and save model after every epoch\n",
        "    vae.fit_generator(sent_generator('train_data.csv', batch_size),\n",
        "                      steps_per_epoch=n_steps, epochs=1, callbacks=[checkpointer],\n",
        "                      validation_data=(val_1_data,val_1_data))\n",
        "vae.save(r'vae_lstmFull32dim96hid.h5')"
      ],
      "execution_count": 90,
      "outputs": [
        {
          "output_type": "stream",
          "text": [
            "-------epoch:  0 -------\n",
            "Epoch 1/1\n",
            "335/335 [==============================] - 59s 177ms/step - loss: 86.5594 - kl_loss: 0.0045 - val_loss: 80.9713 - val_kl_loss: 0.0032\n",
            "\n",
            "Epoch 00001: saving model to models/vae_seq2seq.h5\n",
            "-------epoch:  1 -------\n",
            "Epoch 1/1\n",
            "335/335 [==============================] - 58s 172ms/step - loss: 77.6747 - kl_loss: 0.0034 - val_loss: 80.8130 - val_kl_loss: 0.0032\n",
            "\n",
            "Epoch 00001: saving model to models/vae_seq2seq.h5\n",
            "-------epoch:  2 -------\n",
            "Epoch 1/1\n",
            "335/335 [==============================] - 58s 172ms/step - loss: 74.7750 - kl_loss: 0.0037 - val_loss: 81.6432 - val_kl_loss: 0.0041\n",
            "\n",
            "Epoch 00001: saving model to models/vae_seq2seq.h5\n",
            "-------epoch:  3 -------\n",
            "Epoch 1/1\n",
            "335/335 [==============================] - 58s 174ms/step - loss: 72.2338 - kl_loss: 0.0038 - val_loss: 82.9874 - val_kl_loss: 0.0038\n",
            "\n",
            "Epoch 00001: saving model to models/vae_seq2seq.h5\n",
            "-------epoch:  4 -------\n",
            "Epoch 1/1\n",
            "335/335 [==============================] - 58s 173ms/step - loss: 70.4436 - kl_loss: 0.0041 - val_loss: 84.2434 - val_kl_loss: 0.0041\n",
            "\n",
            "Epoch 00001: saving model to models/vae_seq2seq.h5\n",
            "-------epoch:  5 -------\n",
            "Epoch 1/1\n",
            "335/335 [==============================] - 57s 172ms/step - loss: 69.1513 - kl_loss: 0.0043 - val_loss: 85.2482 - val_kl_loss: 0.0053\n",
            "\n",
            "Epoch 00001: saving model to models/vae_seq2seq.h5\n",
            "-------epoch:  6 -------\n",
            "Epoch 1/1\n",
            "335/335 [==============================] - 57s 171ms/step - loss: 68.1393 - kl_loss: 0.0045 - val_loss: 85.8724 - val_kl_loss: 0.0042\n",
            "\n",
            "Epoch 00001: saving model to models/vae_seq2seq.h5\n",
            "-------epoch:  7 -------\n",
            "Epoch 1/1\n",
            "335/335 [==============================] - 57s 170ms/step - loss: 67.4279 - kl_loss: 0.0047 - val_loss: 86.2861 - val_kl_loss: 0.0043\n",
            "\n",
            "Epoch 00001: saving model to models/vae_seq2seq.h5\n",
            "-------epoch:  8 -------\n",
            "Epoch 1/1\n",
            "335/335 [==============================] - 57s 170ms/step - loss: 66.8619 - kl_loss: 0.0051 - val_loss: 87.3278 - val_kl_loss: 0.0050\n",
            "\n",
            "Epoch 00001: saving model to models/vae_seq2seq.h5\n",
            "-------epoch:  9 -------\n",
            "Epoch 1/1\n",
            "335/335 [==============================] - 57s 171ms/step - loss: 66.3425 - kl_loss: 0.0052 - val_loss: 87.4893 - val_kl_loss: 0.0052\n",
            "\n",
            "Epoch 00001: saving model to models/vae_seq2seq.h5\n",
            "-------epoch:  10 -------\n",
            "Epoch 1/1\n",
            "335/335 [==============================] - 57s 172ms/step - loss: 65.6984 - kl_loss: 0.0053 - val_loss: 88.2578 - val_kl_loss: 0.0060\n",
            "\n",
            "Epoch 00001: saving model to models/vae_seq2seq.h5\n",
            "-------epoch:  11 -------\n",
            "Epoch 1/1\n",
            "335/335 [==============================] - 57s 171ms/step - loss: 65.2619 - kl_loss: 0.0054 - val_loss: 88.5867 - val_kl_loss: 0.0059\n",
            "\n",
            "Epoch 00001: saving model to models/vae_seq2seq.h5\n",
            "-------epoch:  12 -------\n",
            "Epoch 1/1\n",
            "335/335 [==============================] - 57s 170ms/step - loss: 65.0337 - kl_loss: 0.0057 - val_loss: 89.3628 - val_kl_loss: 0.0052\n",
            "\n",
            "Epoch 00001: saving model to models/vae_seq2seq.h5\n",
            "-------epoch:  13 -------\n",
            "Epoch 1/1\n",
            "335/335 [==============================] - 57s 170ms/step - loss: 64.5242 - kl_loss: 0.0057 - val_loss: 90.3194 - val_kl_loss: 0.0049\n",
            "\n",
            "Epoch 00001: saving model to models/vae_seq2seq.h5\n",
            "-------epoch:  14 -------\n",
            "Epoch 1/1\n",
            "335/335 [==============================] - 57s 169ms/step - loss: 64.2161 - kl_loss: 0.0060 - val_loss: 90.1451 - val_kl_loss: 0.0051\n",
            "\n",
            "Epoch 00001: saving model to models/vae_seq2seq.h5\n",
            "-------epoch:  15 -------\n",
            "Epoch 1/1\n",
            "335/335 [==============================] - 57s 169ms/step - loss: 63.9194 - kl_loss: 0.0061 - val_loss: 90.6064 - val_kl_loss: 0.0052\n",
            "\n",
            "Epoch 00001: saving model to models/vae_seq2seq.h5\n",
            "-------epoch:  16 -------\n",
            "Epoch 1/1\n",
            "335/335 [==============================] - 57s 170ms/step - loss: 64.0574 - kl_loss: 0.0067 - val_loss: 91.0811 - val_kl_loss: 0.0053\n",
            "\n",
            "Epoch 00001: saving model to models/vae_seq2seq.h5\n",
            "-------epoch:  17 -------\n",
            "Epoch 1/1\n",
            "335/335 [==============================] - 57s 169ms/step - loss: 63.4696 - kl_loss: 0.0066 - val_loss: 91.3507 - val_kl_loss: 0.0061\n",
            "\n",
            "Epoch 00001: saving model to models/vae_seq2seq.h5\n",
            "-------epoch:  18 -------\n",
            "Epoch 1/1\n",
            "335/335 [==============================] - 56s 168ms/step - loss: 63.0635 - kl_loss: 0.0067 - val_loss: 91.8622 - val_kl_loss: 0.0062\n",
            "\n",
            "Epoch 00001: saving model to models/vae_seq2seq.h5\n",
            "-------epoch:  19 -------\n",
            "Epoch 1/1\n",
            "335/335 [==============================] - 56s 168ms/step - loss: 63.4437 - kl_loss: 0.0076 - val_loss: 94.5775 - val_kl_loss: 0.0266\n",
            "\n",
            "Epoch 00001: saving model to models/vae_seq2seq.h5\n",
            "-------epoch:  20 -------\n",
            "Epoch 1/1\n",
            "335/335 [==============================] - 56s 167ms/step - loss: 63.0202 - kl_loss: 0.0075 - val_loss: 92.7464 - val_kl_loss: 0.0064\n",
            "\n",
            "Epoch 00001: saving model to models/vae_seq2seq.h5\n",
            "-------epoch:  21 -------\n",
            "Epoch 1/1\n",
            "335/335 [==============================] - 57s 169ms/step - loss: 62.3815 - kl_loss: 0.0072 - val_loss: 93.6591 - val_kl_loss: 0.0061\n",
            "\n",
            "Epoch 00001: saving model to models/vae_seq2seq.h5\n",
            "-------epoch:  22 -------\n",
            "Epoch 1/1\n",
            "335/335 [==============================] - 57s 170ms/step - loss: 62.0604 - kl_loss: 0.0074 - val_loss: 93.6420 - val_kl_loss: 0.0065\n",
            "\n",
            "Epoch 00001: saving model to models/vae_seq2seq.h5\n",
            "-------epoch:  23 -------\n",
            "Epoch 1/1\n",
            "335/335 [==============================] - 57s 169ms/step - loss: 61.6317 - kl_loss: 0.0073 - val_loss: 94.5960 - val_kl_loss: 0.0071\n",
            "\n",
            "Epoch 00001: saving model to models/vae_seq2seq.h5\n",
            "-------epoch:  24 -------\n",
            "Epoch 1/1\n",
            "335/335 [==============================] - 57s 171ms/step - loss: 61.3558 - kl_loss: 0.0075 - val_loss: 95.2327 - val_kl_loss: 0.0074\n",
            "\n",
            "Epoch 00001: saving model to models/vae_seq2seq.h5\n",
            "-------epoch:  25 -------\n",
            "Epoch 1/1\n",
            "335/335 [==============================] - 57s 170ms/step - loss: 61.1254 - kl_loss: 0.0076 - val_loss: 96.3536 - val_kl_loss: 0.0076\n",
            "\n",
            "Epoch 00001: saving model to models/vae_seq2seq.h5\n",
            "-------epoch:  26 -------\n",
            "Epoch 1/1\n",
            "335/335 [==============================] - 57s 169ms/step - loss: 61.0817 - kl_loss: 0.0078 - val_loss: 96.6135 - val_kl_loss: 0.0079\n",
            "\n",
            "Epoch 00001: saving model to models/vae_seq2seq.h5\n",
            "-------epoch:  27 -------\n",
            "Epoch 1/1\n",
            "335/335 [==============================] - 57s 171ms/step - loss: 61.0240 - kl_loss: 0.0082 - val_loss: 96.8124 - val_kl_loss: 0.0072\n",
            "\n",
            "Epoch 00001: saving model to models/vae_seq2seq.h5\n",
            "-------epoch:  28 -------\n",
            "Epoch 1/1\n",
            "335/335 [==============================] - 57s 170ms/step - loss: 60.9315 - kl_loss: 0.0083 - val_loss: 96.4909 - val_kl_loss: 0.0072\n",
            "\n",
            "Epoch 00001: saving model to models/vae_seq2seq.h5\n",
            "-------epoch:  29 -------\n",
            "Epoch 1/1\n",
            "335/335 [==============================] - 57s 171ms/step - loss: 60.6202 - kl_loss: 0.0086 - val_loss: 96.9799 - val_kl_loss: 0.0073\n",
            "\n",
            "Epoch 00001: saving model to models/vae_seq2seq.h5\n",
            "-------epoch:  30 -------\n",
            "Epoch 1/1\n",
            "335/335 [==============================] - 57s 170ms/step - loss: 60.1691 - kl_loss: 0.0083 - val_loss: 97.8030 - val_kl_loss: 0.0074\n",
            "\n",
            "Epoch 00001: saving model to models/vae_seq2seq.h5\n",
            "-------epoch:  31 -------\n",
            "Epoch 1/1\n",
            "335/335 [==============================] - 57s 169ms/step - loss: 59.9468 - kl_loss: 0.0083 - val_loss: 98.3391 - val_kl_loss: 0.0077\n",
            "\n",
            "Epoch 00001: saving model to models/vae_seq2seq.h5\n",
            "-------epoch:  32 -------\n",
            "Epoch 1/1\n",
            "335/335 [==============================] - 57s 171ms/step - loss: 59.8464 - kl_loss: 0.0084 - val_loss: 99.3374 - val_kl_loss: 0.0068\n",
            "\n",
            "Epoch 00001: saving model to models/vae_seq2seq.h5\n",
            "-------epoch:  33 -------\n",
            "Epoch 1/1\n",
            "335/335 [==============================] - 57s 171ms/step - loss: 59.9439 - kl_loss: 0.0087 - val_loss: 99.1659 - val_kl_loss: 0.0077\n",
            "\n",
            "Epoch 00001: saving model to models/vae_seq2seq.h5\n",
            "-------epoch:  34 -------\n",
            "Epoch 1/1\n",
            "335/335 [==============================] - 57s 170ms/step - loss: 59.9188 - kl_loss: 0.0090 - val_loss: 99.7984 - val_kl_loss: 0.0080\n",
            "\n",
            "Epoch 00001: saving model to models/vae_seq2seq.h5\n",
            "-------epoch:  35 -------\n",
            "Epoch 1/1\n",
            "335/335 [==============================] - 57s 170ms/step - loss: 59.6328 - kl_loss: 0.0091 - val_loss: 100.6123 - val_kl_loss: 0.0077\n",
            "\n",
            "Epoch 00001: saving model to models/vae_seq2seq.h5\n",
            "-------epoch:  36 -------\n",
            "Epoch 1/1\n",
            "335/335 [==============================] - 57s 170ms/step - loss: 59.4023 - kl_loss: 0.0092 - val_loss: 100.5433 - val_kl_loss: 0.0082\n",
            "\n",
            "Epoch 00001: saving model to models/vae_seq2seq.h5\n",
            "-------epoch:  37 -------\n",
            "Epoch 1/1\n",
            "335/335 [==============================] - 58s 172ms/step - loss: 59.1243 - kl_loss: 0.0093 - val_loss: 101.3629 - val_kl_loss: 0.0077\n",
            "\n",
            "Epoch 00001: saving model to models/vae_seq2seq.h5\n",
            "-------epoch:  38 -------\n",
            "Epoch 1/1\n",
            "335/335 [==============================] - 57s 170ms/step - loss: 58.8378 - kl_loss: 0.0092 - val_loss: 101.3158 - val_kl_loss: 0.0076\n",
            "\n",
            "Epoch 00001: saving model to models/vae_seq2seq.h5\n",
            "-------epoch:  39 -------\n",
            "Epoch 1/1\n",
            "335/335 [==============================] - 57s 170ms/step - loss: 58.7678 - kl_loss: 0.0093 - val_loss: 102.0738 - val_kl_loss: 0.0083\n",
            "\n",
            "Epoch 00001: saving model to models/vae_seq2seq.h5\n",
            "-------epoch:  40 -------\n",
            "Epoch 1/1\n",
            "335/335 [==============================] - 57s 169ms/step - loss: 58.3896 - kl_loss: 0.0092 - val_loss: 102.1462 - val_kl_loss: 0.0071\n",
            "\n",
            "Epoch 00001: saving model to models/vae_seq2seq.h5\n",
            "-------epoch:  41 -------\n",
            "Epoch 1/1\n",
            "335/335 [==============================] - 57s 170ms/step - loss: 58.3277 - kl_loss: 0.0094 - val_loss: 103.0543 - val_kl_loss: 0.0080\n",
            "\n",
            "Epoch 00001: saving model to models/vae_seq2seq.h5\n",
            "-------epoch:  42 -------\n",
            "Epoch 1/1\n",
            "335/335 [==============================] - 57s 170ms/step - loss: 58.2388 - kl_loss: 0.0093 - val_loss: 103.6641 - val_kl_loss: 0.0081\n",
            "\n",
            "Epoch 00001: saving model to models/vae_seq2seq.h5\n",
            "-------epoch:  43 -------\n",
            "Epoch 1/1\n",
            "335/335 [==============================] - 57s 171ms/step - loss: 58.3021 - kl_loss: 0.0096 - val_loss: 104.4507 - val_kl_loss: 0.0084\n",
            "\n",
            "Epoch 00001: saving model to models/vae_seq2seq.h5\n",
            "-------epoch:  44 -------\n",
            "Epoch 1/1\n",
            "335/335 [==============================] - 56s 167ms/step - loss: 58.0923 - kl_loss: 0.0095 - val_loss: 104.0954 - val_kl_loss: 0.0081\n",
            "\n",
            "Epoch 00001: saving model to models/vae_seq2seq.h5\n",
            "-------epoch:  45 -------\n",
            "Epoch 1/1\n",
            "335/335 [==============================] - 57s 170ms/step - loss: 58.1893 - kl_loss: 0.0099 - val_loss: 105.3827 - val_kl_loss: 0.0092\n",
            "\n",
            "Epoch 00001: saving model to models/vae_seq2seq.h5\n",
            "-------epoch:  46 -------\n",
            "Epoch 1/1\n",
            "335/335 [==============================] - 56s 168ms/step - loss: 58.2383 - kl_loss: 0.0099 - val_loss: 104.2161 - val_kl_loss: 0.0090\n",
            "\n",
            "Epoch 00001: saving model to models/vae_seq2seq.h5\n",
            "-------epoch:  47 -------\n",
            "Epoch 1/1\n",
            "335/335 [==============================] - 57s 169ms/step - loss: 58.6447 - kl_loss: 0.0104 - val_loss: 104.7448 - val_kl_loss: 0.0095\n",
            "\n",
            "Epoch 00001: saving model to models/vae_seq2seq.h5\n",
            "-------epoch:  48 -------\n",
            "Epoch 1/1\n",
            "335/335 [==============================] - 57s 169ms/step - loss: 58.3773 - kl_loss: 0.0105 - val_loss: 103.9464 - val_kl_loss: 0.0088\n",
            "\n",
            "Epoch 00001: saving model to models/vae_seq2seq.h5\n",
            "-------epoch:  49 -------\n",
            "Epoch 1/1\n",
            "335/335 [==============================] - 56s 168ms/step - loss: 58.2789 - kl_loss: 0.0104 - val_loss: 105.5632 - val_kl_loss: 0.0102\n",
            "\n",
            "Epoch 00001: saving model to models/vae_seq2seq.h5\n",
            "-------epoch:  50 -------\n",
            "Epoch 1/1\n",
            "335/335 [==============================] - 57s 169ms/step - loss: 57.8381 - kl_loss: 0.0105 - val_loss: 106.1376 - val_kl_loss: 0.0105\n",
            "\n",
            "Epoch 00001: saving model to models/vae_seq2seq.h5\n",
            "-------epoch:  51 -------\n",
            "Epoch 1/1\n",
            "335/335 [==============================] - 56s 167ms/step - loss: 57.7503 - kl_loss: 0.0104 - val_loss: 106.4247 - val_kl_loss: 0.0115\n",
            "\n",
            "Epoch 00001: saving model to models/vae_seq2seq.h5\n",
            "-------epoch:  52 -------\n",
            "Epoch 1/1\n",
            "335/335 [==============================] - 56s 167ms/step - loss: 57.7870 - kl_loss: 0.0106 - val_loss: 113.6084 - val_kl_loss: 0.0832\n",
            "\n",
            "Epoch 00001: saving model to models/vae_seq2seq.h5\n",
            "-------epoch:  53 -------\n",
            "Epoch 1/1\n",
            "335/335 [==============================] - 56s 169ms/step - loss: 57.5503 - kl_loss: 0.0106 - val_loss: 106.7882 - val_kl_loss: 0.0139\n",
            "\n",
            "Epoch 00001: saving model to models/vae_seq2seq.h5\n",
            "-------epoch:  54 -------\n",
            "Epoch 1/1\n",
            "335/335 [==============================] - 57s 170ms/step - loss: 78.5773 - kl_loss: 0.2075 - val_loss: 140.1881 - val_kl_loss: 0.3213\n",
            "\n",
            "Epoch 00001: saving model to models/vae_seq2seq.h5\n",
            "-------epoch:  55 -------\n",
            "Epoch 1/1\n",
            "335/335 [==============================] - 55s 165ms/step - loss: 432.6915 - kl_loss: 3.5885 - val_loss: 121.1097 - val_kl_loss: 0.2170\n",
            "\n",
            "Epoch 00001: saving model to models/vae_seq2seq.h5\n",
            "-------epoch:  56 -------\n",
            "Epoch 1/1\n",
            "335/335 [==============================] - 56s 169ms/step - loss: 146.0209 - kl_loss: 0.7269 - val_loss: 110.4611 - val_kl_loss: 0.1116\n",
            "\n",
            "Epoch 00001: saving model to models/vae_seq2seq.h5\n",
            "-------epoch:  57 -------\n",
            "Epoch 1/1\n",
            "335/335 [==============================] - 56s 167ms/step - loss: 31760420956511.1367 - kl_loss: 317604200448.0000 - val_loss: 152.2394 - val_kl_loss: 0.5297\n",
            "\n",
            "Epoch 00001: saving model to models/vae_seq2seq.h5\n",
            "-------epoch:  58 -------\n",
            "Epoch 1/1\n",
            "335/335 [==============================] - 56s 168ms/step - loss: 13232.7145 - kl_loss: 131.5623 - val_loss: 127.0651 - val_kl_loss: 0.3021\n",
            "\n",
            "Epoch 00001: saving model to models/vae_seq2seq.h5\n",
            "-------epoch:  59 -------\n",
            "Epoch 1/1\n",
            "335/335 [==============================] - 56s 168ms/step - loss: 1480.3546 - kl_loss: 14.0748 - val_loss: 126.6051 - val_kl_loss: 0.2856\n",
            "\n",
            "Epoch 00001: saving model to models/vae_seq2seq.h5\n"
          ],
          "name": "stdout"
        }
      ]
    },
    {
      "cell_type": "markdown",
      "metadata": {
        "id": "HjXY9bJMNO4x",
        "colab_type": "text"
      },
      "source": [
        "Assemble encoder and decoder for sentence generation sampled from variational space"
      ]
    },
    {
      "cell_type": "code",
      "metadata": {
        "id": "HArdLjkyeNY8",
        "colab_type": "code",
        "colab": {}
      },
      "source": [
        "\n",
        "vae.load_weights(\"/content/models/vae_seq2seq.h5\")"
      ],
      "execution_count": 0,
      "outputs": []
    },
    {
      "cell_type": "code",
      "metadata": {
        "id": "iTJBfCHxNO4x",
        "colab_type": "code",
        "colab": {}
      },
      "source": [
        "# Make separate encoder to encode input sentence\n",
        "encoder = Model(x, z_mean)\n",
        "# Input layer for decoder to decode vectors sampled from variational space \n",
        "decoder_input = Input(shape=(latent_dim,))\n",
        "# Apply LSTM to decode hidden vector into sequence\n",
        "_h_decoded = decoder_h(repeated_context(decoder_input))\n",
        "# Decode every time step vector of the decoded sequence into space of dimension equal to size of vocabulary\n",
        "_x_decoded_mean = decoder_mean(_h_decoded)\n",
        "# Apply softmax to get most probable token\n",
        "_x_decoded_mean = Activation('softmax')(_x_decoded_mean)\n",
        "# Make decoderfor sempled sentences\n",
        "generator = Model(decoder_input, _x_decoded_mean)"
      ],
      "execution_count": 0,
      "outputs": []
    },
    {
      "cell_type": "markdown",
      "metadata": {
        "id": "j4a0y7FvNO4z",
        "colab_type": "text"
      },
      "source": [
        "Generate sentence"
      ]
    },
    {
      "cell_type": "code",
      "metadata": {
        "id": "wf7yrbD6NO4z",
        "colab_type": "code",
        "colab": {}
      },
      "source": [
        "# Dictionary maps indexes to words\n",
        "index2word = {v: k for k, v in word_to_id.items()}\n",
        "# Fit sentences from validation set into encoder\n",
        "sent_encoded = encoder.predict(val_1_data, batch_size=16)\n",
        "# Decode encoded sentences\n",
        "x_test_reconstructed = generator.predict(sent_encoded)\n",
        "\n",
        "sent_idx = 400\n",
        "# Get words indexes with highest probability for the 400th sentence from validation set\n",
        "reconstructed_indexes = np.apply_along_axis(np.argmax, 1, x_test_reconstructed[sent_idx])\n",
        "# Map indexes of generated sentence to words\n",
        "word_list = list(np.vectorize(index2word.get)(reconstructed_indexes))\n",
        "word_list = ' '.join([w for w in word_list if w])\n",
        "print(word_list)\n",
        "# Map indexes of input sentence to words\n",
        "original_sent = list(np.vectorize(index2word.get)(val_1_data[sent_idx]))\n",
        "original_sent = ' '.join([w for w in original_sent if w])\n",
        "print(original_sent)"
      ],
      "execution_count": 0,
      "outputs": []
    },
    {
      "cell_type": "code",
      "metadata": {
        "id": "OnJrDAUzaLi8",
        "colab_type": "code",
        "colab": {
          "base_uri": "https://localhost:8080/",
          "height": 33
        },
        "outputId": "fc6f6201-a0da-4532-fb79-5bec9a9c067f"
      },
      "source": [
        "sent_encoded = encoder.predict(val_1_data[25,:].reshape(1,-1))\n",
        "x_test_reconstructed = generator.predict(sent_encoded)\n",
        "reconstructed_indexes = np.apply_along_axis(np.argmax, 1, x_test_reconstructed[0])\n",
        "original_sent = list(np.vectorize(id_to_word.get)(val_1_data[25,:].reshape(1,-1)))\n",
        "original_sent = ' '.join([w for w in original_sent[0] if w !='None'])\n",
        "print(original_sent)"
      ],
      "execution_count": 78,
      "outputs": [
        {
          "output_type": "stream",
          "text": [
            "fender releases new hybrid gas electric guitar\n"
          ],
          "name": "stdout"
        }
      ]
    },
    {
      "cell_type": "code",
      "metadata": {
        "id": "LbMRa6wnh-PM",
        "colab_type": "code",
        "colab": {
          "base_uri": "https://localhost:8080/",
          "height": 33
        },
        "outputId": "209132c2-1d0c-4550-e7ca-3c1eac1d1efd"
      },
      "source": [
        "s = list(np.vectorize(id_to_word.get)(reconstructed_indexes))\n",
        "' '.join([w for w in s if w !='None'])"
      ],
      "execution_count": 79,
      "outputs": [
        {
          "output_type": "execute_result",
          "data": {
            "text/plain": [
              "'the to to to to to'"
            ]
          },
          "metadata": {
            "tags": []
          },
          "execution_count": 79
        }
      ]
    },
    {
      "cell_type": "code",
      "metadata": {
        "id": "uZF7KQ9THPpb",
        "colab_type": "code",
        "colab": {}
      },
      "source": [
        ""
      ],
      "execution_count": 0,
      "outputs": []
    }
  ]
}