{
  "nbformat": 4,
  "nbformat_minor": 0,
  "metadata": {
    "kernelspec": {
      "display_name": "Python 3",
      "language": "python",
      "name": "python3"
    },
    "language_info": {
      "codemirror_mode": {
        "name": "ipython",
        "version": 3
      },
      "file_extension": ".py",
      "mimetype": "text/x-python",
      "name": "python",
      "nbconvert_exporter": "python",
      "pygments_lexer": "ipython3",
      "version": "3.7.4"
    },
    "colab": {
      "name": "NLP_HW2.ipynb",
      "provenance": [],
      "toc_visible": true,
      "include_colab_link": true
    },
    "accelerator": "GPU"
  },
  "cells": [
    {
      "cell_type": "markdown",
      "metadata": {
        "id": "view-in-github",
        "colab_type": "text"
      },
      "source": [
        "<a href=\"https://colab.research.google.com/github/Hernanros/NLP-Ydata/blob/master/HW2/NLP_HW2.ipynb\" target=\"_parent\"><img src=\"https://colab.research.google.com/assets/colab-badge.svg\" alt=\"Open In Colab\"/></a>"
      ]
    },
    {
      "cell_type": "markdown",
      "metadata": {
        "id": "vb1yXLWqNO3s",
        "colab_type": "text"
      },
      "source": [
        "##  Text generation by Markov chain"
      ]
    },
    {
      "cell_type": "code",
      "metadata": {
        "id": "uf77BtrtNO3t",
        "colab_type": "code",
        "colab": {}
      },
      "source": [
        "import csv\n",
        "import pandas as pd"
      ],
      "execution_count": 0,
      "outputs": []
    },
    {
      "cell_type": "markdown",
      "metadata": {
        "id": "CIXpb5jBNO3w",
        "colab_type": "text"
      },
      "source": [
        "Markov chain is a probabalistic model in which the probability of each event depends only on the state attained in the previous event. [markovify](https://github.com/jsvine/markovify) is a library for text generation by Markov chain.\n",
        "\n",
        "Use \"pip install markovify\" to install markovify"
      ]
    },
    {
      "cell_type": "code",
      "metadata": {
        "id": "0d89JFOANO3x",
        "colab_type": "code",
        "outputId": "5597306a-95fb-4d2f-b041-92f7c72dde11",
        "colab": {
          "base_uri": "https://localhost:8080/",
          "height": 50
        }
      },
      "source": [
        "!pip install markovify\n",
        "import markovify"
      ],
      "execution_count": 2,
      "outputs": [
        {
          "output_type": "stream",
          "text": [
            "Requirement already satisfied: markovify in /usr/local/lib/python3.6/dist-packages (0.8.0)\n",
            "Requirement already satisfied: unidecode in /usr/local/lib/python3.6/dist-packages (from markovify) (1.1.1)\n"
          ],
          "name": "stdout"
        }
      ]
    },
    {
      "cell_type": "code",
      "metadata": {
        "id": "H3dtkH9VNgf5",
        "colab_type": "code",
        "colab": {}
      },
      "source": [
        "def parseJson(fname):\n",
        "    for line in open(fname, 'r+'):\n",
        "        yield eval(line)\n",
        "\n",
        "data = pd.DataFrame(list(parseJson('Sarcasm_Headlines_Dataset_v2.json')))\n",
        "\n",
        "\n",
        "\n",
        "data.is_sarcastic = data.is_sarcastic.astype('bool')\n"
      ],
      "execution_count": 0,
      "outputs": []
    },
    {
      "cell_type": "code",
      "metadata": {
        "id": "W9yfEfD-QNSX",
        "colab_type": "code",
        "outputId": "5101ddfe-c47f-45eb-deb5-59b17bdbca01",
        "colab": {
          "base_uri": "https://localhost:8080/",
          "height": 196
        }
      },
      "source": [
        "data.head()"
      ],
      "execution_count": 4,
      "outputs": [
        {
          "output_type": "execute_result",
          "data": {
            "text/html": [
              "<div>\n",
              "<style scoped>\n",
              "    .dataframe tbody tr th:only-of-type {\n",
              "        vertical-align: middle;\n",
              "    }\n",
              "\n",
              "    .dataframe tbody tr th {\n",
              "        vertical-align: top;\n",
              "    }\n",
              "\n",
              "    .dataframe thead th {\n",
              "        text-align: right;\n",
              "    }\n",
              "</style>\n",
              "<table border=\"1\" class=\"dataframe\">\n",
              "  <thead>\n",
              "    <tr style=\"text-align: right;\">\n",
              "      <th></th>\n",
              "      <th>is_sarcastic</th>\n",
              "      <th>headline</th>\n",
              "      <th>article_link</th>\n",
              "    </tr>\n",
              "  </thead>\n",
              "  <tbody>\n",
              "    <tr>\n",
              "      <th>0</th>\n",
              "      <td>True</td>\n",
              "      <td>thirtysomething scientists unveil doomsday clo...</td>\n",
              "      <td>https://www.theonion.com/thirtysomething-scien...</td>\n",
              "    </tr>\n",
              "    <tr>\n",
              "      <th>1</th>\n",
              "      <td>False</td>\n",
              "      <td>dem rep. totally nails why congress is falling...</td>\n",
              "      <td>https://www.huffingtonpost.com/entry/donna-edw...</td>\n",
              "    </tr>\n",
              "    <tr>\n",
              "      <th>2</th>\n",
              "      <td>False</td>\n",
              "      <td>eat your veggies: 9 deliciously different recipes</td>\n",
              "      <td>https://www.huffingtonpost.com/entry/eat-your-...</td>\n",
              "    </tr>\n",
              "    <tr>\n",
              "      <th>3</th>\n",
              "      <td>True</td>\n",
              "      <td>inclement weather prevents liar from getting t...</td>\n",
              "      <td>https://local.theonion.com/inclement-weather-p...</td>\n",
              "    </tr>\n",
              "    <tr>\n",
              "      <th>4</th>\n",
              "      <td>True</td>\n",
              "      <td>mother comes pretty close to using word 'strea...</td>\n",
              "      <td>https://www.theonion.com/mother-comes-pretty-c...</td>\n",
              "    </tr>\n",
              "  </tbody>\n",
              "</table>\n",
              "</div>"
            ],
            "text/plain": [
              "   is_sarcastic  ...                                       article_link\n",
              "0          True  ...  https://www.theonion.com/thirtysomething-scien...\n",
              "1         False  ...  https://www.huffingtonpost.com/entry/donna-edw...\n",
              "2         False  ...  https://www.huffingtonpost.com/entry/eat-your-...\n",
              "3          True  ...  https://local.theonion.com/inclement-weather-p...\n",
              "4          True  ...  https://www.theonion.com/mother-comes-pretty-c...\n",
              "\n",
              "[5 rows x 3 columns]"
            ]
          },
          "metadata": {
            "tags": []
          },
          "execution_count": 4
        }
      ]
    },
    {
      "cell_type": "code",
      "metadata": {
        "id": "3UYA9GlERvkc",
        "colab_type": "code",
        "outputId": "3d9aea14-a0f2-4ad3-a228-381a47230edd",
        "colab": {
          "base_uri": "https://localhost:8080/",
          "height": 33
        }
      },
      "source": [
        "len([headline for i,headline in enumerate(data.headline) if data.is_sarcastic[i]==True])"
      ],
      "execution_count": 5,
      "outputs": [
        {
          "output_type": "execute_result",
          "data": {
            "text/plain": [
              "13634"
            ]
          },
          "metadata": {
            "tags": []
          },
          "execution_count": 5
        }
      ]
    },
    {
      "cell_type": "markdown",
      "metadata": {
        "id": "Yolq4AkYNO30",
        "colab_type": "text"
      },
      "source": [
        "Download [Dataset.csv](https://drive.google.com/file/d/1raxIkJZ4lMTvgTB8eYjxu4Ux8aNL-x0s/view?usp=sharing) composed of sarcastic and serious headlines for the news. The csv-file consists of two columns. \"headline\" column contains texts of headlines. \"is_sarcastic\" column contain 0 if the hiadline is serious and 1 otherwise.\n",
        "\n",
        "Read dataset "
      ]
    },
    {
      "cell_type": "code",
      "metadata": {
        "id": "2_vDl5b8NO31",
        "colab_type": "code",
        "outputId": "d1861faa-589b-4d5c-8c6b-caa6f5ccb129",
        "colab": {
          "base_uri": "https://localhost:8080/",
          "height": 50
        }
      },
      "source": [
        "texts_serious = [headline for i,headline in enumerate(data.headline) if data.is_sarcastic[i]==False] # list of serious hiadline texts\n",
        "texts_sarcastic = [headline for i,headline in enumerate(data.headline) if data.is_sarcastic[i]==True] # list of sarcastic hiadline texts\n",
        "# with open('Dataset.csv', encoding='utf-8') as f:\n",
        "#     # Rread csv-file by DictReader from csv library\n",
        "#     reader = csv.DictReader(f) \n",
        "#     for line in reader:\n",
        "#         # read texts of headline\n",
        "#         headline = line['headline'].strip()\n",
        "#         # read sarcasticity of headline\n",
        "#         is_sarcastic = int(line['is_sarcastic'].strip())\n",
        "#         if is_sarcastic:\n",
        "#             texts_sarcastic.append(headline)\n",
        "#         else:\n",
        "#             texts_serious.append(headline)\n",
        "print('Found {} sarcastic texts in Dataset'.format(data.groupby('is_sarcastic').size()[1]))\n",
        "print('Found {} serious texts in Dataset'.format(data.groupby('is_sarcastic').size()[0]))\n"
      ],
      "execution_count": 6,
      "outputs": [
        {
          "output_type": "stream",
          "text": [
            "Found 13634 sarcastic texts in Dataset\n",
            "Found 14985 serious texts in Dataset\n"
          ],
          "name": "stdout"
        }
      ]
    },
    {
      "cell_type": "markdown",
      "metadata": {
        "id": "QhtJNgwuNO35",
        "colab_type": "text"
      },
      "source": [
        "Merge headlines into one text"
      ]
    },
    {
      "cell_type": "code",
      "metadata": {
        "id": "eI9k6oOaNO35",
        "colab_type": "code",
        "colab": {}
      },
      "source": [
        "text_0 = '\\n '.join(texts_serious)\n",
        "text_1 = '\\n '.join(texts_sarcastic)"
      ],
      "execution_count": 0,
      "outputs": []
    },
    {
      "cell_type": "code",
      "metadata": {
        "id": "XextATaPUinJ",
        "colab_type": "code",
        "outputId": "ea76db1a-c661-4dca-ae53-a506d994ad8e",
        "colab": {
          "base_uri": "https://localhost:8080/",
          "height": 33
        }
      },
      "source": [
        "markovify.Text(texts_sarcastic)"
      ],
      "execution_count": 0,
      "outputs": [
        {
          "output_type": "execute_result",
          "data": {
            "text/plain": [
              "<markovify.text.Text at 0x7ffb067ff400>"
            ]
          },
          "metadata": {
            "tags": []
          },
          "execution_count": 7
        }
      ]
    },
    {
      "cell_type": "markdown",
      "metadata": {
        "id": "bgh0nuOHNO38",
        "colab_type": "text"
      },
      "source": [
        "Create Markov chain model for serious headlines generation"
      ]
    },
    {
      "cell_type": "code",
      "metadata": {
        "id": "MFez6CN-NO38",
        "colab_type": "code",
        "outputId": "0ba02c61-d157-4a2c-9c61-075a733f27b2",
        "colab": {
          "base_uri": "https://localhost:8080/",
          "height": 178
        }
      },
      "source": [
        "serious_model = markovify.Text(texts_serious, state_size=2)\n",
        "sarcastic_model = markovify.Text(texts_sarcastic)\n"
      ],
      "execution_count": 0,
      "outputs": [
        {
          "output_type": "error",
          "ename": "NameError",
          "evalue": "ignored",
          "traceback": [
            "\u001b[0;31m---------------------------------------------------------------------------\u001b[0m",
            "\u001b[0;31mNameError\u001b[0m                                 Traceback (most recent call last)",
            "\u001b[0;32m<ipython-input-6-17286f7ede30>\u001b[0m in \u001b[0;36m<module>\u001b[0;34m()\u001b[0m\n\u001b[0;32m----> 1\u001b[0;31m \u001b[0mserious_model\u001b[0m \u001b[0;34m=\u001b[0m \u001b[0mmarkovify\u001b[0m\u001b[0;34m.\u001b[0m\u001b[0mText\u001b[0m\u001b[0;34m(\u001b[0m\u001b[0mtexts_serious\u001b[0m\u001b[0;34m,\u001b[0m \u001b[0mstate_size\u001b[0m\u001b[0;34m=\u001b[0m\u001b[0;36m2\u001b[0m\u001b[0;34m)\u001b[0m\u001b[0;34m\u001b[0m\u001b[0;34m\u001b[0m\u001b[0m\n\u001b[0m\u001b[1;32m      2\u001b[0m \u001b[0msarcastic_model\u001b[0m \u001b[0;34m=\u001b[0m \u001b[0mmarkovify\u001b[0m\u001b[0;34m.\u001b[0m\u001b[0mText\u001b[0m\u001b[0;34m(\u001b[0m\u001b[0mtexts_sarcastic\u001b[0m\u001b[0;34m)\u001b[0m\u001b[0;34m\u001b[0m\u001b[0;34m\u001b[0m\u001b[0m\n",
            "\u001b[0;31mNameError\u001b[0m: name 'markovify' is not defined"
          ]
        }
      ]
    },
    {
      "cell_type": "markdown",
      "metadata": {
        "id": "_zZMwvZFNO3_",
        "colab_type": "text"
      },
      "source": [
        "Generate 20 serious headlines"
      ]
    },
    {
      "cell_type": "code",
      "metadata": {
        "id": "NDKt79ZcNO3_",
        "colab_type": "code",
        "outputId": "afe12edb-c5a3-4a90-cd03-7d95da3ebc7f",
        "colab": {
          "base_uri": "https://localhost:8080/",
          "height": 178
        }
      },
      "source": [
        "for i in range(20):\n",
        "    print(serious_model.make_sentence())"
      ],
      "execution_count": 0,
      "outputs": [
        {
          "output_type": "error",
          "ename": "NameError",
          "evalue": "ignored",
          "traceback": [
            "\u001b[0;31m---------------------------------------------------------------------------\u001b[0m",
            "\u001b[0;31mNameError\u001b[0m                                 Traceback (most recent call last)",
            "\u001b[0;32m<ipython-input-7-87adba752dd3>\u001b[0m in \u001b[0;36m<module>\u001b[0;34m()\u001b[0m\n\u001b[1;32m      1\u001b[0m \u001b[0;32mfor\u001b[0m \u001b[0mi\u001b[0m \u001b[0;32min\u001b[0m \u001b[0mrange\u001b[0m\u001b[0;34m(\u001b[0m\u001b[0;36m20\u001b[0m\u001b[0;34m)\u001b[0m\u001b[0;34m:\u001b[0m\u001b[0;34m\u001b[0m\u001b[0;34m\u001b[0m\u001b[0m\n\u001b[0;32m----> 2\u001b[0;31m     \u001b[0mprint\u001b[0m\u001b[0;34m(\u001b[0m\u001b[0mserious_model\u001b[0m\u001b[0;34m.\u001b[0m\u001b[0mmake_sentence\u001b[0m\u001b[0;34m(\u001b[0m\u001b[0;34m)\u001b[0m\u001b[0;34m)\u001b[0m\u001b[0;34m\u001b[0m\u001b[0;34m\u001b[0m\u001b[0m\n\u001b[0m",
            "\u001b[0;31mNameError\u001b[0m: name 'serious_model' is not defined"
          ]
        }
      ]
    },
    {
      "cell_type": "markdown",
      "metadata": {
        "id": "MDQHlJiFNO4B",
        "colab_type": "text"
      },
      "source": [
        "Create model and generate 20 sarcastic headlines"
      ]
    },
    {
      "cell_type": "code",
      "metadata": {
        "id": "OQOc0cWHNO4C",
        "colab_type": "code",
        "outputId": "23ffe994-556f-4d74-b6c2-476f3967aed4",
        "colab": {
          "base_uri": "https://localhost:8080/",
          "height": 371
        }
      },
      "source": [
        "for i in range(20):\n",
        "    print(sarcastic_model.make_sentence())"
      ],
      "execution_count": 0,
      "outputs": [
        {
          "output_type": "stream",
          "text": [
            "president's american manufacturing council down to single tofurkey\n",
            "holocaust film appeals to hispanic voters for return of bachmann's full attention\n",
            "man running toward departing train must have killed great white shark ride\n",
            "texas to execute death row inmates could decimate texas restaurant industry not that original\n",
            "man runs out of this\n",
            "nation surprised to see people as human shields\n",
            "ivana trump calls ex-husband to ask them how they could be last date in ages lets dangling modifier slide\n",
            "bono outbids everyone at work waiting to see the view from apartment's roof\n",
            "area woman always has backup problem just in case rest of year announced\n",
            "new study finds 85% of americans just want to give baby up for adoption\n",
            "man can get by in his state still effectively subhuman\n",
            "weary, cynical woman knows to look directly at sun\n",
            "well known gresham, or musicians form gresham, or musicians form gresham, or supergroup\n",
            "uneasy détente forms between man sitting on shower wall can't believe he's filming another blog off a computer monitor\n",
            "responsible man sets aside small portion of sat with all his wits to get over here\n",
            "valiant fact-checkers once again shines at office must be late, reports cunning viewer recognizing film's subtext\n",
            "bush fishing for compliments during press conference from couch behind podium\n",
            "homosexual tearfully admits to profiting from nazi documentaries\n",
            "coddled potted plant could never make it illegal to charge people money for when audience turns on fox news reporter unafraid to face the cold, hard factoids\n",
            "poll: 89% of americans forced to wait for collaboration with john mellencamp\n"
          ],
          "name": "stdout"
        }
      ]
    },
    {
      "cell_type": "markdown",
      "metadata": {
        "id": "xJ5Jwl8TNO4E",
        "colab_type": "text"
      },
      "source": [
        "## Text generation by Variation Autoencoder"
      ]
    },
    {
      "cell_type": "markdown",
      "metadata": {
        "id": "K63RFOc9NO4E",
        "colab_type": "text"
      },
      "source": [
        "This part of tutorial based on [Text generation with a Variational Autoencoder](https://nicgian.github.io/text-generation-vae/) article. For sentence generation we use Variational Autoencoder (VAE) neural network model that is an extension seq2seq model. Originally VAE was described in [Auto-Encoding Variational Bayes](https://arxiv.org/pdf/1312.6114.pdf) paper. The idea behind Variational Autoencoder is that we impose predefined disribution (e.g., normal distribution) on the latent state formed by encoder. On the one hand this restriction alow us to sample random vectors from normal distribution and generate arbitrary sentences. On the othe hand this restriction form very dense well differentiated space without holes"
      ]
    },
    {
      "cell_type": "code",
      "metadata": {
        "id": "p6gGt8yRNO4E",
        "colab_type": "code",
        "colab": {
          "base_uri": "https://localhost:8080/",
          "height": 33
        },
        "outputId": "d073277d-a576-4fc9-e941-d3b2ed852f43"
      },
      "source": [
        "import tensorflow as tf\n",
        "import tensorflow_addons as tfa\n",
        "\n",
        "\n",
        "from keras.layers import Bidirectional, Dense, Embedding, \\\n",
        "Input, Lambda, LSTM, RepeatVector, TimeDistributed, Layer, Activation, Dropout\n",
        "from keras.preprocessing.sequence import pad_sequences\n",
        "from keras.layers.advanced_activations import ELU\n",
        "from keras.preprocessing.text import Tokenizer\n",
        "from keras.callbacks import ModelCheckpoint\n",
        "from keras.optimizers import Adam\n",
        "from keras import backend as K\n",
        "from keras.models import Model\n",
        "\n",
        "from scipy import spatial\n",
        "import pandas as pd\n",
        "import numpy as np\n",
        "import codecs\n",
        "import random\n",
        "import csv\n",
        "import os\n",
        "\n",
        "from sklearn.model_selection import train_test_split"
      ],
      "execution_count": 7,
      "outputs": [
        {
          "output_type": "stream",
          "text": [
            "Using TensorFlow backend.\n"
          ],
          "name": "stderr"
        }
      ]
    },
    {
      "cell_type": "code",
      "metadata": {
        "id": "vppT5s81r3T-",
        "colab_type": "code",
        "outputId": "4cdc8473-18f1-48b2-9ee3-4c83c8818d46",
        "colab": {
          "base_uri": "https://localhost:8080/",
          "height": 33
        }
      },
      "source": [
        "%tensorflow_version 2.x\n",
        "import tensorflow as tf\n",
        "device_name = tf.test.gpu_device_name()\n",
        "if device_name != '/device:GPU:0':\n",
        "  raise SystemError('GPU device not found')\n",
        "print('Found GPU at: {}'.format(device_name))"
      ],
      "execution_count": 8,
      "outputs": [
        {
          "output_type": "stream",
          "text": [
            "Found GPU at: /device:GPU:0\n"
          ],
          "name": "stdout"
        }
      ]
    },
    {
      "cell_type": "markdown",
      "metadata": {
        "id": "JG9qeYThNO4H",
        "colab_type": "text"
      },
      "source": [
        "Dowload [GloVe](http://nlp.stanford.edu/data/glove.6B.zip) pretrained word embedding vectors"
      ]
    },
    {
      "cell_type": "code",
      "metadata": {
        "id": "wliKwdPug6qN",
        "colab_type": "code",
        "outputId": "7fa55c37-c608-41b1-94b1-52b8e7033843",
        "colab": {
          "base_uri": "https://localhost:8080/",
          "height": 301
        }
      },
      "source": [
        "!wget http://nlp.stanford.edu/data/glove.6B.zip"
      ],
      "execution_count": 0,
      "outputs": [
        {
          "output_type": "stream",
          "text": [
            "--2020-05-24 19:14:24--  http://nlp.stanford.edu/data/glove.6B.zip\n",
            "Resolving nlp.stanford.edu (nlp.stanford.edu)... 171.64.67.140\n",
            "Connecting to nlp.stanford.edu (nlp.stanford.edu)|171.64.67.140|:80... connected.\n",
            "HTTP request sent, awaiting response... 302 Found\n",
            "Location: https://nlp.stanford.edu/data/glove.6B.zip [following]\n",
            "--2020-05-24 19:14:25--  https://nlp.stanford.edu/data/glove.6B.zip\n",
            "Connecting to nlp.stanford.edu (nlp.stanford.edu)|171.64.67.140|:443... connected.\n",
            "HTTP request sent, awaiting response... 301 Moved Permanently\n",
            "Location: http://downloads.cs.stanford.edu/nlp/data/glove.6B.zip [following]\n",
            "--2020-05-24 19:14:25--  http://downloads.cs.stanford.edu/nlp/data/glove.6B.zip\n",
            "Resolving downloads.cs.stanford.edu (downloads.cs.stanford.edu)... 171.64.64.22\n",
            "Connecting to downloads.cs.stanford.edu (downloads.cs.stanford.edu)|171.64.64.22|:80... connected.\n",
            "HTTP request sent, awaiting response... 200 OK\n",
            "Length: 862182613 (822M) [application/zip]\n",
            "Saving to: ‘glove.6B.zip.1’\n",
            "\n",
            "glove.6B.zip.1        0%[                    ] 898.60K  3.80MB/s               ^C\n"
          ],
          "name": "stdout"
        }
      ]
    },
    {
      "cell_type": "code",
      "metadata": {
        "id": "4bkWe_Rnl-Gv",
        "colab_type": "code",
        "outputId": "6f07a5b9-377d-4fa6-cf73-ce585a360b55",
        "colab": {
          "base_uri": "https://localhost:8080/",
          "height": 100
        }
      },
      "source": [
        "! unzip glove.6B.zip"
      ],
      "execution_count": 0,
      "outputs": [
        {
          "output_type": "stream",
          "text": [
            "Archive:  glove.6B.zip\n",
            "  inflating: glove.6B.50d.txt        \n",
            "  inflating: glove.6B.100d.txt       \n",
            "  inflating: glove.6B.200d.txt       \n",
            "  inflating: glove.6B.300d.txt       \n"
          ],
          "name": "stdout"
        }
      ]
    },
    {
      "cell_type": "code",
      "metadata": {
        "id": "LRO5eyfjNO4H",
        "colab_type": "code",
        "colab": {}
      },
      "source": [
        "MAX_SEQUENCE_LENGTH = 15 # Max text length in tokens\n",
        "MAX_NB_WORDS = 20000 # Max words in dictionary\n",
        "EMBEDDING_DIM = 50 # Dimensionality of GloVe vectors \n",
        "\n",
        "GLOVE_EMBEDDING = 'glove.6B.50d.txt'\n",
        "\n",
        "train_data, val_data = train_test_split(data, test_size = .25, random_state= 42)\n",
        "train_data.to_csv('train_data.csv')\n",
        "val_data.to_csv('val_data.csv')\n"
      ],
      "execution_count": 0,
      "outputs": []
    },
    {
      "cell_type": "markdown",
      "metadata": {
        "id": "yZIhktGyNO4J",
        "colab_type": "text"
      },
      "source": [
        "Create sentence tokenizer and two dictionaries: word_to_id and id_to_word\n",
        "\n",
        "For tokenisation we use [Tokenizer](https://www.tensorflow.org/api_docs/python/tf/keras/preprocessing/text/Tokenizer) from keras library."
      ]
    },
    {
      "cell_type": "code",
      "metadata": {
        "id": "eIqnRARPgCiT",
        "colab_type": "code",
        "colab": {}
      },
      "source": [
        "import re\n",
        "txt = texts_sarcastic+ texts_serious\n",
        "txt = [re.sub(f\"\\'\",'',sent) for sent in txt]\n"
      ],
      "execution_count": 0,
      "outputs": []
    },
    {
      "cell_type": "code",
      "metadata": {
        "id": "mUan2IgCNO4J",
        "colab_type": "code",
        "colab": {}
      },
      "source": [
        " #your code here\n",
        "\n",
        "tokenizer = Tokenizer(MAX_NB_WORDS)\n",
        "tokenizer.fit_on_texts(txt)\n",
        "word_to_id = tokenizer.word_index \n",
        "word_to_id = {k:v for k,v in  word_to_id.items()}\n",
        "id_to_word = {v:k for k,v in word_to_id.items()}"
      ],
      "execution_count": 0,
      "outputs": []
    },
    {
      "cell_type": "markdown",
      "metadata": {
        "id": "JGO1n0wyNO4L",
        "colab_type": "text"
      },
      "source": [
        "Tokenize sarcastic texts and create tensor composed of tokens indexes. If a sentence shorter than MAX_SEQUENCE_LENGTH we pad it. If a sentence longer than MAX_SEQUENCE_LENGTH we cut it."
      ]
    },
    {
      "cell_type": "code",
      "metadata": {
        "id": "3jsUsnDoNO4L",
        "colab_type": "code",
        "colab": {}
      },
      "source": [
        "#your code here\n",
        "\n",
        "sequences = tokenizer.texts_to_sequences(texts_sarcastic)\n",
        "sequences = pad_sequences(sequences, maxlen=MAX_SEQUENCE_LENGTH, padding = 'post')\n",
        "\n",
        "NB_WORDS = (min(tokenizer.num_words, len(word_to_id)) + 1 )"
      ],
      "execution_count": 0,
      "outputs": []
    },
    {
      "cell_type": "code",
      "metadata": {
        "id": "VhUP3Vz5jGGE",
        "colab_type": "code",
        "outputId": "51ad7c29-4ce8-4752-be21-170aa603eba1",
        "colab": {
          "base_uri": "https://localhost:8080/",
          "height": 134
        }
      },
      "source": [
        "sequences"
      ],
      "execution_count": 28,
      "outputs": [
        {
          "output_type": "execute_result",
          "data": {
            "text/plain": [
              "array([[15263,   360,  3224, ...,     0,     0,     0],\n",
              "       [11177,  1569,  6428, ...,     0,     0,     0],\n",
              "       [  449,   495,   305, ...,     0,     0,     0],\n",
              "       ...,\n",
              "       [ 5853,  7197,  5609, ...,     0,     0,     0],\n",
              "       [ 1894,  1328,  3317, ...,     0,     0,     0],\n",
              "       [  217,  3290,    20, ...,     0,     0,     0]], dtype=int32)"
            ]
          },
          "metadata": {
            "tags": []
          },
          "execution_count": 28
        }
      ]
    },
    {
      "cell_type": "code",
      "metadata": {
        "id": "6ZbZ5hKllVpH",
        "colab_type": "code",
        "outputId": "b91910de-7da5-4ff0-98cc-82c7452da0e9",
        "colab": {
          "base_uri": "https://localhost:8080/",
          "height": 404
        }
      },
      "source": [
        "train_data"
      ],
      "execution_count": 29,
      "outputs": [
        {
          "output_type": "execute_result",
          "data": {
            "text/html": [
              "<div>\n",
              "<style scoped>\n",
              "    .dataframe tbody tr th:only-of-type {\n",
              "        vertical-align: middle;\n",
              "    }\n",
              "\n",
              "    .dataframe tbody tr th {\n",
              "        vertical-align: top;\n",
              "    }\n",
              "\n",
              "    .dataframe thead th {\n",
              "        text-align: right;\n",
              "    }\n",
              "</style>\n",
              "<table border=\"1\" class=\"dataframe\">\n",
              "  <thead>\n",
              "    <tr style=\"text-align: right;\">\n",
              "      <th></th>\n",
              "      <th>is_sarcastic</th>\n",
              "      <th>headline</th>\n",
              "      <th>article_link</th>\n",
              "    </tr>\n",
              "  </thead>\n",
              "  <tbody>\n",
              "    <tr>\n",
              "      <th>28580</th>\n",
              "      <td>False</td>\n",
              "      <td>pit bull lovers gather in washington</td>\n",
              "      <td>https://www.huffingtonpost.com/entry/pit-bull-...</td>\n",
              "    </tr>\n",
              "    <tr>\n",
              "      <th>14354</th>\n",
              "      <td>True</td>\n",
              "      <td>new tech-support caste arises in india</td>\n",
              "      <td>https://www.theonion.com/new-tech-support-cast...</td>\n",
              "    </tr>\n",
              "    <tr>\n",
              "      <th>19070</th>\n",
              "      <td>True</td>\n",
              "      <td>amazing original thing to become hated cliché ...</td>\n",
              "      <td>https://www.theonion.com/amazing-original-thin...</td>\n",
              "    </tr>\n",
              "    <tr>\n",
              "      <th>5045</th>\n",
              "      <td>False</td>\n",
              "      <td>united airlines temporarily suspends cargo tra...</td>\n",
              "      <td>https://www.huffingtonpost.com/entry/united-su...</td>\n",
              "    </tr>\n",
              "    <tr>\n",
              "      <th>24640</th>\n",
              "      <td>False</td>\n",
              "      <td>cuba and the united states: the long view</td>\n",
              "      <td>https://www.huffingtonpost.com/entry/cuba-and-...</td>\n",
              "    </tr>\n",
              "    <tr>\n",
              "      <th>...</th>\n",
              "      <td>...</td>\n",
              "      <td>...</td>\n",
              "      <td>...</td>\n",
              "    </tr>\n",
              "    <tr>\n",
              "      <th>21575</th>\n",
              "      <td>True</td>\n",
              "      <td>turnout lower than expected for gala central a...</td>\n",
              "      <td>https://www.theonion.com/turnout-lower-than-ex...</td>\n",
              "    </tr>\n",
              "    <tr>\n",
              "      <th>5390</th>\n",
              "      <td>True</td>\n",
              "      <td>retreating clinton campaign torches iowa town ...</td>\n",
              "      <td>https://politics.theonion.com/retreating-clint...</td>\n",
              "    </tr>\n",
              "    <tr>\n",
              "      <th>860</th>\n",
              "      <td>True</td>\n",
              "      <td>national weather service to give hurricanes fu...</td>\n",
              "      <td>https://www.theonion.com/national-weather-serv...</td>\n",
              "    </tr>\n",
              "    <tr>\n",
              "      <th>15795</th>\n",
              "      <td>True</td>\n",
              "      <td>christ returns for some of his old things</td>\n",
              "      <td>https://www.theonion.com/christ-returns-for-so...</td>\n",
              "    </tr>\n",
              "    <tr>\n",
              "      <th>23654</th>\n",
              "      <td>True</td>\n",
              "      <td>loophole in curse lets archaeologist off the hook</td>\n",
              "      <td>https://www.theonion.com/loophole-in-curse-let...</td>\n",
              "    </tr>\n",
              "  </tbody>\n",
              "</table>\n",
              "<p>21464 rows × 3 columns</p>\n",
              "</div>"
            ],
            "text/plain": [
              "       is_sarcastic  ...                                       article_link\n",
              "28580         False  ...  https://www.huffingtonpost.com/entry/pit-bull-...\n",
              "14354          True  ...  https://www.theonion.com/new-tech-support-cast...\n",
              "19070          True  ...  https://www.theonion.com/amazing-original-thin...\n",
              "5045          False  ...  https://www.huffingtonpost.com/entry/united-su...\n",
              "24640         False  ...  https://www.huffingtonpost.com/entry/cuba-and-...\n",
              "...             ...  ...                                                ...\n",
              "21575          True  ...  https://www.theonion.com/turnout-lower-than-ex...\n",
              "5390           True  ...  https://politics.theonion.com/retreating-clint...\n",
              "860            True  ...  https://www.theonion.com/national-weather-serv...\n",
              "15795          True  ...  https://www.theonion.com/christ-returns-for-so...\n",
              "23654          True  ...  https://www.theonion.com/loophole-in-curse-let...\n",
              "\n",
              "[21464 rows x 3 columns]"
            ]
          },
          "metadata": {
            "tags": []
          },
          "execution_count": 29
        }
      ]
    },
    {
      "cell_type": "markdown",
      "metadata": {
        "id": "ehtDdjiDNO4N",
        "colab_type": "text"
      },
      "source": [
        "Define batch generator to train a neural network\n",
        "\n",
        "For padding sentences to max length we use [pad_sequences](https://www.tensorflow.org/api_docs/python/tf/keras/preprocessing/sequence/pad_sequences)"
      ]
    },
    {
      "cell_type": "code",
      "metadata": {
        "id": "jTj-u-QvNO4O",
        "colab_type": "code",
        "outputId": "20a13f43-4463-4994-b337-d9d7cceb9993",
        "colab": {
          "base_uri": "https://localhost:8080/",
          "height": 1000
        }
      },
      "source": [
        "def sent_generator(TRAIN_DATA_FILE, batchsize):\n",
        "    # Create iterator that reads dataset file batch by batch \n",
        "    #your code here\n",
        "    #Suffle the data file\n",
        "    full = pd.read_csv(TRAIN_DATA_FILE)\n",
        "    indexes = np.random.choice (range(len(full)),len(full),False)\n",
        "    \n",
        "    shuffled = full.iloc[indexes]\n",
        "\n",
        "    reader = [shuffled.iloc[batchsize*i: batchsize*i +batchsize,:] for i in range(int(np.ceil(len(full)/batchsize)))]\n",
        "\n",
        "    \n",
        "    for df in reader:\n",
        "\n",
        "        # Read a column that contains headlines\n",
        "        #your code here\n",
        "        texts = list(df['headline'])\n",
        "        texts = [re.sub(\"\\'\",'',sent) for sent in texts]\n",
        "        if len (texts)<batchsize:\n",
        "          texts = texts + [' ']*(batchsize - len(texts))\n",
        "\n",
        "        # Tokenize texts and create padded tensor composed of tokens indexes\n",
        "        sequences = tokenizer.texts_to_sequences(texts)\n",
        "        sequences = pad_sequences(sequences, maxlen=MAX_SEQUENCE_LENGTH, padding='post')\n",
        "        \n",
        "        # Return input-target pairs\n",
        "        #your code here\n",
        "\n",
        "        yield [sequences, sequences] \n",
        "\n",
        "print([a for a in sent_generator('train_data.csv',  64)][:1])"
      ],
      "execution_count": 91,
      "outputs": [
        {
          "output_type": "stream",
          "text": [
            "[[array([[   13,   451,   490,    21,     2,   349,     5,    56,    53,\n",
            "            4,    89,  5135,    18,  2951,   928],\n",
            "       [  459,  1605,    20,    38,    35,   485,    62,    82,   114,\n",
            "           66,   470,     2,   126,    42,    47],\n",
            "       [    8,    67,     3,    56,   899,    15,     3,  3012,   387,\n",
            "         3789,     0,     0,     0,     0,     0],\n",
            "       [  360,   934,   371,     1, 10940,    34,   128,   556,     0,\n",
            "            0,     0,     0,     0,     0,     0],\n",
            "       [  509,  4927,    49,    50,   901,    25,    12,  1184,  6983,\n",
            "          635,     2, 11198,  1942,     7,   814],\n",
            "       [ 1438,  4411,  1299,   532,    86,  9566,    21,   372,     0,\n",
            "            0,     0,     0,     0,     0,     0],\n",
            "       [  122,    89,    19,  1225,   532,   184,    43,   798,   534,\n",
            "            0,     0,     0,     0,     0,     0],\n",
            "       [  233,    55,    12,   658,   370,    35,  1760,    27,   157,\n",
            "           29,  5697,  1784,     0,     0,     0],\n",
            "       [17671,  3702,    11,  7496,     2,  3601,     1, 12505, 12598,\n",
            "            4,   847,    12,   163,   393,  1686],\n",
            "       [  125,  4240,  6749,   797,    22, 10872,    62,    30,   966,\n",
            "            0,     0,     0,     0,     0,     0],\n",
            "       [ 2033,   926,   194,  3587,    29,    52,    75, 12246,     1,\n",
            "          901,  1203,     2,   883,   388,     0],\n",
            "       [ 2816,  5106,  3509,     6,  3006,   134,  1444,  2189,     0,\n",
            "            0,     0,     0,     0,     0,     0],\n",
            "       [ 2742,     2,   536,  4515,     1,   262,  1205,     0,     0,\n",
            "            0,     0,     0,     0,     0,     0],\n",
            "       [  250,   983,   891,  2180,    45,   258,   839,   266,    10,\n",
            "          423,  1539,     0,     0,     0,     0],\n",
            "       [ 1830,   582,  2971,  1733,   326,    14,     6,   244,    53,\n",
            "            5,   149,    85,     0,     0,     0],\n",
            "       [ 2145,    62,  7155,   458,   381,     1,   183,     5, 13835,\n",
            "        10266,   218,  8676,     0,     0,     0],\n",
            "       [ 1973,  1276,   113,   101,  3052,  2305,     1,   178,  5262,\n",
            "          491,    90,   187,  3152,     0,     0],\n",
            "       [  414,     2,  1261,    99,  1284,    34,   218,   101,  5322,\n",
            "            0,     0,     0,     0,     0,     0],\n",
            "       [    7, 14558,  1508,   194,    32,  7290,    61,   172,   663,\n",
            "          315,     0,     0,     0,     0,     0],\n",
            "       [16378, 11294,   197, 11858,  2659,     0,     0,     0,     0,\n",
            "            0,     0,     0,     0,     0,     0],\n",
            "       [ 1669,   305,  4409,    21,   128,   293,   810,    44,     0,\n",
            "            0,     0,     0,     0,     0,     0],\n",
            "       [  141,  1257,     1,  2712,  4259,     4,  1500,  1128,     0,\n",
            "            0,     0,     0,     0,     0,     0],\n",
            "       [  120,  5091,  2015,    97,    13,     4,  1189,  5106, 12323,\n",
            "         6450,  1464,     0,     0,     0,     0],\n",
            "       [  119,    17,  4192,    24,   201,     0,     0,     0,     0,\n",
            "            0,     0,     0,     0,     0,     0],\n",
            "       [   19,  1022,    42,   511,  3556,   946,     8,  6389,  2555,\n",
            "            0,     0,     0,     0,     0,     0],\n",
            "       [  193,   286,   957,   251,   137,   555,     0,     0,     0,\n",
            "            0,     0,     0,     0,     0,     0],\n",
            "       [ 5536, 17842,    29,  1082,   375,   227,  4395,     0,     0,\n",
            "            0,     0,     0,     0,     0,     0],\n",
            "       [  339,   729,   136,  2430,  1385,   119,  1470,    14,   712,\n",
            "          468,  5120,  6465,   489,     0,     0],\n",
            "       [ 5383,     2,   331,  2863, 11831,     9,     3,  5575,   821,\n",
            "            0,     0,     0,     0,     0,     0],\n",
            "       [  350,    79,     6,  1785,    24,    34,   146,    10,    28,\n",
            "            5,    17,     0,     0,     0,     0],\n",
            "       [14335,  2620, 10967, 14753,  2361,   185,   116,   129,     0,\n",
            "            0,     0,     0,     0,     0,     0],\n",
            "       [ 1023, 12735,  4200,    28,     6,   416,   132,  1444,   132,\n",
            "          654,     0,     0,     0,     0,     0],\n",
            "       [   83,   759,    15, 14720,     0,     0,     0,     0,     0,\n",
            "            0,     0,     0,     0,     0,     0],\n",
            "       [ 1076,    37,     4,     3,  3052,   118,    59,    93,   137,\n",
            "          693,     5,    26,     0,     0,     0],\n",
            "       [  399,   836, 14642,   791,  1245,  4168,  4329,     0,     0,\n",
            "            0,     0,     0,     0,     0,     0],\n",
            "       [   36,   997,  3081,   213, 14925,     9,     4, 10512,    54,\n",
            "           26,    76,    70,     7,  1639,   185],\n",
            "       [  587,    37,  2073,  8226,  1812,  7668,   137,     0,     0,\n",
            "            0,     0,     0,     0,     0,     0],\n",
            "       [   81,  1349, 10103,   883,   926,     8,    88,   182,  1819,\n",
            "            0,     0,     0,     0,     0,     0],\n",
            "       [ 9678,  5108,  6447,     0,     0,     0,     0,     0,     0,\n",
            "            0,     0,     0,     0,     0,     0],\n",
            "       [ 1796, 14663,   163,   263,     6,  1757,   769,    16,   698,\n",
            "         1032,     0,     0,     0,     0,     0],\n",
            "       [ 8262,  9964,    37,   154,   305,   364,  1011, 12500,     0,\n",
            "            0,     0,     0,     0,     0,     0],\n",
            "       [   73,   575,  3357,    40,  3442,     1,  5295,  4383,   407,\n",
            "            0,     0,     0,     0,     0,     0],\n",
            "       [  205,  3388,  2063,    16,     3,  7010,   613,  7333,     0,\n",
            "            0,     0,     0,     0,     0,     0],\n",
            "       [   35,     3,   111,  8842,    15, 14521,     0,     0,     0,\n",
            "            0,     0,     0,     0,     0,     0],\n",
            "       [ 7698,     3,   100,   408,     4,   822,   860,     9,   218,\n",
            "            0,     0,     0,     0,     0,     0],\n",
            "       [   20,   946,    10,  5024,  2106,  9837,  8095,     4,     6,\n",
            "         6942,    93,     0,     0,     0,     0],\n",
            "       [ 1744,   130,     9, 11742,  9406,     4,  2257,  4064,   137,\n",
            "         7833,     1,  6751,     7,     0,     0],\n",
            "       [ 1460,   279,   219,   658,    37, 19079, 19080,   524, 19081,\n",
            "         2341,     0,     0,     0,     0,     0],\n",
            "       [ 3776,  3776, 18233,  1689,   128,  2205,     0,     0,     0,\n",
            "            0,     0,     0,     0,     0,     0],\n",
            "       [  130,  3411,     3,   558,     2,  8311, 11163,    84,   173,\n",
            "          110,   344,    16,     0,     0,     0],\n",
            "       [ 3473,  5374,  4478,  7211,    25,    88,  1803,     0,     0,\n",
            "            0,     0,     0,     0,     0,     0],\n",
            "       [   11,   263,   299, 13699,  1370,     1,  1154,  2524,    99,\n",
            "          109,     0,     0,     0,     0,     0],\n",
            "       [ 4929,  5729,   237,     3,   371,     8,  1022,   285,     2,\n",
            "            3, 14484,  5389,  2908,   774,     0],\n",
            "       [    3,     0,     0,     0,     0,     0,     0,     0,     0,\n",
            "            0,     0,     0,     0,     0,     0],\n",
            "       [   51,    13,   198,  7083,  3240,   909,     2,   445,  1200,\n",
            "            0,     0,     0,     0,     0,     0],\n",
            "       [  460,     9,  1994,    81,  1884,     0,     0,     0,     0,\n",
            "            0,     0,     0,     0,     0,     0],\n",
            "       [  192,    48,   437,     2,   506,  2076,   490,     0,     0,\n",
            "            0,     0,     0,     0,     0,     0],\n",
            "       [16406,  2900,   971,  1906,    26,  1120,     1,   178,     1,\n",
            "         2764,  2929,   203,     0,     0,     0],\n",
            "       [ 9719,     2,   657,  3406,     5,  2372,     2,   657,     0,\n",
            "            0,     0,     0,     0,     0,     0],\n",
            "       [ 6995,  6996,    31,    17,  3221,     0,     0,     0,     0,\n",
            "            0,     0,     0,     0,     0,     0],\n",
            "       [ 2187,  9786,   748,   258,   642,  4454,    41,   723,     2,\n",
            "          138,     0,     0,     0,     0,     0],\n",
            "       [ 1966,    69,  1160,    30,  1460,  1615,   529,     0,     0,\n",
            "            0,     0,     0,     0,     0,     0],\n",
            "       [  126,  7775,   258,  6425,   206,    38,  1015,    43,    57,\n",
            "          918,     0,     0,     0,     0,     0],\n",
            "       [ 2161,  2312,  1372,  1058,   253,    38,   507,  2185,   654,\n",
            "          114,    54,     0,     0,     0,     0]], dtype=int32), array([[   13,   451,   490,    21,     2,   349,     5,    56,    53,\n",
            "            4,    89,  5135,    18,  2951,   928],\n",
            "       [  459,  1605,    20,    38,    35,   485,    62,    82,   114,\n",
            "           66,   470,     2,   126,    42,    47],\n",
            "       [    8,    67,     3,    56,   899,    15,     3,  3012,   387,\n",
            "         3789,     0,     0,     0,     0,     0],\n",
            "       [  360,   934,   371,     1, 10940,    34,   128,   556,     0,\n",
            "            0,     0,     0,     0,     0,     0],\n",
            "       [  509,  4927,    49,    50,   901,    25,    12,  1184,  6983,\n",
            "          635,     2, 11198,  1942,     7,   814],\n",
            "       [ 1438,  4411,  1299,   532,    86,  9566,    21,   372,     0,\n",
            "            0,     0,     0,     0,     0,     0],\n",
            "       [  122,    89,    19,  1225,   532,   184,    43,   798,   534,\n",
            "            0,     0,     0,     0,     0,     0],\n",
            "       [  233,    55,    12,   658,   370,    35,  1760,    27,   157,\n",
            "           29,  5697,  1784,     0,     0,     0],\n",
            "       [17671,  3702,    11,  7496,     2,  3601,     1, 12505, 12598,\n",
            "            4,   847,    12,   163,   393,  1686],\n",
            "       [  125,  4240,  6749,   797,    22, 10872,    62,    30,   966,\n",
            "            0,     0,     0,     0,     0,     0],\n",
            "       [ 2033,   926,   194,  3587,    29,    52,    75, 12246,     1,\n",
            "          901,  1203,     2,   883,   388,     0],\n",
            "       [ 2816,  5106,  3509,     6,  3006,   134,  1444,  2189,     0,\n",
            "            0,     0,     0,     0,     0,     0],\n",
            "       [ 2742,     2,   536,  4515,     1,   262,  1205,     0,     0,\n",
            "            0,     0,     0,     0,     0,     0],\n",
            "       [  250,   983,   891,  2180,    45,   258,   839,   266,    10,\n",
            "          423,  1539,     0,     0,     0,     0],\n",
            "       [ 1830,   582,  2971,  1733,   326,    14,     6,   244,    53,\n",
            "            5,   149,    85,     0,     0,     0],\n",
            "       [ 2145,    62,  7155,   458,   381,     1,   183,     5, 13835,\n",
            "        10266,   218,  8676,     0,     0,     0],\n",
            "       [ 1973,  1276,   113,   101,  3052,  2305,     1,   178,  5262,\n",
            "          491,    90,   187,  3152,     0,     0],\n",
            "       [  414,     2,  1261,    99,  1284,    34,   218,   101,  5322,\n",
            "            0,     0,     0,     0,     0,     0],\n",
            "       [    7, 14558,  1508,   194,    32,  7290,    61,   172,   663,\n",
            "          315,     0,     0,     0,     0,     0],\n",
            "       [16378, 11294,   197, 11858,  2659,     0,     0,     0,     0,\n",
            "            0,     0,     0,     0,     0,     0],\n",
            "       [ 1669,   305,  4409,    21,   128,   293,   810,    44,     0,\n",
            "            0,     0,     0,     0,     0,     0],\n",
            "       [  141,  1257,     1,  2712,  4259,     4,  1500,  1128,     0,\n",
            "            0,     0,     0,     0,     0,     0],\n",
            "       [  120,  5091,  2015,    97,    13,     4,  1189,  5106, 12323,\n",
            "         6450,  1464,     0,     0,     0,     0],\n",
            "       [  119,    17,  4192,    24,   201,     0,     0,     0,     0,\n",
            "            0,     0,     0,     0,     0,     0],\n",
            "       [   19,  1022,    42,   511,  3556,   946,     8,  6389,  2555,\n",
            "            0,     0,     0,     0,     0,     0],\n",
            "       [  193,   286,   957,   251,   137,   555,     0,     0,     0,\n",
            "            0,     0,     0,     0,     0,     0],\n",
            "       [ 5536, 17842,    29,  1082,   375,   227,  4395,     0,     0,\n",
            "            0,     0,     0,     0,     0,     0],\n",
            "       [  339,   729,   136,  2430,  1385,   119,  1470,    14,   712,\n",
            "          468,  5120,  6465,   489,     0,     0],\n",
            "       [ 5383,     2,   331,  2863, 11831,     9,     3,  5575,   821,\n",
            "            0,     0,     0,     0,     0,     0],\n",
            "       [  350,    79,     6,  1785,    24,    34,   146,    10,    28,\n",
            "            5,    17,     0,     0,     0,     0],\n",
            "       [14335,  2620, 10967, 14753,  2361,   185,   116,   129,     0,\n",
            "            0,     0,     0,     0,     0,     0],\n",
            "       [ 1023, 12735,  4200,    28,     6,   416,   132,  1444,   132,\n",
            "          654,     0,     0,     0,     0,     0],\n",
            "       [   83,   759,    15, 14720,     0,     0,     0,     0,     0,\n",
            "            0,     0,     0,     0,     0,     0],\n",
            "       [ 1076,    37,     4,     3,  3052,   118,    59,    93,   137,\n",
            "          693,     5,    26,     0,     0,     0],\n",
            "       [  399,   836, 14642,   791,  1245,  4168,  4329,     0,     0,\n",
            "            0,     0,     0,     0,     0,     0],\n",
            "       [   36,   997,  3081,   213, 14925,     9,     4, 10512,    54,\n",
            "           26,    76,    70,     7,  1639,   185],\n",
            "       [  587,    37,  2073,  8226,  1812,  7668,   137,     0,     0,\n",
            "            0,     0,     0,     0,     0,     0],\n",
            "       [   81,  1349, 10103,   883,   926,     8,    88,   182,  1819,\n",
            "            0,     0,     0,     0,     0,     0],\n",
            "       [ 9678,  5108,  6447,     0,     0,     0,     0,     0,     0,\n",
            "            0,     0,     0,     0,     0,     0],\n",
            "       [ 1796, 14663,   163,   263,     6,  1757,   769,    16,   698,\n",
            "         1032,     0,     0,     0,     0,     0],\n",
            "       [ 8262,  9964,    37,   154,   305,   364,  1011, 12500,     0,\n",
            "            0,     0,     0,     0,     0,     0],\n",
            "       [   73,   575,  3357,    40,  3442,     1,  5295,  4383,   407,\n",
            "            0,     0,     0,     0,     0,     0],\n",
            "       [  205,  3388,  2063,    16,     3,  7010,   613,  7333,     0,\n",
            "            0,     0,     0,     0,     0,     0],\n",
            "       [   35,     3,   111,  8842,    15, 14521,     0,     0,     0,\n",
            "            0,     0,     0,     0,     0,     0],\n",
            "       [ 7698,     3,   100,   408,     4,   822,   860,     9,   218,\n",
            "            0,     0,     0,     0,     0,     0],\n",
            "       [   20,   946,    10,  5024,  2106,  9837,  8095,     4,     6,\n",
            "         6942,    93,     0,     0,     0,     0],\n",
            "       [ 1744,   130,     9, 11742,  9406,     4,  2257,  4064,   137,\n",
            "         7833,     1,  6751,     7,     0,     0],\n",
            "       [ 1460,   279,   219,   658,    37, 19079, 19080,   524, 19081,\n",
            "         2341,     0,     0,     0,     0,     0],\n",
            "       [ 3776,  3776, 18233,  1689,   128,  2205,     0,     0,     0,\n",
            "            0,     0,     0,     0,     0,     0],\n",
            "       [  130,  3411,     3,   558,     2,  8311, 11163,    84,   173,\n",
            "          110,   344,    16,     0,     0,     0],\n",
            "       [ 3473,  5374,  4478,  7211,    25,    88,  1803,     0,     0,\n",
            "            0,     0,     0,     0,     0,     0],\n",
            "       [   11,   263,   299, 13699,  1370,     1,  1154,  2524,    99,\n",
            "          109,     0,     0,     0,     0,     0],\n",
            "       [ 4929,  5729,   237,     3,   371,     8,  1022,   285,     2,\n",
            "            3, 14484,  5389,  2908,   774,     0],\n",
            "       [    3,     0,     0,     0,     0,     0,     0,     0,     0,\n",
            "            0,     0,     0,     0,     0,     0],\n",
            "       [   51,    13,   198,  7083,  3240,   909,     2,   445,  1200,\n",
            "            0,     0,     0,     0,     0,     0],\n",
            "       [  460,     9,  1994,    81,  1884,     0,     0,     0,     0,\n",
            "            0,     0,     0,     0,     0,     0],\n",
            "       [  192,    48,   437,     2,   506,  2076,   490,     0,     0,\n",
            "            0,     0,     0,     0,     0,     0],\n",
            "       [16406,  2900,   971,  1906,    26,  1120,     1,   178,     1,\n",
            "         2764,  2929,   203,     0,     0,     0],\n",
            "       [ 9719,     2,   657,  3406,     5,  2372,     2,   657,     0,\n",
            "            0,     0,     0,     0,     0,     0],\n",
            "       [ 6995,  6996,    31,    17,  3221,     0,     0,     0,     0,\n",
            "            0,     0,     0,     0,     0,     0],\n",
            "       [ 2187,  9786,   748,   258,   642,  4454,    41,   723,     2,\n",
            "          138,     0,     0,     0,     0,     0],\n",
            "       [ 1966,    69,  1160,    30,  1460,  1615,   529,     0,     0,\n",
            "            0,     0,     0,     0,     0,     0],\n",
            "       [  126,  7775,   258,  6425,   206,    38,  1015,    43,    57,\n",
            "          918,     0,     0,     0,     0,     0],\n",
            "       [ 2161,  2312,  1372,  1058,   253,    38,   507,  2185,   654,\n",
            "          114,    54,     0,     0,     0,     0]], dtype=int32)]]\n"
          ],
          "name": "stdout"
        }
      ]
    },
    {
      "cell_type": "markdown",
      "metadata": {
        "id": "2ez-r3kaNO4Q",
        "colab_type": "text"
      },
      "source": [
        "Load pretrained GloVe vectors described in [GloVe: Global Vectors for Word Representation](https://nlp.stanford.edu/pubs/glove.pdf) paper"
      ]
    },
    {
      "cell_type": "code",
      "metadata": {
        "id": "lN0hxN0wNO4Q",
        "colab_type": "code",
        "outputId": "798d31a1-4a0a-4497-8d0d-9323c0014b90",
        "colab": {
          "base_uri": "https://localhost:8080/",
          "height": 33
        }
      },
      "source": [
        "embeddings_index = {}\n",
        "with open('glove.6B.50d.txt', encoding='utf-8') as f:\n",
        "    # read rows from file line by line\n",
        "    for line in f:\n",
        "        values = line.split()\n",
        "        word = values[0] # Get word\n",
        "        coefs = np.asarray(values[1:], dtype='float32') # Get elements of word's vector\n",
        "        embeddings_index[word] = coefs\n",
        "\n",
        "print('Found %s word vectors.' % len(embeddings_index))"
      ],
      "execution_count": 92,
      "outputs": [
        {
          "output_type": "stream",
          "text": [
            "Found 400000 word vectors.\n"
          ],
          "name": "stdout"
        }
      ]
    },
    {
      "cell_type": "markdown",
      "metadata": {
        "id": "dUDA9KQzNO4T",
        "colab_type": "text"
      },
      "source": [
        "Create matrix from embedding vectors. Any row of the matrix is a word's vector. We get words from the dictionary word_to_id defined earlier."
      ]
    },
    {
      "cell_type": "code",
      "metadata": {
        "id": "Gkr2nZYUNO4U",
        "colab_type": "code",
        "outputId": "04dbaf03-6d4b-45d8-ccae-0e08feae2c6a",
        "colab": {
          "base_uri": "https://localhost:8080/",
          "height": 33
        }
      },
      "source": [
        "glove_embedding_matrix = np.zeros((NB_WORDS, EMBEDDING_DIM)) # Create empty matrix (max number of tokens, dimension of the embedding vectors)\n",
        "not_in_glove=0\n",
        "nig = []\n",
        "for word, i in word_to_id.items():\n",
        "    #your code here\n",
        "    if i<NB_WORDS:\n",
        "      try:\n",
        "        glove_embedding_matrix[i] = embeddings_index[word]\n",
        "      except:\n",
        "        nig.append(word)\n",
        "        glove_embedding_matrix[i] = embeddings_index['unk']\n",
        "        not_in_glove+=1\n",
        "        continue\n",
        "# compute number of words which there aren't in the GloVe vectors\n",
        "print(f'Null word embeddings: {not_in_glove}')"
      ],
      "execution_count": 93,
      "outputs": [
        {
          "output_type": "stream",
          "text": [
            "Null word embeddings: 626\n"
          ],
          "name": "stdout"
        }
      ]
    },
    {
      "cell_type": "markdown",
      "metadata": {
        "id": "AQ1gaqKSNO4X",
        "colab_type": "text"
      },
      "source": [
        "Define parameters of the net"
      ]
    },
    {
      "cell_type": "code",
      "metadata": {
        "id": "bfIX5PmCSQqW",
        "colab_type": "code",
        "outputId": "4225b08b-8c83-4fef-8e4c-dc27c42c6466",
        "colab": {
          "base_uri": "https://localhost:8080/",
          "height": 1000
        }
      },
      "source": [
        "nig"
      ],
      "execution_count": 94,
      "outputs": [
        {
          "output_type": "execute_result",
          "data": {
            "text/plain": [
              "['shouldnt',\n",
              " 'youve',\n",
              " 'huffpollster',\n",
              " 'familys',\n",
              " 'theyve',\n",
              " 'nsfw',\n",
              " 'oreilly',\n",
              " 'theyll',\n",
              " 'selfie',\n",
              " 'wifes',\n",
              " 'daca',\n",
              " 'brexit',\n",
              " 'metoo',\n",
              " 'cnns',\n",
              " 'werent',\n",
              " 'reince',\n",
              " 'pences',\n",
              " 'arbys',\n",
              " 'netflixs',\n",
              " 'industrys',\n",
              " 'everyones',\n",
              " 'rubios',\n",
              " 'itll',\n",
              " 'zuckerbergs',\n",
              " 'rupauls',\n",
              " 'nras',\n",
              " 'trumpcare',\n",
              " 'blasey',\n",
              " 'shits',\n",
              " 'omalley',\n",
              " 'bannons',\n",
              " 'theyd',\n",
              " 'emoji',\n",
              " 'disick',\n",
              " 'wouldve',\n",
              " 'chicagos',\n",
              " 'nobodys',\n",
              " 'shithole',\n",
              " 'couldve',\n",
              " 'applebees',\n",
              " 'scalias',\n",
              " 'facebooks',\n",
              " 'comeys',\n",
              " 'thatll',\n",
              " 'laquan',\n",
              " 'shkreli',\n",
              " '000th',\n",
              " 'breakroom',\n",
              " 'cruzs',\n",
              " 'markles',\n",
              " 'tonights',\n",
              " 'carsons',\n",
              " 'obamacares',\n",
              " 'cordens',\n",
              " 'selfies',\n",
              " 'kimye',\n",
              " 'beyoncés',\n",
              " 'emojis',\n",
              " 'huffposts',\n",
              " 'syrias',\n",
              " 'adeles',\n",
              " 'fallons',\n",
              " 'icymi',\n",
              " 'cmon',\n",
              " 'infowars',\n",
              " 'hadnt',\n",
              " 'gchat',\n",
              " 'fuckup',\n",
              " 'dipshit',\n",
              " 'truther',\n",
              " 'michelles',\n",
              " 'hatchimals',\n",
              " 'orourke',\n",
              " 'robble',\n",
              " 'irmas',\n",
              " 'dipshits',\n",
              " 'dumbass',\n",
              " 'pornhub',\n",
              " 'shitting',\n",
              " 'everythings',\n",
              " 'bosss',\n",
              " 'oppendahl',\n",
              " 'boehners',\n",
              " 'arpaios',\n",
              " 'kalanick',\n",
              " 'ohios',\n",
              " 'vaxxers',\n",
              " 'trumpism',\n",
              " 'hawaiis',\n",
              " 'paddleboarder',\n",
              " 'lahren',\n",
              " 'warmbier',\n",
              " 'promposal',\n",
              " 'blacklivesmatter',\n",
              " 'michigans',\n",
              " 'philando',\n",
              " 'whcd',\n",
              " 'mh370',\n",
              " 'leelah',\n",
              " 'scaramucci',\n",
              " 'greeces',\n",
              " 'hb2',\n",
              " 'colombias',\n",
              " 'oitnb',\n",
              " 'donts',\n",
              " 'rolos',\n",
              " 'cryptocurrency',\n",
              " 'euphemized',\n",
              " 'societys',\n",
              " 'oclock',\n",
              " 'retweeting',\n",
              " 'egypts',\n",
              " 'anistons',\n",
              " 'chalamet',\n",
              " 'dumbshit',\n",
              " 'autoplaying',\n",
              " 'tammys',\n",
              " 'kirstjen',\n",
              " 'ricola',\n",
              " 'kozlewski',\n",
              " 'urinator',\n",
              " 'comfier',\n",
              " 'masturbators',\n",
              " 'waaah',\n",
              " 'vaticans',\n",
              " 'pussies',\n",
              " 'merkels',\n",
              " 'reapplies',\n",
              " 'carmex',\n",
              " 'rewatching',\n",
              " 'raisinets',\n",
              " 'greenspans',\n",
              " 'hersheys',\n",
              " 'moltzvah',\n",
              " 'melanias',\n",
              " 'hellmanns',\n",
              " 'markered',\n",
              " 'hawkings',\n",
              " 'ladys',\n",
              " 'masturbator',\n",
              " 'altoid',\n",
              " 'humanitys',\n",
              " 'hannitys',\n",
              " 'shithead',\n",
              " 'smores',\n",
              " 'stouffers',\n",
              " 'paltrows',\n",
              " 'moviepass',\n",
              " 'rncs',\n",
              " 'draftkings',\n",
              " 'ivankas',\n",
              " 'precheck',\n",
              " 'beethovens',\n",
              " 'hellscape',\n",
              " 'alabamas',\n",
              " 'gnar',\n",
              " 'retweets',\n",
              " 'bowies',\n",
              " 'antarcticas',\n",
              " 'isil',\n",
              " 'abduls',\n",
              " 'instagrams',\n",
              " 'gorsuchs',\n",
              " 'balvin',\n",
              " 'lopezs',\n",
              " 'kalief',\n",
              " 'russiagate',\n",
              " 'twitterverse',\n",
              " 'motherf',\n",
              " 'philadelphias',\n",
              " 'beyhive',\n",
              " 'motawi',\n",
              " 'oreillys',\n",
              " 'burmas',\n",
              " 'oregons',\n",
              " 'harambes',\n",
              " 'nyfw',\n",
              " 'bullsh',\n",
              " 'teuwen',\n",
              " 'detroits',\n",
              " 'gagas',\n",
              " 'franciscos',\n",
              " 'nigerias',\n",
              " 'witherspoons',\n",
              " 'newfront',\n",
              " 'chibok',\n",
              " 'kentuckys',\n",
              " 'gadot',\n",
              " 'rihannas',\n",
              " 'trumpian',\n",
              " 'thiels',\n",
              " 'nycs',\n",
              " 'odonnells',\n",
              " 'unbreak',\n",
              " 'obvi',\n",
              " 'brooklyns',\n",
              " 'teigens',\n",
              " 'despacito',\n",
              " 'shouldve',\n",
              " 'handsy',\n",
              " 'whove',\n",
              " 'nevertrump',\n",
              " '6x60',\n",
              " 'emilys',\n",
              " 'alcorns',\n",
              " 'broadways',\n",
              " 'coachs',\n",
              " 'odonnell',\n",
              " 'bloombergs',\n",
              " 'universitys',\n",
              " 'daraya',\n",
              " 'kanyes',\n",
              " 'ibtihaj',\n",
              " 'snls',\n",
              " '2014s',\n",
              " 'besties',\n",
              " 'ugandas',\n",
              " 'dutertes',\n",
              " 'buress',\n",
              " 'rodriguezs',\n",
              " 'nasas',\n",
              " 'hiddlestons',\n",
              " 'dashcam',\n",
              " 'talktome',\n",
              " 'seaworlds',\n",
              " '¯',\n",
              " 'douchey',\n",
              " 'ukraines',\n",
              " 'kassig',\n",
              " 'lahrens',\n",
              " 'bransons',\n",
              " 'wideawakepatriot',\n",
              " 'cocksucker',\n",
              " 'tsarnaevs',\n",
              " 'cologned',\n",
              " 'airbrushes',\n",
              " 'xenomorphs',\n",
              " 'blabs',\n",
              " 'pie\\x99',\n",
              " 'cocksuckers',\n",
              " 'molestist',\n",
              " 'pfizers',\n",
              " 'porkys',\n",
              " 'blaseys',\n",
              " 'atony',\n",
              " 'semiotism',\n",
              " 'magrittes',\n",
              " 'megamalls',\n",
              " 'jesus—i',\n",
              " 'waitlist',\n",
              " 'trillionaire',\n",
              " 'underpetted',\n",
              " 'boofing',\n",
              " 'zandts',\n",
              " 'trebeks',\n",
              " 'canbys',\n",
              " 'plotholes',\n",
              " 'gorillagram',\n",
              " 'woodcrafts',\n",
              " 'dumbasses',\n",
              " 'apeshit',\n",
              " 'bowlmate',\n",
              " 'reinforcin',\n",
              " 'gilligans',\n",
              " 'toastables',\n",
              " 'seattles',\n",
              " 'jeffreyton',\n",
              " 'disasty',\n",
              " 'and—holy',\n",
              " 'cow—tony',\n",
              " 'award–nominated',\n",
              " 'conductor—really',\n",
              " 'wow—calypso',\n",
              " 'underpaved',\n",
              " '00000000001',\n",
              " 'frpx',\n",
              " 'k5je',\n",
              " 'oc4n',\n",
              " 'e5dn',\n",
              " 'fearmongers',\n",
              " 'naderite',\n",
              " 'lohans',\n",
              " 'start—and',\n",
              " 'tubmans',\n",
              " 'cracker–wise',\n",
              " 'cortezs',\n",
              " 'grandilomentitudinous',\n",
              " 'mustnt',\n",
              " 'skyeditor',\n",
              " 'sanderses',\n",
              " 'faild',\n",
              " 'nummier',\n",
              " 'sharons',\n",
              " 'mckinleys',\n",
              " 'michelangelos',\n",
              " 'exposer',\n",
              " 'zestitos',\n",
              " 'bombinks',\n",
              " 'disgustipating',\n",
              " 'cornnuts',\n",
              " 'nutsarito',\n",
              " 'horseconnect',\n",
              " 'reisers',\n",
              " 'midwifes',\n",
              " 'perate',\n",
              " 'nigels',\n",
              " 'tempurapedic',\n",
              " 'richies',\n",
              " 'brûlée',\n",
              " 'randos',\n",
              " 'delarge',\n",
              " 'ünited',\n",
              " 'stätes',\n",
              " 'functionless',\n",
              " 'macrowave',\n",
              " 'femstat',\n",
              " 'spumanti',\n",
              " '4se',\n",
              " 'quadriscuits',\n",
              " 'oldenburgs',\n",
              " 'gchats',\n",
              " 'samanthas',\n",
              " 'anchorwomans',\n",
              " 'hestons',\n",
              " 'underdraft',\n",
              " 'lady—remember',\n",
              " '—as',\n",
              " 'loeffelmacher',\n",
              " 'stardew',\n",
              " 'tbfoodsllc',\n",
              " 'dumptruck',\n",
              " 'chaplev',\n",
              " 'mildfires',\n",
              " 'grandchildrens',\n",
              " 'antifa',\n",
              " 'limbaughs',\n",
              " 'prehab',\n",
              " 'chapos',\n",
              " 'rumsfelds',\n",
              " 'wondersplint',\n",
              " 'kickline',\n",
              " 'pubes',\n",
              " 'jigglypuffs',\n",
              " 'ultrachurch',\n",
              " 'berrilicious',\n",
              " 'daddys',\n",
              " 'vieiras',\n",
              " 'whammys',\n",
              " 'doeuvres',\n",
              " 'sashas',\n",
              " 'kimmels',\n",
              " 'araa',\n",
              " 'kayboard',\n",
              " 'bustad',\n",
              " 'boiglerized',\n",
              " 'afterbirthers',\n",
              " 'actresss',\n",
              " 'repletion',\n",
              " 'billcosby',\n",
              " 'nunb',\n",
              " 'arnoth',\n",
              " 'blowjob',\n",
              " 'page–driven',\n",
              " 'waterstons',\n",
              " 'menks',\n",
              " 'lizzos',\n",
              " 'kushners',\n",
              " 'absentminded',\n",
              " 'm4m',\n",
              " 'foxs',\n",
              " 'wharton—wharton',\n",
              " 'ninetysomethings',\n",
              " 'photoshops',\n",
              " 'prizeless',\n",
              " '11717',\n",
              " 'uglification',\n",
              " 'woooo',\n",
              " 'destinys',\n",
              " 'tnts',\n",
              " 'robotrix',\n",
              " 'detangling',\n",
              " 'tedtalk',\n",
              " 'jncos',\n",
              " 'munchstrosity',\n",
              " 'layboratory',\n",
              " 'mlks',\n",
              " 'xabraxian',\n",
              " 'ireporters',\n",
              " 'spokesbeast',\n",
              " 'joels',\n",
              " 'fancyclothes',\n",
              " 'freakonomist',\n",
              " 'reactionist',\n",
              " 'unibeam',\n",
              " 'novλ',\n",
              " 'winwoods',\n",
              " 'christcon',\n",
              " 'mcmuffins',\n",
              " 'napkinless',\n",
              " 'cybergranny',\n",
              " 'indiscrimination',\n",
              " 'hägar',\n",
              " 'wahlbergs',\n",
              " 'radioheads',\n",
              " 'weak—theyre',\n",
              " 'liveblogged',\n",
              " 'megadeths',\n",
              " 'sniglets',\n",
              " '\\u200begyptian',\n",
              " '\\u200bmummies',\n",
              " 'qaddafis',\n",
              " 'tempurpedic',\n",
              " 'lhabab',\n",
              " 'duchen',\n",
              " 'titties',\n",
              " '00003',\n",
              " 'spokeschild',\n",
              " 'beautifies',\n",
              " 'monogramed',\n",
              " 'mitthew',\n",
              " 'dwarvish',\n",
              " 'apatows',\n",
              " 'torrenting',\n",
              " 'inedibles',\n",
              " 'crotchless',\n",
              " 'assing',\n",
              " 'asimovs',\n",
              " 'xylophonist',\n",
              " 'albanys',\n",
              " 'masterstoke',\n",
              " 'scampis',\n",
              " 'ruckeyser',\n",
              " 'rubbermaid\\x99',\n",
              " 'dolphinsoul60s',\n",
              " 'showerin',\n",
              " 'nxivm',\n",
              " 'bodymate',\n",
              " 'fanpage',\n",
              " 'badtz',\n",
              " 'superrman',\n",
              " 'copyediting',\n",
              " 'omnigrain',\n",
              " 'gchatting',\n",
              " 'dressbarn',\n",
              " 'bloodbombs',\n",
              " 'yeezy',\n",
              " 'upbraidings',\n",
              " 'barborak',\n",
              " 'gyno',\n",
              " 'cinnabontography',\n",
              " 'chobani',\n",
              " 'griecos',\n",
              " 'chers',\n",
              " 'shittiest',\n",
              " 'mastiffeagle',\n",
              " 'iowas',\n",
              " 'hatchers',\n",
              " 'wkzn',\n",
              " 'kurrencykook',\n",
              " 'loughlins',\n",
              " 'naawp',\n",
              " 'anesthetizes',\n",
              " '2651',\n",
              " 'strenlow',\n",
              " 'jamesons',\n",
              " 'picassoesque',\n",
              " 'ice–themed',\n",
              " '621st',\n",
              " 'luftwaffle',\n",
              " 'daleys',\n",
              " 'nepotist',\n",
              " 'scattergories',\n",
              " 'earthcuriously',\n",
              " 'mike4763',\n",
              " 'fedexed',\n",
              " 'uncuffing',\n",
              " 'antelopeater',\n",
              " 'mankinds',\n",
              " 'comedys',\n",
              " 'udays',\n",
              " 'nutsack',\n",
              " 'starfucker',\n",
              " 'publik',\n",
              " 'whooshsnaps',\n",
              " 'unicyclist',\n",
              " 'wikiconstitution',\n",
              " 'brueggers',\n",
              " 'mytron',\n",
              " 'arrhythmically',\n",
              " 'deepfake',\n",
              " 'jewmerica',\n",
              " 'acnefree',\n",
              " 'mayflys',\n",
              " 'doxing',\n",
              " 'monarchys',\n",
              " 'cannsas',\n",
              " 'feudalists',\n",
              " 'milanos',\n",
              " 'venezuelas',\n",
              " 'gummis',\n",
              " 'wait—sorry',\n",
              " 'celbritans',\n",
              " '–cuba',\n",
              " 'microlender',\n",
              " 'subhumanity',\n",
              " 'fixins',\n",
              " 'idol\\xa02',\n",
              " '\\xa0winner',\n",
              " 'freedoming',\n",
              " 'drixoral',\n",
              " 'krippendorfs',\n",
              " 'grisled',\n",
              " 'die\\xa0whispered',\n",
              " 'democracys',\n",
              " 'randalia',\n",
              " 'flandemic',\n",
              " 'sacagaweas',\n",
              " '\\u200bgleefully',\n",
              " '\\u200bmocked',\n",
              " 'raytheons',\n",
              " 'photoshopping',\n",
              " 'sneakiest',\n",
              " 'football—nah',\n",
              " 'fleshlighthouse',\n",
              " 'rezzed',\n",
              " 'fiancés',\n",
              " 'americans\\x97nations',\n",
              " 'jaskoviak',\n",
              " 'metrosexuality',\n",
              " 'medicruelty',\n",
              " 'mixxxx',\n",
              " 'squi',\n",
              " 'rhymezone',\n",
              " 'illegibly',\n",
              " 'cryosleep',\n",
              " 'underprotective',\n",
              " 'plasticware',\n",
              " 'nfls',\n",
              " 'overtipper',\n",
              " '10ths',\n",
              " 'anchormans',\n",
              " 'smithereen',\n",
              " 'clancys',\n",
              " 'embalmings',\n",
              " 'bakerys',\n",
              " 'éclairs',\n",
              " 'ossifies',\n",
              " 'skullfucking',\n",
              " 'purdues',\n",
              " 'badmouths',\n",
              " 'unpauses',\n",
              " 'bradburys',\n",
              " 'danishes',\n",
              " 'scrawlings',\n",
              " 'misbuttoned',\n",
              " '3822',\n",
              " 'bracketological',\n",
              " 'aykroyds',\n",
              " 'arizonas',\n",
              " 'turds',\n",
              " 'crennas',\n",
              " 'ihops',\n",
              " 'idahoan',\n",
              " 'loiterer',\n",
              " 'channings',\n",
              " 'buncha',\n",
              " 'historys',\n",
              " 'bachmanns',\n",
              " 'secretarian',\n",
              " 'islamophobe',\n",
              " 'otoole',\n",
              " 'thicks',\n",
              " 'bombie',\n",
              " 'streeps',\n",
              " 'not—she',\n",
              " 'hostings',\n",
              " 'inſurgency',\n",
              " 'hefners',\n",
              " 'handjob',\n",
              " '\\xa0\\xa0\\xa0\\xa0',\n",
              " 'stuporous',\n",
              " 'capn',\n",
              " 'belgiums',\n",
              " 'storkholders',\n",
              " 'eulogizer',\n",
              " 'subtember',\n",
              " 'refry',\n",
              " 'arrabiata',\n",
              " 'lenos',\n",
              " 'krugmans',\n",
              " 'schiavos',\n",
              " 'restocks',\n",
              " 'halloweiner',\n",
              " 'frankfest',\n",
              " 'scaramuccis',\n",
              " 'munchability',\n",
              " 'platinum–level',\n",
              " 'amtraks',\n",
              " 'loréal',\n",
              " 'syria—although',\n",
              " 'monteiths',\n",
              " 'townsperson',\n",
              " 'shopoholism',\n",
              " 'shoposauruses',\n",
              " 'flursday',\n",
              " 'shitload',\n",
              " 'cameltoe',\n",
              " 'odorite',\n",
              " 'craftmatic',\n",
              " 'congressmens',\n",
              " 'sabatinos',\n",
              " 'superstains',\n",
              " 'mccrazy',\n",
              " 'faceshield',\n",
              " 'kaines',\n",
              " 'batshitzania',\n",
              " 'zimmermans',\n",
              " 'kasparovs',\n",
              " 'fuckable',\n",
              " 'yothers',\n",
              " 'mansons',\n",
              " 'employees\\xa0newborn',\n",
              " 'zbt',\n",
              " 'mubaraks',\n",
              " 'venmo',\n",
              " 'gigabite']"
            ]
          },
          "metadata": {
            "tags": []
          },
          "execution_count": 94
        }
      ]
    },
    {
      "cell_type": "code",
      "metadata": {
        "id": "F4rw7A3mNO4Y",
        "colab_type": "code",
        "colab": {}
      },
      "source": [
        "batch_size = 64\n",
        "max_len = MAX_SEQUENCE_LENGTH\n",
        "emb_dim = EMBEDDING_DIM\n",
        "latent_dim = 32 # dimensionality of the hidden state in encoder and decoder RNN's\n",
        "intermediate_dim = 96 # dimensionality of variational space into which we map encoder's hidden state\n",
        "epsilon_std = 1.0 # standard deviation of gaussian noise\n",
        "act = ELU() # activation function of projection layer"
      ],
      "execution_count": 0,
      "outputs": []
    },
    {
      "cell_type": "markdown",
      "metadata": {
        "id": "sarNC5v1NO4c",
        "colab_type": "text"
      },
      "source": [
        "Encoder of the variational autoencoder. It based on bidirectional LSTM\n",
        "\n",
        "We use following layers: [Input](https://www.tensorflow.org/api_docs/python/tf/keras/Input), [Embedding](https://www.tensorflow.org/api_docs/python/tf/keras/layers/Embedding), [Bidirectional](https://www.tensorflow.org/api_docs/python/tf/keras/layers/Bidirectional), [LSTM](https://www.tensorflow.org/api_docs/python/tf/keras/layers/LSTM), [Dropout](https://www.tensorflow.org/api_docs/python/tf/keras/layers/Dropout), [Dense](https://www.tensorflow.org/api_docs/python/tf/keras/layers/Dense), [ELU](https://www.tensorflow.org/api_docs/python/tf/keras/layers/ELU)"
      ]
    },
    {
      "cell_type": "code",
      "metadata": {
        "id": "YgRQeNiGNO4d",
        "colab_type": "code",
        "colab": {}
      },
      "source": [
        "x = Input(batch_shape=(None, max_len)) # Input layer fo the net. \n",
        "# Write an embedding layer for the input sequences of indexes. \n",
        "# Use pretrained word embeddings as a embedding layer weights and don't update these weights\n",
        "\n",
        "#your code here\n",
        "x_embed = Embedding(NB_WORDS, emb_dim, weights=[glove_embedding_matrix],\n",
        "                            input_length=max_len, trainable=False)(x)\n",
        "\n",
        "\n",
        "# Bidirectional LSTM encoder\n",
        "\n",
        "#your code here\n",
        "h = Bidirectional(LSTM(latent_dim, return_sequences=False))(x_embed)\n",
        "\n",
        "\n",
        "\n",
        "h = Dropout(0.2)(h) # Dropout for the BiLSTM layer to avoid overfitting \n",
        "\n",
        "# Fully-connected layer to map encoder hidden state into variational space\n",
        "\n",
        "#your code here\n",
        "h = act(Dense(intermediate_dim, activation='linear')(h))\n",
        "\n",
        "h = Dropout(0.2)(h) # Dropout for the fully-connected layer to avoid overfitting \n",
        "z_mean = Dense(latent_dim)(h) # Fully-connected layer to map variational space into means space \n",
        "z_log_var = Dense(latent_dim)(h) # Fully-connected layer to map variational space into standard deviations space "
      ],
      "execution_count": 0,
      "outputs": []
    },
    {
      "cell_type": "markdown",
      "metadata": {
        "id": "61_EJbujNO4f",
        "colab_type": "text"
      },
      "source": [
        "The mechanism for sampling hidden vectors from variational space\n",
        "\n",
        "To apply it to our model we use [Lambda](https://www.tensorflow.org/api_docs/python/tf/keras/layers/Lambda) layer"
      ]
    },
    {
      "cell_type": "code",
      "metadata": {
        "id": "F5OGmTyuNO4f",
        "colab_type": "code",
        "colab": {}
      },
      "source": [
        "def sampling(args):\n",
        "    # Vectors from means space and standard deviations space respectively\n",
        "    z_mean, z_log_var = args\n",
        "    # Sample random vectors from normal distribution with mean=0 and std=epsilon_std\n",
        "    epsilon = K.random_normal(shape=(batch_size, latent_dim), mean=0.,\n",
        "                              stddev=epsilon_std)\n",
        "    \n",
        "    #your code here\n",
        "    \n",
        "    # Get new hidden state for decoder using vectors from means, standard deviations and normal random spaces\n",
        "    return z_mean + z_log_var * epsilon\n",
        "\n",
        "# Get hidden states for the decoder\n",
        "z = Lambda(sampling, output_shape=(latent_dim,))([z_mean, z_log_var])"
      ],
      "execution_count": 0,
      "outputs": []
    },
    {
      "cell_type": "markdown",
      "metadata": {
        "id": "7U89BoV9NO4h",
        "colab_type": "text"
      },
      "source": [
        "Define decoder of the autoencoder\n",
        "\n",
        "For this we use following layers: [RepeatVector](https://www.tensorflow.org/api_docs/python/tf/keras/layers/RepeatVector), [LSTM](https://www.tensorflow.org/api_docs/python/tf/keras/layers/LSTM), [TimeDistributed](https://www.tensorflow.org/api_docs/python/tf/keras/layers/TimeDistributed), [Dense](https://www.tensorflow.org/api_docs/python/tf/keras/layers/Dense)"
      ]
    },
    {
      "cell_type": "code",
      "metadata": {
        "id": "9kD2_yfJNO4h",
        "colab_type": "code",
        "colab": {}
      },
      "source": [
        "# Repeat the hidden state vector to form input sequence for decoder\n",
        "repeated_context = RepeatVector(max_len)\n",
        "# Decoder LSTM\n",
        "decoder_h = LSTM(intermediate_dim, return_sequences=True, recurrent_dropout=0.2)\n",
        "# Layer for mapping from hidden satates space to the space of dimension equal to size of vocabulary\n",
        "decoder_mean = TimeDistributed(Dense(NB_WORDS, activation='linear'))\n",
        "# Generated sequence\n",
        "h_decoded = decoder_h(repeated_context(z))\n",
        "# Decode every time step vector of the decoded sequence into space of dimension equal to size of vocabulary\n",
        "x_decoded_mean = decoder_mean(h_decoded)"
      ],
      "execution_count": 0,
      "outputs": []
    },
    {
      "cell_type": "markdown",
      "metadata": {
        "id": "2f90V8-ENO4i",
        "colab_type": "text"
      },
      "source": [
        "Define layer for loss computing"
      ]
    },
    {
      "cell_type": "code",
      "metadata": {
        "id": "mjIXaSO8NO4j",
        "colab_type": "code",
        "colab": {}
      },
      "source": [
        "def zero_loss(y_true, y_pred):\n",
        "    # Return tensor filled with ones with shape equal generated sequence shape\n",
        "    return K.zeros_like(y_pred)\n"
      ],
      "execution_count": 0,
      "outputs": []
    },
    {
      "cell_type": "code",
      "metadata": {
        "id": "SU1cXC0tNO4k",
        "colab_type": "code",
        "colab": {}
      },
      "source": [
        "class CustomVariationalLayer(Layer):\n",
        "    def __init__(self, **kwargs):\n",
        "        self.is_placeholder = True\n",
        "        super(CustomVariationalLayer, self).__init__(**kwargs)\n",
        "        # Create tensor (batch_size, max_sequence_len) filled with ones to consider all elements of generated sequence \n",
        "        self.target_weights = tf.constant(np.ones((batch_size, max_len)), tf.float32)\n",
        "\n",
        "    def vae_loss(self, x, x_decoded_mean):\n",
        "        # Get tensor with similar shape as x\n",
        "        labels = tf.cast(x, tf.int32)\n",
        "        # Compute sequence reconstruction loss\n",
        "        xent_loss = K.sum(tfa.seq2seq.sequence_loss(x_decoded_mean, labels,\n",
        "                                                    weights=self.target_weights,\n",
        "                                                    average_across_timesteps=False,\n",
        "                                                    average_across_batch=False), axis=-1)\n",
        "        # Compute KL-divergence as Variational loss \n",
        "        kl_loss = -0.5 * K.sum(1 + z_log_var - K.square(z_mean) - K.exp(z_log_var), axis=-1)\n",
        "        # Composite loss (reconstruction loss + Variational loss)\n",
        "        return K.mean(xent_loss + kl_loss)\n",
        "\n",
        "    def call(self, inputs):\n",
        "        x = inputs[0] # input sequence\n",
        "        x_decoded_mean = inputs[1] # reconstructed sequence\n",
        "        print(x.shape, x_decoded_mean.shape)\n",
        "        loss = self.vae_loss(x, x_decoded_mean) # Compute loss of the model\n",
        "        self.add_loss(loss, inputs=inputs)\n",
        "        # we don't use this output, but it has to have the correct shape\n",
        "        return K.ones_like(x)"
      ],
      "execution_count": 0,
      "outputs": []
    },
    {
      "cell_type": "markdown",
      "metadata": {
        "id": "a8GYYLM0NO4m",
        "colab_type": "text"
      },
      "source": [
        "Assemble the model\n",
        "\n",
        "To define model we use [Model](https://www.tensorflow.org/api_docs/python/tf/keras/Model) from tensorflow.\n",
        "\n",
        "To train model employ [Adam](https://www.tensorflow.org/api_docs/python/tf/keras/optimizers/Adam) optimization algorithm"
      ]
    },
    {
      "cell_type": "code",
      "metadata": {
        "id": "zQ9Zwt9DNO4n",
        "colab_type": "code",
        "outputId": "61018291-5d50-447e-9eb6-e9cb397cab16",
        "colab": {
          "base_uri": "https://localhost:8080/",
          "height": 669
        }
      },
      "source": [
        "# Create custom layer for loss computing\n",
        "loss_layer = CustomVariationalLayer()([x, x_decoded_mean])\n",
        "\n",
        "vae = Model(x, [loss_layer])\n",
        "# Use Adam optimizer with learning rate = 0.01\n",
        "opt = Adam(lr=0.01)\n",
        "vae.compile(optimizer=opt, loss=[zero_loss])\n",
        "# Show model structure\n",
        "vae.summary()"
      ],
      "execution_count": 101,
      "outputs": [
        {
          "output_type": "stream",
          "text": [
            "(None, 15) (64, 15, 20001)\n",
            "Model: \"model_8\"\n",
            "__________________________________________________________________________________________________\n",
            "Layer (type)                    Output Shape         Param #     Connected to                     \n",
            "==================================================================================================\n",
            "input_7 (InputLayer)            (None, 15)           0                                            \n",
            "__________________________________________________________________________________________________\n",
            "embedding_5 (Embedding)         (None, 15, 50)       1000050     input_7[0][0]                    \n",
            "__________________________________________________________________________________________________\n",
            "bidirectional_5 (Bidirectional) (None, 64)           21248       embedding_5[0][0]                \n",
            "__________________________________________________________________________________________________\n",
            "dropout_9 (Dropout)             (None, 64)           0           bidirectional_5[0][0]            \n",
            "__________________________________________________________________________________________________\n",
            "dense_17 (Dense)                (None, 96)           6240        dropout_9[0][0]                  \n",
            "__________________________________________________________________________________________________\n",
            "elu_4 (ELU)                     (None, 96)           0           dense_17[0][0]                   \n",
            "__________________________________________________________________________________________________\n",
            "dropout_10 (Dropout)            (None, 96)           0           elu_4[0][0]                      \n",
            "__________________________________________________________________________________________________\n",
            "dense_18 (Dense)                (None, 32)           3104        dropout_10[0][0]                 \n",
            "__________________________________________________________________________________________________\n",
            "dense_19 (Dense)                (None, 32)           3104        dropout_10[0][0]                 \n",
            "__________________________________________________________________________________________________\n",
            "lambda_5 (Lambda)               (None, 32)           0           dense_18[0][0]                   \n",
            "                                                                 dense_19[0][0]                   \n",
            "__________________________________________________________________________________________________\n",
            "repeat_vector_5 (RepeatVector)  (None, 15, 32)       0           lambda_5[0][0]                   \n",
            "__________________________________________________________________________________________________\n",
            "lstm_10 (LSTM)                  (None, 15, 96)       49536       repeat_vector_5[0][0]            \n",
            "__________________________________________________________________________________________________\n",
            "time_distributed_5 (TimeDistrib (None, 15, 20001)    1940097     lstm_10[0][0]                    \n",
            "__________________________________________________________________________________________________\n",
            "custom_variational_layer_6 (Cus [(None, 15), (None,  0           input_7[0][0]                    \n",
            "                                                                 time_distributed_5[0][0]         \n",
            "==================================================================================================\n",
            "Total params: 3,023,379\n",
            "Trainable params: 2,023,329\n",
            "Non-trainable params: 1,000,050\n",
            "__________________________________________________________________________________________________\n"
          ],
          "name": "stdout"
        }
      ]
    },
    {
      "cell_type": "markdown",
      "metadata": {
        "id": "OUq-wpywNO4r",
        "colab_type": "text"
      },
      "source": [
        "Checkpoint function to save states of our model during training"
      ]
    },
    {
      "cell_type": "code",
      "metadata": {
        "id": "6N_2MDF_NO4s",
        "colab_type": "code",
        "colab": {}
      },
      "source": [
        "def create_model_checkpoint(model_name):\n",
        "    filepath = f\"models/{model_name}.h5\"\n",
        "    directory = os.path.dirname(filepath)\n",
        "    try:\n",
        "        # Check if directory exists\n",
        "        os.stat(directory)\n",
        "    except:\n",
        "        # If directory doesn't exist, create the directory\n",
        "        os.mkdir(directory)\n",
        "    # Save model states\n",
        "    checkpointer = ModelCheckpoint(filepath=filepath, verbose=1, save_best_only=False)\n",
        "    return checkpointer\n",
        "\n",
        "# Create model checkpointer\n",
        "checkpointer = create_model_checkpoint('vae_seq2seq')"
      ],
      "execution_count": 0,
      "outputs": []
    },
    {
      "cell_type": "markdown",
      "metadata": {
        "id": "_Cw3RxnCNO4u",
        "colab_type": "text"
      },
      "source": [
        "Train model, test model after each apoch and save model's state"
      ]
    },
    {
      "cell_type": "code",
      "metadata": {
        "id": "mRTTpZOU5Zcf",
        "colab_type": "code",
        "colab": {}
      },
      "source": [
        "sents = val_data['headline']\n",
        "sents = [re.sub(r\"\\'\",'',sent) for sent in sents]\n",
        "val_1_data = tokenizer.texts_to_sequences(sents)\n",
        "val_1_data = pad_sequences(sequences, maxlen=MAX_SEQUENCE_LENGTH,padding = 'post')\n",
        "val_1_data = val_1_data[:np.max([i for i in range(val_1_data.shape[0]) if i % 128 == 0]),:]"
      ],
      "execution_count": 0,
      "outputs": []
    },
    {
      "cell_type": "code",
      "metadata": {
        "id": "11qcJqOG08PE",
        "colab_type": "code",
        "outputId": "fc08203c-bfae-4971-f2e3-72da4e591426",
        "colab": {
          "base_uri": "https://localhost:8080/",
          "height": 134
        }
      },
      "source": [
        "val_1_data"
      ],
      "execution_count": 104,
      "outputs": [
        {
          "output_type": "execute_result",
          "data": {
            "text/plain": [
              "array([[15263,   360,  3224, ...,     0,     0,     0],\n",
              "       [11177,  1569,  6428, ...,     0,     0,     0],\n",
              "       [  449,   495,   305, ...,     0,     0,     0],\n",
              "       ...,\n",
              "       [ 1828,   588,     1, ...,  1850,     5,    12],\n",
              "       [    1,  9601,  2964, ...,    29,   264,     1],\n",
              "       [  539,   392,  2033, ...,     0,     0,     0]], dtype=int32)"
            ]
          },
          "metadata": {
            "tags": []
          },
          "execution_count": 104
        }
      ]
    },
    {
      "cell_type": "code",
      "metadata": {
        "id": "iscsBzrwNO4v",
        "colab_type": "code",
        "outputId": "2031ada1-a03e-4b13-e4e2-212fa6b94609",
        "colab": {
          "base_uri": "https://localhost:8080/",
          "height": 1000
        }
      },
      "source": [
        "nb_epoch = 25 # number of epochs for model training\n",
        "n_steps = train_data.shape[0] // batch_size # Number of steps per epoch\n",
        "for counter in range(nb_epoch):\n",
        "    print('-------epoch: ', counter, '-------')\n",
        "    # Train model. Test and save model after every epoch\n",
        "    vae.fit_generator(sent_generator('train_data.csv', batch_size),\n",
        "                      steps_per_epoch=n_steps, epochs=1, callbacks=[checkpointer],\n",
        "                      validation_data=(val_1_data,val_1_data))\n",
        "vae.save(r'vae_lstmFull32dim96hid.h5')"
      ],
      "execution_count": 112,
      "outputs": [
        {
          "output_type": "stream",
          "text": [
            "-------epoch:  0 -------\n",
            "Epoch 1/1\n",
            "335/335 [==============================] - 30s 88ms/step - loss: 56.2115 - val_loss: 60.6826\n",
            "\n",
            "Epoch 00001: saving model to models/vae_seq2seq.h5\n",
            "-------epoch:  1 -------\n",
            "Epoch 1/1\n",
            "335/335 [==============================] - 30s 89ms/step - loss: 55.7945 - val_loss: 60.5910\n",
            "\n",
            "Epoch 00001: saving model to models/vae_seq2seq.h5\n",
            "-------epoch:  2 -------\n",
            "Epoch 1/1\n",
            "335/335 [==============================] - 29s 87ms/step - loss: 55.4019 - val_loss: 60.8383\n",
            "\n",
            "Epoch 00001: saving model to models/vae_seq2seq.h5\n",
            "-------epoch:  3 -------\n",
            "Epoch 1/1\n",
            "335/335 [==============================] - 30s 89ms/step - loss: 55.1899 - val_loss: 60.1346\n",
            "\n",
            "Epoch 00001: saving model to models/vae_seq2seq.h5\n",
            "-------epoch:  4 -------\n",
            "Epoch 1/1\n",
            "335/335 [==============================] - 30s 90ms/step - loss: 54.9124 - val_loss: 60.3467\n",
            "\n",
            "Epoch 00001: saving model to models/vae_seq2seq.h5\n",
            "-------epoch:  5 -------\n",
            "Epoch 1/1\n",
            "335/335 [==============================] - 29s 87ms/step - loss: 54.6715 - val_loss: 60.2926\n",
            "\n",
            "Epoch 00001: saving model to models/vae_seq2seq.h5\n",
            "-------epoch:  6 -------\n",
            "Epoch 1/1\n",
            "335/335 [==============================] - 30s 88ms/step - loss: 54.5658 - val_loss: 60.0303\n",
            "\n",
            "Epoch 00001: saving model to models/vae_seq2seq.h5\n",
            "-------epoch:  7 -------\n",
            "Epoch 1/1\n",
            "335/335 [==============================] - 29s 87ms/step - loss: 54.3042 - val_loss: 59.8119\n",
            "\n",
            "Epoch 00001: saving model to models/vae_seq2seq.h5\n",
            "-------epoch:  8 -------\n",
            "Epoch 1/1\n",
            "335/335 [==============================] - 30s 89ms/step - loss: 54.1905 - val_loss: 59.9909\n",
            "\n",
            "Epoch 00001: saving model to models/vae_seq2seq.h5\n",
            "-------epoch:  9 -------\n",
            "Epoch 1/1\n",
            "335/335 [==============================] - 29s 87ms/step - loss: 54.2272 - val_loss: 59.9496\n",
            "\n",
            "Epoch 00001: saving model to models/vae_seq2seq.h5\n",
            "-------epoch:  10 -------\n",
            "Epoch 1/1\n",
            "335/335 [==============================] - 29s 87ms/step - loss: 53.7327 - val_loss: 59.7677\n",
            "\n",
            "Epoch 00001: saving model to models/vae_seq2seq.h5\n",
            "-------epoch:  11 -------\n",
            "Epoch 1/1\n",
            "335/335 [==============================] - 29s 88ms/step - loss: 53.6311 - val_loss: 60.1793\n",
            "\n",
            "Epoch 00001: saving model to models/vae_seq2seq.h5\n",
            "-------epoch:  12 -------\n",
            "Epoch 1/1\n",
            "335/335 [==============================] - 30s 88ms/step - loss: 53.3640 - val_loss: 59.7208\n",
            "\n",
            "Epoch 00001: saving model to models/vae_seq2seq.h5\n",
            "-------epoch:  13 -------\n",
            "Epoch 1/1\n",
            "335/335 [==============================] - 30s 90ms/step - loss: 53.2971 - val_loss: 59.7696\n",
            "\n",
            "Epoch 00001: saving model to models/vae_seq2seq.h5\n",
            "-------epoch:  14 -------\n",
            "Epoch 1/1\n",
            "335/335 [==============================] - 30s 90ms/step - loss: 53.0686 - val_loss: 59.6060\n",
            "\n",
            "Epoch 00001: saving model to models/vae_seq2seq.h5\n",
            "-------epoch:  15 -------\n",
            "Epoch 1/1\n",
            "335/335 [==============================] - 30s 89ms/step - loss: 52.8324 - val_loss: 59.7163\n",
            "\n",
            "Epoch 00001: saving model to models/vae_seq2seq.h5\n",
            "-------epoch:  16 -------\n",
            "Epoch 1/1\n",
            "335/335 [==============================] - 30s 88ms/step - loss: 52.7713 - val_loss: 59.6937\n",
            "\n",
            "Epoch 00001: saving model to models/vae_seq2seq.h5\n",
            "-------epoch:  17 -------\n",
            "Epoch 1/1\n",
            "335/335 [==============================] - 31s 92ms/step - loss: 52.7047 - val_loss: 59.6736\n",
            "\n",
            "Epoch 00001: saving model to models/vae_seq2seq.h5\n",
            "-------epoch:  18 -------\n",
            "Epoch 1/1\n",
            "335/335 [==============================] - 30s 89ms/step - loss: 52.5603 - val_loss: 59.6821\n",
            "\n",
            "Epoch 00001: saving model to models/vae_seq2seq.h5\n",
            "-------epoch:  19 -------\n",
            "Epoch 1/1\n",
            "335/335 [==============================] - 30s 89ms/step - loss: 52.4671 - val_loss: 59.9654\n",
            "\n",
            "Epoch 00001: saving model to models/vae_seq2seq.h5\n",
            "-------epoch:  20 -------\n",
            "Epoch 1/1\n",
            "335/335 [==============================] - 30s 90ms/step - loss: 52.3585 - val_loss: 59.4802\n",
            "\n",
            "Epoch 00001: saving model to models/vae_seq2seq.h5\n",
            "-------epoch:  21 -------\n",
            "Epoch 1/1\n",
            "335/335 [==============================] - 29s 88ms/step - loss: 52.1734 - val_loss: 59.6704\n",
            "\n",
            "Epoch 00001: saving model to models/vae_seq2seq.h5\n",
            "-------epoch:  22 -------\n",
            "Epoch 1/1\n",
            "335/335 [==============================] - 29s 88ms/step - loss: 52.1849 - val_loss: 59.5272\n",
            "\n",
            "Epoch 00001: saving model to models/vae_seq2seq.h5\n",
            "-------epoch:  23 -------\n",
            "Epoch 1/1\n",
            "335/335 [==============================] - 29s 87ms/step - loss: 51.9854 - val_loss: 59.8271\n",
            "\n",
            "Epoch 00001: saving model to models/vae_seq2seq.h5\n",
            "-------epoch:  24 -------\n",
            "Epoch 1/1\n",
            "335/335 [==============================] - 29s 88ms/step - loss: 51.9332 - val_loss: 59.6818\n",
            "\n",
            "Epoch 00001: saving model to models/vae_seq2seq.h5\n"
          ],
          "name": "stdout"
        }
      ]
    },
    {
      "cell_type": "markdown",
      "metadata": {
        "id": "HjXY9bJMNO4x",
        "colab_type": "text"
      },
      "source": [
        "Assemble encoder and decoder for sentence generation sampled from variational space"
      ]
    },
    {
      "cell_type": "code",
      "metadata": {
        "id": "HArdLjkyeNY8",
        "colab_type": "code",
        "colab": {}
      },
      "source": [
        "\n",
        "vae.load_weights(\"/content/models/vae_seq2seq.h5\")"
      ],
      "execution_count": 0,
      "outputs": []
    },
    {
      "cell_type": "code",
      "metadata": {
        "id": "iTJBfCHxNO4x",
        "colab_type": "code",
        "colab": {}
      },
      "source": [
        "# Make separate encoder to encode input sentence\n",
        "encoder = Model(x, z_mean)\n",
        "# Input layer for decoder to decode vectors sampled from variational space \n",
        "decoder_input = Input(shape=(latent_dim,))\n",
        "# Apply LSTM to decode hidden vector into sequence\n",
        "_h_decoded = decoder_h(repeated_context(decoder_input))\n",
        "# Decode every time step vector of the decoded sequence into space of dimension equal to size of vocabulary\n",
        "_x_decoded_mean = decoder_mean(_h_decoded)\n",
        "# Apply softmax to get most probable token\n",
        "_x_decoded_mean = Activation('softmax')(_x_decoded_mean)\n",
        "# Make decoderfor sempled sentences\n",
        "generator = Model(decoder_input, _x_decoded_mean)"
      ],
      "execution_count": 0,
      "outputs": []
    },
    {
      "cell_type": "markdown",
      "metadata": {
        "id": "j4a0y7FvNO4z",
        "colab_type": "text"
      },
      "source": [
        "Generate sentence"
      ]
    },
    {
      "cell_type": "code",
      "metadata": {
        "id": "F3EVFD9U4Kj2",
        "colab_type": "code",
        "colab": {}
      },
      "source": [
        "def sent_generator_test(TRAIN_DATA_FILE, batchsize):\n",
        "    sent_full_lists = []\n",
        "    # Create iterator that reads dataset file batch by batch \n",
        "    #your code here\n",
        "    data = pd.read_csv( TRAIN_DATA_FILE, usecols = ['headline'] , nrows= 500 )\n",
        "        #TRAIN_DATA_FILE\n",
        "    sent_list = list(data.headline)\n",
        "        #print(sent_list[0],sent_list[1])\n",
        "    sent_list=  tokenizer.texts_to_sequences(sent_list) \n",
        "    sent_list = pad_sequences(sent_list , maxlen = MAX_SEQUENCE_LENGTH, padding= 'post' , truncating= 'post' )\n",
        "        # Return input-target pairs\n",
        "    sent_full_lists.append(sent_list)\n",
        "        #your code here\n",
        "    return sent_full_lists[0]"
      ],
      "execution_count": 0,
      "outputs": []
    },
    {
      "cell_type": "code",
      "metadata": {
        "id": "LUVjUl_L4LSd",
        "colab_type": "code",
        "colab": {}
      },
      "source": [
        "test_data = sent_generator_test('val_data.csv',16)"
      ],
      "execution_count": 0,
      "outputs": []
    },
    {
      "cell_type": "code",
      "metadata": {
        "id": "vCwkXY6auPMN",
        "colab_type": "code",
        "colab": {}
      },
      "source": [
        "index2word = {v: k for k, v in word_to_id.items()}\n",
        "\n",
        "def makepredictions(val_data, batchsize, index2word, indexes=None):\n",
        "  if indexes is None:\n",
        "    indexes = np.random.choice(np.arange(val_data.shape[0]),batchsize)\n",
        "  for index in indexes:\n",
        "    sent_encoded = encoder.predict(np.expand_dims(val_data[index],axis=0))\n",
        "    x_test_reconstructed = generator.predict(sent_encoded)\n",
        "    reconstructed_indexes = np.apply_along_axis(np.argmax, -1, x_test_reconstructed)\n",
        "    word_list = list(np.vectorize(index2word.get)(reconstructed_indexes))\n",
        "    word_list = ' '.join([w for w in word_list[0] if w!= 'None'])\n",
        "    original_sent = list(np.vectorize(index2word.get)(val_1_data[index]))\n",
        "    original_sent = ' '.join([w for w in original_sent if w!='None'])\n",
        "    print(f\"Original sentence:\\t{original_sent}\")\n",
        "    print(f\"Reconstructed sentence:\\t{word_list}\\n\")"
      ],
      "execution_count": 0,
      "outputs": []
    },
    {
      "cell_type": "code",
      "metadata": {
        "id": "sv6biErtuRyO",
        "colab_type": "code",
        "colab": {
          "base_uri": "https://localhost:8080/",
          "height": 538
        },
        "outputId": "9478e70e-366b-4d1a-904e-2081cd417e89"
      },
      "source": [
        "makepredictions(val_1_data,10,index2word)"
      ],
      "execution_count": 113,
      "outputs": [
        {
          "output_type": "stream",
          "text": [
            "Original sentence:\ttrump offers clear historical precedent for deploying u s military with no provocation\n",
            "Reconstructed sentence:\ttrump trump the the of of of of of of and and\n",
            "\n",
            "Original sentence:\tboy scouts celebrate proud history of preparing teens for not having cool friends\n",
            "Reconstructed sentence:\twoman profoundly shower to to to to to to to to to\n",
            "\n",
            "Original sentence:\tbillions of electric signals between neurons allow brain to imagine what michael imperioli looks like\n",
            "Reconstructed sentence:\tbillions of of lengthy of neurons neurons to revelation revelation to imperioli imperioli imperioli imperioli\n",
            "\n",
            "Original sentence:\tstudy retired dads than ever\n",
            "Reconstructed sentence:\tstudy study everythings for\n",
            "\n",
            "Original sentence:\tplant dead because of you\n",
            "Reconstructed sentence:\tblackberry are exists to you\n",
            "\n",
            "Original sentence:\tpope john paul ii longtime owner of popemobile dead at 84\n",
            "Reconstructed sentence:\tpope francis actor edgar demon 10 beard in in munster\n",
            "\n",
            "Original sentence:\tstudy boyfriends who speaking are thinking about ending relationship 90 of time\n",
            "Reconstructed sentence:\tstudy uttering yelling are to to to to the in this\n",
            "\n",
            "Original sentence:\tsidetracked by booker de blasio arguing about best place in lower manhattan to get tapas\n",
            "Reconstructed sentence:\tsidetracked hawkes hiking fondly shockingly to to to of to to flints with robotrix robotrix\n",
            "\n",
            "Original sentence:\tpolitical pundits surprisingly good at getting inside mentally unbalanced head\n",
            "Reconstructed sentence:\teveryone cartoonists man about embarrassingly in in in police memes\n",
            "\n",
            "Original sentence:\tgay rights leader good\n",
            "Reconstructed sentence:\ttrumps clinches trump trump\n",
            "\n"
          ],
          "name": "stdout"
        }
      ]
    },
    {
      "cell_type": "code",
      "metadata": {
        "id": "wf7yrbD6NO4z",
        "colab_type": "code",
        "colab": {
          "base_uri": "https://localhost:8080/",
          "height": 50
        },
        "outputId": "e99753b8-2f92-4733-8e52-b8a46cbd0b77"
      },
      "source": [
        "# Dictionary maps indexes to words\n",
        "index2word = {v: k for k, v in word_to_id.items()}\n",
        "# Fit sentences from validation set into encoder\n",
        "sent_encoded = encoder.predict(test_data, batch_size=16)\n",
        "# Decode encoded sentences\n",
        "x_test_reconstructed = generator.predict(sent_encoded)\n",
        "\n",
        "sent_idx = np.random.choice(np.arange(test_data.shape[0]))\n",
        "# Get words indexes with highest probability for the 400th sentence from validation set\n",
        "reconstructed_indexes = np.apply_along_axis(np.argmax, 1, x_test_reconstructed[sent_idx])\n",
        "# Map indexes of generated sentence to words\n",
        "word_list = list(np.vectorize(index2word.get)(reconstructed_indexes))\n",
        "word_list = ' '.join([w for w in word_list if w])\n",
        "print(word_list)\n",
        "# Map indexes of input sentence to words\n",
        "original_sent = list(np.vectorize(index2word.get)(val_1_data[sent_idx]))\n",
        "original_sent = ' '.join([w for w in original_sent if w])\n",
        "print(original_sent)"
      ],
      "execution_count": 68,
      "outputs": [
        {
          "output_type": "stream",
          "text": [
            "watch to to to in of None None None None None None None None None\n",
            "9 11 homepage design stirs controversy None None None None None None None None None\n"
          ],
          "name": "stdout"
        }
      ]
    },
    {
      "cell_type": "code",
      "metadata": {
        "id": "WmZ8GgGWEO3r",
        "colab_type": "code",
        "colab": {}
      },
      "source": [
        ""
      ],
      "execution_count": 0,
      "outputs": []
    }
  ]
}