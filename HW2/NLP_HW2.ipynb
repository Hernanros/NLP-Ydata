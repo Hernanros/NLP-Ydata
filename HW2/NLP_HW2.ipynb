{
  "nbformat": 4,
  "nbformat_minor": 0,
  "metadata": {
    "kernelspec": {
      "display_name": "Python 3",
      "language": "python",
      "name": "python3"
    },
    "language_info": {
      "codemirror_mode": {
        "name": "ipython",
        "version": 3
      },
      "file_extension": ".py",
      "mimetype": "text/x-python",
      "name": "python",
      "nbconvert_exporter": "python",
      "pygments_lexer": "ipython3",
      "version": "3.7.4"
    },
    "colab": {
      "name": "NLP_HW2.ipynb",
      "provenance": [],
      "include_colab_link": true
    },
    "accelerator": "GPU"
  },
  "cells": [
    {
      "cell_type": "markdown",
      "metadata": {
        "id": "view-in-github",
        "colab_type": "text"
      },
      "source": [
        "<a href=\"https://colab.research.google.com/github/Hernanros/NLP-Ydata/blob/master/HW2/NLP_HW2.ipynb\" target=\"_parent\"><img src=\"https://colab.research.google.com/assets/colab-badge.svg\" alt=\"Open In Colab\"/></a>"
      ]
    },
    {
      "cell_type": "markdown",
      "metadata": {
        "id": "vb1yXLWqNO3s",
        "colab_type": "text"
      },
      "source": [
        "##  Text generation by Markov chain"
      ]
    },
    {
      "cell_type": "code",
      "metadata": {
        "id": "uf77BtrtNO3t",
        "colab_type": "code",
        "colab": {}
      },
      "source": [
        "import csv\n",
        "import pandas as pd"
      ],
      "execution_count": 0,
      "outputs": []
    },
    {
      "cell_type": "markdown",
      "metadata": {
        "id": "CIXpb5jBNO3w",
        "colab_type": "text"
      },
      "source": [
        "Markov chain is a probabalistic model in which the probability of each event depends only on the state attained in the previous event. [markovify](https://github.com/jsvine/markovify) is a library for text generation by Markov chain.\n",
        "\n",
        "Use \"pip install markovify\" to install markovify"
      ]
    },
    {
      "cell_type": "code",
      "metadata": {
        "id": "0d89JFOANO3x",
        "colab_type": "code",
        "colab": {
          "base_uri": "https://localhost:8080/",
          "height": 237
        },
        "outputId": "9bf4fd9d-027c-4c8e-8374-15a4b6988cbf"
      },
      "source": [
        "!pip install markovify\n",
        "import markovify"
      ],
      "execution_count": 2,
      "outputs": [
        {
          "output_type": "stream",
          "text": [
            "Collecting markovify\n",
            "  Downloading https://files.pythonhosted.org/packages/de/c3/2e017f687e47e88eb9d8adf970527e2299fb566eba62112c2851ebb7ab93/markovify-0.8.0.tar.gz\n",
            "Collecting unidecode\n",
            "\u001b[?25l  Downloading https://files.pythonhosted.org/packages/d0/42/d9edfed04228bacea2d824904cae367ee9efd05e6cce7ceaaedd0b0ad964/Unidecode-1.1.1-py2.py3-none-any.whl (238kB)\n",
            "\u001b[K     |████████████████████████████████| 245kB 5.1MB/s \n",
            "\u001b[?25hBuilding wheels for collected packages: markovify\n",
            "  Building wheel for markovify (setup.py) ... \u001b[?25l\u001b[?25hdone\n",
            "  Created wheel for markovify: filename=markovify-0.8.0-cp36-none-any.whl size=10694 sha256=424e47b294acd429bb9c29f1c04645c49aa3b38ee9fba300e146420ef8bb2432\n",
            "  Stored in directory: /root/.cache/pip/wheels/5d/a8/92/35e2df870ff15a65657679dca105d190ec3c854a9f75435e40\n",
            "Successfully built markovify\n",
            "Installing collected packages: unidecode, markovify\n",
            "Successfully installed markovify-0.8.0 unidecode-1.1.1\n"
          ],
          "name": "stdout"
        }
      ]
    },
    {
      "cell_type": "code",
      "metadata": {
        "id": "H3dtkH9VNgf5",
        "colab_type": "code",
        "colab": {}
      },
      "source": [
        "def parseJson(fname):\n",
        "    for line in open(fname, 'r+'):\n",
        "        yield eval(line)\n",
        "\n",
        "data = pd.DataFrame(list(parseJson('Sarcasm_Headlines_Dataset_v2.json')))\n",
        "\n",
        "\n",
        "\n",
        "data.is_sarcastic = data.is_sarcastic.astype('bool')\n"
      ],
      "execution_count": 0,
      "outputs": []
    },
    {
      "cell_type": "code",
      "metadata": {
        "id": "W9yfEfD-QNSX",
        "colab_type": "code",
        "outputId": "c6afb6a6-1850-43d3-8069-a0de09ebe2dd",
        "colab": {
          "base_uri": "https://localhost:8080/",
          "height": 196
        }
      },
      "source": [
        "data.head()"
      ],
      "execution_count": 6,
      "outputs": [
        {
          "output_type": "execute_result",
          "data": {
            "text/html": [
              "<div>\n",
              "<style scoped>\n",
              "    .dataframe tbody tr th:only-of-type {\n",
              "        vertical-align: middle;\n",
              "    }\n",
              "\n",
              "    .dataframe tbody tr th {\n",
              "        vertical-align: top;\n",
              "    }\n",
              "\n",
              "    .dataframe thead th {\n",
              "        text-align: right;\n",
              "    }\n",
              "</style>\n",
              "<table border=\"1\" class=\"dataframe\">\n",
              "  <thead>\n",
              "    <tr style=\"text-align: right;\">\n",
              "      <th></th>\n",
              "      <th>is_sarcastic</th>\n",
              "      <th>headline</th>\n",
              "      <th>article_link</th>\n",
              "    </tr>\n",
              "  </thead>\n",
              "  <tbody>\n",
              "    <tr>\n",
              "      <th>0</th>\n",
              "      <td>True</td>\n",
              "      <td>thirtysomething scientists unveil doomsday clo...</td>\n",
              "      <td>https://www.theonion.com/thirtysomething-scien...</td>\n",
              "    </tr>\n",
              "    <tr>\n",
              "      <th>1</th>\n",
              "      <td>False</td>\n",
              "      <td>dem rep. totally nails why congress is falling...</td>\n",
              "      <td>https://www.huffingtonpost.com/entry/donna-edw...</td>\n",
              "    </tr>\n",
              "    <tr>\n",
              "      <th>2</th>\n",
              "      <td>False</td>\n",
              "      <td>eat your veggies: 9 deliciously different recipes</td>\n",
              "      <td>https://www.huffingtonpost.com/entry/eat-your-...</td>\n",
              "    </tr>\n",
              "    <tr>\n",
              "      <th>3</th>\n",
              "      <td>True</td>\n",
              "      <td>inclement weather prevents liar from getting t...</td>\n",
              "      <td>https://local.theonion.com/inclement-weather-p...</td>\n",
              "    </tr>\n",
              "    <tr>\n",
              "      <th>4</th>\n",
              "      <td>True</td>\n",
              "      <td>mother comes pretty close to using word 'strea...</td>\n",
              "      <td>https://www.theonion.com/mother-comes-pretty-c...</td>\n",
              "    </tr>\n",
              "  </tbody>\n",
              "</table>\n",
              "</div>"
            ],
            "text/plain": [
              "   is_sarcastic  ...                                       article_link\n",
              "0          True  ...  https://www.theonion.com/thirtysomething-scien...\n",
              "1         False  ...  https://www.huffingtonpost.com/entry/donna-edw...\n",
              "2         False  ...  https://www.huffingtonpost.com/entry/eat-your-...\n",
              "3          True  ...  https://local.theonion.com/inclement-weather-p...\n",
              "4          True  ...  https://www.theonion.com/mother-comes-pretty-c...\n",
              "\n",
              "[5 rows x 3 columns]"
            ]
          },
          "metadata": {
            "tags": []
          },
          "execution_count": 6
        }
      ]
    },
    {
      "cell_type": "code",
      "metadata": {
        "id": "3UYA9GlERvkc",
        "colab_type": "code",
        "outputId": "e8f96523-81ad-4633-c091-2d4a81c74ded",
        "colab": {
          "base_uri": "https://localhost:8080/",
          "height": 33
        }
      },
      "source": [
        "len([headline for i,headline in enumerate(data.headline) if data.is_sarcastic[i]==True])"
      ],
      "execution_count": 7,
      "outputs": [
        {
          "output_type": "execute_result",
          "data": {
            "text/plain": [
              "13634"
            ]
          },
          "metadata": {
            "tags": []
          },
          "execution_count": 7
        }
      ]
    },
    {
      "cell_type": "markdown",
      "metadata": {
        "id": "Yolq4AkYNO30",
        "colab_type": "text"
      },
      "source": [
        "Download [Dataset.csv](https://drive.google.com/file/d/1raxIkJZ4lMTvgTB8eYjxu4Ux8aNL-x0s/view?usp=sharing) composed of sarcastic and serious headlines for the news. The csv-file consists of two columns. \"headline\" column contains texts of headlines. \"is_sarcastic\" column contain 0 if the hiadline is serious and 1 otherwise.\n",
        "\n",
        "Read dataset "
      ]
    },
    {
      "cell_type": "code",
      "metadata": {
        "id": "2_vDl5b8NO31",
        "colab_type": "code",
        "outputId": "f7e8ac40-5f94-45da-9221-e9e83b15e1ce",
        "colab": {
          "base_uri": "https://localhost:8080/",
          "height": 50
        }
      },
      "source": [
        "texts_serious = [headline for i,headline in enumerate(data.headline) if data.is_sarcastic[i]==False] # list of serious hiadline texts\n",
        "texts_sarcastic = [headline for i,headline in enumerate(data.headline) if data.is_sarcastic[i]==True] # list of sarcastic hiadline texts\n",
        "# with open('Dataset.csv', encoding='utf-8') as f:\n",
        "#     # Rread csv-file by DictReader from csv library\n",
        "#     reader = csv.DictReader(f) \n",
        "#     for line in reader:\n",
        "#         # read texts of headline\n",
        "#         headline = line['headline'].strip()\n",
        "#         # read sarcasticity of headline\n",
        "#         is_sarcastic = int(line['is_sarcastic'].strip())\n",
        "#         if is_sarcastic:\n",
        "#             texts_sarcastic.append(headline)\n",
        "#         else:\n",
        "#             texts_serious.append(headline)\n",
        "print('Found {} sarcastic texts in Dataset'.format(data.groupby('is_sarcastic').size()[1]))\n",
        "print('Found {} serious texts in Dataset'.format(data.groupby('is_sarcastic').size()[0]))\n"
      ],
      "execution_count": 8,
      "outputs": [
        {
          "output_type": "stream",
          "text": [
            "Found 13634 sarcastic texts in Dataset\n",
            "Found 14985 serious texts in Dataset\n"
          ],
          "name": "stdout"
        }
      ]
    },
    {
      "cell_type": "markdown",
      "metadata": {
        "id": "QhtJNgwuNO35",
        "colab_type": "text"
      },
      "source": [
        "Merge headlines into one text"
      ]
    },
    {
      "cell_type": "code",
      "metadata": {
        "id": "eI9k6oOaNO35",
        "colab_type": "code",
        "colab": {}
      },
      "source": [
        "text_0 = '\\n '.join(texts_serious)\n",
        "text_1 = '\\n '.join(texts_sarcastic)"
      ],
      "execution_count": 0,
      "outputs": []
    },
    {
      "cell_type": "code",
      "metadata": {
        "id": "XextATaPUinJ",
        "colab_type": "code",
        "outputId": "ea76db1a-c661-4dca-ae53-a506d994ad8e",
        "colab": {
          "base_uri": "https://localhost:8080/",
          "height": 33
        }
      },
      "source": [
        "markovify.Text(texts_sarcastic)"
      ],
      "execution_count": 7,
      "outputs": [
        {
          "output_type": "execute_result",
          "data": {
            "text/plain": [
              "<markovify.text.Text at 0x7ffb067ff400>"
            ]
          },
          "metadata": {
            "tags": []
          },
          "execution_count": 7
        }
      ]
    },
    {
      "cell_type": "markdown",
      "metadata": {
        "id": "bgh0nuOHNO38",
        "colab_type": "text"
      },
      "source": [
        "Create Markov chain model for serious headlines generation"
      ]
    },
    {
      "cell_type": "code",
      "metadata": {
        "id": "MFez6CN-NO38",
        "colab_type": "code",
        "colab": {}
      },
      "source": [
        "serious_model = markovify.Text(texts_serious, state_size=2)\n",
        "sarcastic_model = markovify.Text(texts_sarcastic)\n"
      ],
      "execution_count": 0,
      "outputs": []
    },
    {
      "cell_type": "markdown",
      "metadata": {
        "id": "_zZMwvZFNO3_",
        "colab_type": "text"
      },
      "source": [
        "Generate 20 serious headlines"
      ]
    },
    {
      "cell_type": "code",
      "metadata": {
        "id": "NDKt79ZcNO3_",
        "colab_type": "code",
        "outputId": "25336f27-fe59-4e3e-d26c-912ef26a0e2c",
        "colab": {
          "base_uri": "https://localhost:8080/",
          "height": 371
        }
      },
      "source": [
        "for i in range(20):\n",
        "    print(serious_model.make_sentence())"
      ],
      "execution_count": 15,
      "outputs": [
        {
          "output_type": "stream",
          "text": [
            "how to re-ignite the spark in your 20s: how to rekindle a lost passion in your young children\n",
            "how 3 badass women stopped an alleged chemical weapon attack in idlib\n",
            "why changing the way we talk about gray\n",
            "democrats score special election results roll in\n",
            "google translate update may save you from finding calm\n",
            "john legend speaks out against gun violence in myanmar\n",
            "slaughtering wolves in canada: a new chapter in u.s.-cuba relations\n",
            "congresswoman says former mexican president\n",
            "as i watch my daughter with the world.\n",
            "south african prison rape this holiday season\n",
            "they wore it best: miami's most glam moments of lgbtq icons in stunning catch and release\n",
            "so you're hiring a web design company\n",
            "meet the girl scout movement to raise a glass to pink for gleefully slamming the troll who hacked dnc reportedly target u.s. nuclear plants\n",
            "palestinian shot dead a month after newtown. this is what earth would be\n",
            "amanda slavin: not just for college grads in 2015\n",
            "dog missing for almost a decade reunites with college football playoff\n",
            "jessica simpson is a test for endometrial cancer\n",
            "this may be next u.s. president\n",
            "siri's creators say they've been harassed by customers\n",
            "3 things i do can make so you don't think paul manafort\n"
          ],
          "name": "stdout"
        }
      ]
    },
    {
      "cell_type": "markdown",
      "metadata": {
        "id": "MDQHlJiFNO4B",
        "colab_type": "text"
      },
      "source": [
        "Create model and generate 20 sarcastic headlines"
      ]
    },
    {
      "cell_type": "code",
      "metadata": {
        "id": "OQOc0cWHNO4C",
        "colab_type": "code",
        "outputId": "23ffe994-556f-4d74-b6c2-476f3967aed4",
        "colab": {
          "base_uri": "https://localhost:8080/",
          "height": 371
        }
      },
      "source": [
        "for i in range(20):\n",
        "    print(sarcastic_model.make_sentence())"
      ],
      "execution_count": 16,
      "outputs": [
        {
          "output_type": "stream",
          "text": [
            "president's american manufacturing council down to single tofurkey\n",
            "holocaust film appeals to hispanic voters for return of bachmann's full attention\n",
            "man running toward departing train must have killed great white shark ride\n",
            "texas to execute death row inmates could decimate texas restaurant industry not that original\n",
            "man runs out of this\n",
            "nation surprised to see people as human shields\n",
            "ivana trump calls ex-husband to ask them how they could be last date in ages lets dangling modifier slide\n",
            "bono outbids everyone at work waiting to see the view from apartment's roof\n",
            "area woman always has backup problem just in case rest of year announced\n",
            "new study finds 85% of americans just want to give baby up for adoption\n",
            "man can get by in his state still effectively subhuman\n",
            "weary, cynical woman knows to look directly at sun\n",
            "well known gresham, or musicians form gresham, or musicians form gresham, or supergroup\n",
            "uneasy détente forms between man sitting on shower wall can't believe he's filming another blog off a computer monitor\n",
            "responsible man sets aside small portion of sat with all his wits to get over here\n",
            "valiant fact-checkers once again shines at office must be late, reports cunning viewer recognizing film's subtext\n",
            "bush fishing for compliments during press conference from couch behind podium\n",
            "homosexual tearfully admits to profiting from nazi documentaries\n",
            "coddled potted plant could never make it illegal to charge people money for when audience turns on fox news reporter unafraid to face the cold, hard factoids\n",
            "poll: 89% of americans forced to wait for collaboration with john mellencamp\n"
          ],
          "name": "stdout"
        }
      ]
    },
    {
      "cell_type": "markdown",
      "metadata": {
        "id": "xJ5Jwl8TNO4E",
        "colab_type": "text"
      },
      "source": [
        "## Text generation by Variation Autoencoder"
      ]
    },
    {
      "cell_type": "markdown",
      "metadata": {
        "id": "K63RFOc9NO4E",
        "colab_type": "text"
      },
      "source": [
        "This part of tutorial based on [Text generation with a Variational Autoencoder](https://nicgian.github.io/text-generation-vae/) article. For sentence generation we use Variational Autoencoder (VAE) neural network model that is an extension seq2seq model. Originally VAE was described in [Auto-Encoding Variational Bayes](https://arxiv.org/pdf/1312.6114.pdf) paper. The idea behind Variational Autoencoder is that we impose predefined disribution (e.g., normal distribution) on the latent state formed by encoder. On the one hand this restriction alow us to sample random vectors from normal distribution and generate arbitrary sentences. On the othe hand this restriction form very dense well differentiated space without holes"
      ]
    },
    {
      "cell_type": "code",
      "metadata": {
        "id": "p6gGt8yRNO4E",
        "colab_type": "code",
        "colab": {
          "base_uri": "https://localhost:8080/",
          "height": 33
        },
        "outputId": "c64343de-bd8e-4230-9365-23ecde8f0be0"
      },
      "source": [
        "import tensorflow as tf\n",
        "import tensorflow_addons as tfa\n",
        "\n",
        "\n",
        "from keras.layers import Bidirectional, Dense, Embedding, \\\n",
        "Input, Lambda, LSTM, RepeatVector, TimeDistributed, Layer, Activation, Dropout\n",
        "from keras.preprocessing.sequence import pad_sequences\n",
        "from keras.layers.advanced_activations import ELU\n",
        "from keras.preprocessing.text import Tokenizer\n",
        "from keras.callbacks import ModelCheckpoint\n",
        "from keras.optimizers import Adam\n",
        "from keras import backend as K\n",
        "from keras.models import Model\n",
        "\n",
        "from scipy import spatial\n",
        "import pandas as pd\n",
        "import numpy as np\n",
        "import codecs\n",
        "import random\n",
        "import csv\n",
        "import os\n",
        "\n",
        "from sklearn.model_selection import train_test_split"
      ],
      "execution_count": 10,
      "outputs": [
        {
          "output_type": "stream",
          "text": [
            "Using TensorFlow backend.\n"
          ],
          "name": "stderr"
        }
      ]
    },
    {
      "cell_type": "code",
      "metadata": {
        "id": "vppT5s81r3T-",
        "colab_type": "code",
        "colab": {
          "base_uri": "https://localhost:8080/",
          "height": 33
        },
        "outputId": "a38851b8-ebf5-47b1-c881-12bf7ae653db"
      },
      "source": [
        "%tensorflow_version 2.x\n",
        "import tensorflow as tf\n",
        "device_name = tf.test.gpu_device_name()\n",
        "if device_name != '/device:GPU:0':\n",
        "  raise SystemError('GPU device not found')\n",
        "print('Found GPU at: {}'.format(device_name))"
      ],
      "execution_count": 11,
      "outputs": [
        {
          "output_type": "stream",
          "text": [
            "Found GPU at: /device:GPU:0\n"
          ],
          "name": "stdout"
        }
      ]
    },
    {
      "cell_type": "markdown",
      "metadata": {
        "id": "JG9qeYThNO4H",
        "colab_type": "text"
      },
      "source": [
        "Dowload [GloVe](http://nlp.stanford.edu/data/glove.6B.zip) pretrained word embedding vectors"
      ]
    },
    {
      "cell_type": "code",
      "metadata": {
        "id": "wliKwdPug6qN",
        "colab_type": "code",
        "outputId": "cdc6a288-f3f8-4b55-fb36-13e38b1c9bde",
        "colab": {
          "base_uri": "https://localhost:8080/",
          "height": 351
        }
      },
      "source": [
        "!wget http://nlp.stanford.edu/data/glove.6B.zip"
      ],
      "execution_count": 12,
      "outputs": [
        {
          "output_type": "stream",
          "text": [
            "--2020-05-24 12:46:52--  http://nlp.stanford.edu/data/glove.6B.zip\n",
            "Resolving nlp.stanford.edu (nlp.stanford.edu)... 171.64.67.140\n",
            "Connecting to nlp.stanford.edu (nlp.stanford.edu)|171.64.67.140|:80... connected.\n",
            "HTTP request sent, awaiting response... 302 Found\n",
            "Location: https://nlp.stanford.edu/data/glove.6B.zip [following]\n",
            "--2020-05-24 12:46:52--  https://nlp.stanford.edu/data/glove.6B.zip\n",
            "Connecting to nlp.stanford.edu (nlp.stanford.edu)|171.64.67.140|:443... connected.\n",
            "HTTP request sent, awaiting response... 301 Moved Permanently\n",
            "Location: http://downloads.cs.stanford.edu/nlp/data/glove.6B.zip [following]\n",
            "--2020-05-24 12:46:52--  http://downloads.cs.stanford.edu/nlp/data/glove.6B.zip\n",
            "Resolving downloads.cs.stanford.edu (downloads.cs.stanford.edu)... 171.64.64.22\n",
            "Connecting to downloads.cs.stanford.edu (downloads.cs.stanford.edu)|171.64.64.22|:80... connected.\n",
            "HTTP request sent, awaiting response... 200 OK\n",
            "Length: 862182613 (822M) [application/zip]\n",
            "Saving to: ‘glove.6B.zip’\n",
            "\n",
            "glove.6B.zip        100%[===================>] 822.24M  2.06MB/s    in 6m 27s  \n",
            "\n",
            "2020-05-24 12:53:19 (2.12 MB/s) - ‘glove.6B.zip’ saved [862182613/862182613]\n",
            "\n"
          ],
          "name": "stdout"
        }
      ]
    },
    {
      "cell_type": "code",
      "metadata": {
        "id": "4bkWe_Rnl-Gv",
        "colab_type": "code",
        "outputId": "6f07a5b9-377d-4fa6-cf73-ce585a360b55",
        "colab": {
          "base_uri": "https://localhost:8080/",
          "height": 100
        }
      },
      "source": [
        "! unzip glove.6B.zip"
      ],
      "execution_count": 13,
      "outputs": [
        {
          "output_type": "stream",
          "text": [
            "Archive:  glove.6B.zip\n",
            "  inflating: glove.6B.50d.txt        \n",
            "  inflating: glove.6B.100d.txt       \n",
            "  inflating: glove.6B.200d.txt       \n",
            "  inflating: glove.6B.300d.txt       \n"
          ],
          "name": "stdout"
        }
      ]
    },
    {
      "cell_type": "code",
      "metadata": {
        "id": "LRO5eyfjNO4H",
        "colab_type": "code",
        "colab": {}
      },
      "source": [
        "MAX_SEQUENCE_LENGTH = 15 # Max text length in tokens\n",
        "MAX_NB_WORDS = 20000 # Max words in dictionary\n",
        "EMBEDDING_DIM = 50 # Dimensionality of GloVe vectors \n",
        "\n",
        "GLOVE_EMBEDDING = 'glove.6B.50d.txt'\n",
        "\n",
        "train_data, val_data = train_test_split(data, test_size = .25, random_state= 42)\n",
        "train_data.to_csv('train_data.csv')\n",
        "val_data.to_csv('val_data.csv')\n"
      ],
      "execution_count": 0,
      "outputs": []
    },
    {
      "cell_type": "markdown",
      "metadata": {
        "id": "yZIhktGyNO4J",
        "colab_type": "text"
      },
      "source": [
        "Create sentence tokenizer and two dictionaries: word_to_id and id_to_word\n",
        "\n",
        "For tokenisation we use [Tokenizer](https://www.tensorflow.org/api_docs/python/tf/keras/preprocessing/text/Tokenizer) from keras library."
      ]
    },
    {
      "cell_type": "code",
      "metadata": {
        "id": "eIqnRARPgCiT",
        "colab_type": "code",
        "colab": {}
      },
      "source": [
        "txt = texts_sarcastic+ texts_serious"
      ],
      "execution_count": 0,
      "outputs": []
    },
    {
      "cell_type": "code",
      "metadata": {
        "id": "mUan2IgCNO4J",
        "colab_type": "code",
        "colab": {}
      },
      "source": [
        "#your code here\n",
        "\n",
        "tokenizer = Tokenizer(MAX_NB_WORDS)\n",
        "tokenizer.fit_on_texts(txt)\n",
        "word_to_id = tokenizer.word_index \n",
        "word_to_id = {k:v for k,v in  word_to_id.items()}\n",
        "id_to_word = {v:k for k,v in word_to_id.items()}"
      ],
      "execution_count": 0,
      "outputs": []
    },
    {
      "cell_type": "markdown",
      "metadata": {
        "id": "JGO1n0wyNO4L",
        "colab_type": "text"
      },
      "source": [
        "Tokenize sarcastic texts and create tensor composed of tokens indexes. If a sentence shorter than MAX_SEQUENCE_LENGTH we pad it. If a sentence longer than MAX_SEQUENCE_LENGTH we cut it."
      ]
    },
    {
      "cell_type": "code",
      "metadata": {
        "id": "3jsUsnDoNO4L",
        "colab_type": "code",
        "colab": {}
      },
      "source": [
        "#your code here\n",
        "\n",
        "sequences = tokenizer.texts_to_sequences(texts_sarcastic)\n",
        "sequences = pad_sequences(sequences, maxlen=MAX_SEQUENCE_LENGTH, padding = 'post')\n",
        "\n",
        "NB_WORDS = (min(tokenizer.num_words, len(word_to_id)) + 1 )"
      ],
      "execution_count": 0,
      "outputs": []
    },
    {
      "cell_type": "code",
      "metadata": {
        "id": "VhUP3Vz5jGGE",
        "colab_type": "code",
        "outputId": "38ce344a-8f52-482f-c151-85bcd537fe03",
        "colab": {
          "base_uri": "https://localhost:8080/",
          "height": 134
        }
      },
      "source": [
        "sequences"
      ],
      "execution_count": 18,
      "outputs": [
        {
          "output_type": "execute_result",
          "data": {
            "text/plain": [
              "array([[16003,   354,  3166, ...,     0,     0,     0],\n",
              "       [11426,  1593,  6417, ...,     0,     0,     0],\n",
              "       [  471,   494,   321, ...,     0,     0,     0],\n",
              "       ...,\n",
              "       [ 5846,  7214,  5576, ...,   268,     0,     0],\n",
              "       [ 1854,  1305,  3269, ...,     0,     0,     0],\n",
              "       [  216,  3238,    20, ...,     0,     0,     0]], dtype=int32)"
            ]
          },
          "metadata": {
            "tags": []
          },
          "execution_count": 18
        }
      ]
    },
    {
      "cell_type": "code",
      "metadata": {
        "id": "6ZbZ5hKllVpH",
        "colab_type": "code",
        "outputId": "52743f60-2e06-40b9-8c68-1addd5b4418a",
        "colab": {
          "base_uri": "https://localhost:8080/",
          "height": 404
        }
      },
      "source": [
        "train_data"
      ],
      "execution_count": 19,
      "outputs": [
        {
          "output_type": "execute_result",
          "data": {
            "text/html": [
              "<div>\n",
              "<style scoped>\n",
              "    .dataframe tbody tr th:only-of-type {\n",
              "        vertical-align: middle;\n",
              "    }\n",
              "\n",
              "    .dataframe tbody tr th {\n",
              "        vertical-align: top;\n",
              "    }\n",
              "\n",
              "    .dataframe thead th {\n",
              "        text-align: right;\n",
              "    }\n",
              "</style>\n",
              "<table border=\"1\" class=\"dataframe\">\n",
              "  <thead>\n",
              "    <tr style=\"text-align: right;\">\n",
              "      <th></th>\n",
              "      <th>is_sarcastic</th>\n",
              "      <th>headline</th>\n",
              "      <th>article_link</th>\n",
              "    </tr>\n",
              "  </thead>\n",
              "  <tbody>\n",
              "    <tr>\n",
              "      <th>28580</th>\n",
              "      <td>False</td>\n",
              "      <td>pit bull lovers gather in washington</td>\n",
              "      <td>https://www.huffingtonpost.com/entry/pit-bull-...</td>\n",
              "    </tr>\n",
              "    <tr>\n",
              "      <th>14354</th>\n",
              "      <td>True</td>\n",
              "      <td>new tech-support caste arises in india</td>\n",
              "      <td>https://www.theonion.com/new-tech-support-cast...</td>\n",
              "    </tr>\n",
              "    <tr>\n",
              "      <th>19070</th>\n",
              "      <td>True</td>\n",
              "      <td>amazing original thing to become hated cliché ...</td>\n",
              "      <td>https://www.theonion.com/amazing-original-thin...</td>\n",
              "    </tr>\n",
              "    <tr>\n",
              "      <th>5045</th>\n",
              "      <td>False</td>\n",
              "      <td>united airlines temporarily suspends cargo tra...</td>\n",
              "      <td>https://www.huffingtonpost.com/entry/united-su...</td>\n",
              "    </tr>\n",
              "    <tr>\n",
              "      <th>24640</th>\n",
              "      <td>False</td>\n",
              "      <td>cuba and the united states: the long view</td>\n",
              "      <td>https://www.huffingtonpost.com/entry/cuba-and-...</td>\n",
              "    </tr>\n",
              "    <tr>\n",
              "      <th>...</th>\n",
              "      <td>...</td>\n",
              "      <td>...</td>\n",
              "      <td>...</td>\n",
              "    </tr>\n",
              "    <tr>\n",
              "      <th>21575</th>\n",
              "      <td>True</td>\n",
              "      <td>turnout lower than expected for gala central a...</td>\n",
              "      <td>https://www.theonion.com/turnout-lower-than-ex...</td>\n",
              "    </tr>\n",
              "    <tr>\n",
              "      <th>5390</th>\n",
              "      <td>True</td>\n",
              "      <td>retreating clinton campaign torches iowa town ...</td>\n",
              "      <td>https://politics.theonion.com/retreating-clint...</td>\n",
              "    </tr>\n",
              "    <tr>\n",
              "      <th>860</th>\n",
              "      <td>True</td>\n",
              "      <td>national weather service to give hurricanes fu...</td>\n",
              "      <td>https://www.theonion.com/national-weather-serv...</td>\n",
              "    </tr>\n",
              "    <tr>\n",
              "      <th>15795</th>\n",
              "      <td>True</td>\n",
              "      <td>christ returns for some of his old things</td>\n",
              "      <td>https://www.theonion.com/christ-returns-for-so...</td>\n",
              "    </tr>\n",
              "    <tr>\n",
              "      <th>23654</th>\n",
              "      <td>True</td>\n",
              "      <td>loophole in curse lets archaeologist off the hook</td>\n",
              "      <td>https://www.theonion.com/loophole-in-curse-let...</td>\n",
              "    </tr>\n",
              "  </tbody>\n",
              "</table>\n",
              "<p>21464 rows × 3 columns</p>\n",
              "</div>"
            ],
            "text/plain": [
              "       is_sarcastic  ...                                       article_link\n",
              "28580         False  ...  https://www.huffingtonpost.com/entry/pit-bull-...\n",
              "14354          True  ...  https://www.theonion.com/new-tech-support-cast...\n",
              "19070          True  ...  https://www.theonion.com/amazing-original-thin...\n",
              "5045          False  ...  https://www.huffingtonpost.com/entry/united-su...\n",
              "24640         False  ...  https://www.huffingtonpost.com/entry/cuba-and-...\n",
              "...             ...  ...                                                ...\n",
              "21575          True  ...  https://www.theonion.com/turnout-lower-than-ex...\n",
              "5390           True  ...  https://politics.theonion.com/retreating-clint...\n",
              "860            True  ...  https://www.theonion.com/national-weather-serv...\n",
              "15795          True  ...  https://www.theonion.com/christ-returns-for-so...\n",
              "23654          True  ...  https://www.theonion.com/loophole-in-curse-let...\n",
              "\n",
              "[21464 rows x 3 columns]"
            ]
          },
          "metadata": {
            "tags": []
          },
          "execution_count": 19
        }
      ]
    },
    {
      "cell_type": "markdown",
      "metadata": {
        "id": "ehtDdjiDNO4N",
        "colab_type": "text"
      },
      "source": [
        "Define batch generator to train a neural network\n",
        "\n",
        "For padding sentences to max length we use [pad_sequences](https://www.tensorflow.org/api_docs/python/tf/keras/preprocessing/sequence/pad_sequences)"
      ]
    },
    {
      "cell_type": "code",
      "metadata": {
        "id": "jTj-u-QvNO4O",
        "colab_type": "code",
        "outputId": "45b4159a-ba43-4c73-bcc8-bc4acc2b9b91",
        "colab": {
          "base_uri": "https://localhost:8080/",
          "height": 288
        }
      },
      "source": [
        "def sent_generator(TRAIN_DATA_FILE, batchsize):\n",
        "    # Create iterator that reads dataset file batch by batch \n",
        "    #your code here\n",
        "    #Suffle the data file\n",
        "    full = pd.read_csv(TRAIN_DATA_FILE)\n",
        "    indexes = np.random.choice (range(len(full)),len(full),False)\n",
        "    \n",
        "    shuffled = full.iloc[indexes]\n",
        "\n",
        "    reader = [shuffled.iloc[batchsize*i: batchsize*i +batch_size,:] for i in range(int(np.ceil(len(full)/batchsize)))]\n",
        "\n",
        "    reader = pd.read_csv(TRAIN_DATA_FILE, chunksize= batchsize, iterator= True)\n",
        "    \n",
        "    for df in reader:\n",
        "\n",
        "        # Read a column that contains headlines\n",
        "        #your code here\n",
        "        texts = list(df['headline'])\n",
        "        if len (texts)<batchsize:\n",
        "          texts = texts + [' ']*(batchsize - len(texts))\n",
        "\n",
        "        # Tokenize texts and create padded tensor composed of tokens indexes\n",
        "        sequences = tokenizer.texts_to_sequences(texts)\n",
        "        sequences = pad_sequences(sequences, maxlen=MAX_SEQUENCE_LENGTH, padding='post')\n",
        "        \n",
        "        # Return input-target pairs\n",
        "        #your code here\n",
        "\n",
        "        yield (sequences, sequences) \n",
        "\n",
        "print([a for a in sent_generator('train_data.csv',  4)][:1])"
      ],
      "execution_count": 124,
      "outputs": [
        {
          "output_type": "stream",
          "text": [
            "[(array([[ 3377,  3378,  5544,  2289,     4,   558,     0,     0,     0,\n",
            "            0,     0,     0,     0,     0,     0],\n",
            "       [   11,  1237,   333,  9088, 19705,     4,  1908,     0,     0,\n",
            "            0,     0,     0,     0,     0,     0],\n",
            "       [ 1006,  2198,   229,     1,   703,  6761, 10628,     4,   210,\n",
            "          576,     0,     0,     0,     0,     0],\n",
            "       [  694,  1378,  5498,  5385,  6568,   644,     5,  4701,     0,\n",
            "            0,     0,     0,     0,     0,     0]], dtype=int32), array([[ 3377,  3378,  5544,  2289,     4,   558,     0,     0,     0,\n",
            "            0,     0,     0,     0,     0,     0],\n",
            "       [   11,  1237,   333,  9088, 19705,     4,  1908,     0,     0,\n",
            "            0,     0,     0,     0,     0,     0],\n",
            "       [ 1006,  2198,   229,     1,   703,  6761, 10628,     4,   210,\n",
            "          576,     0,     0,     0,     0,     0],\n",
            "       [  694,  1378,  5498,  5385,  6568,   644,     5,  4701,     0,\n",
            "            0,     0,     0,     0,     0,     0]], dtype=int32))]\n"
          ],
          "name": "stdout"
        }
      ]
    },
    {
      "cell_type": "markdown",
      "metadata": {
        "id": "2ez-r3kaNO4Q",
        "colab_type": "text"
      },
      "source": [
        "Load pretrained GloVe vectors described in [GloVe: Global Vectors for Word Representation](https://nlp.stanford.edu/pubs/glove.pdf) paper"
      ]
    },
    {
      "cell_type": "code",
      "metadata": {
        "id": "lN0hxN0wNO4Q",
        "colab_type": "code",
        "outputId": "034cbefc-b212-4a64-ff27-612bdc9eaae0",
        "colab": {
          "base_uri": "https://localhost:8080/",
          "height": 33
        }
      },
      "source": [
        "embeddings_index = {}\n",
        "with open('glove.6B.50d.txt', encoding='utf-8') as f:\n",
        "    # read rows from file line by line\n",
        "    for line in f:\n",
        "        values = line.split()\n",
        "        word = values[0] # Get word\n",
        "        coefs = np.asarray(values[1:], dtype='float32') # Get elements of word's vector\n",
        "        embeddings_index[word] = coefs\n",
        "\n",
        "print('Found %s word vectors.' % len(embeddings_index))"
      ],
      "execution_count": 64,
      "outputs": [
        {
          "output_type": "stream",
          "text": [
            "Found 400000 word vectors.\n"
          ],
          "name": "stdout"
        }
      ]
    },
    {
      "cell_type": "markdown",
      "metadata": {
        "id": "dUDA9KQzNO4T",
        "colab_type": "text"
      },
      "source": [
        "Create matrix from embedding vectors. Any row of the matrix is a word's vector. We get words from the dictionary word_to_id defined earlier."
      ]
    },
    {
      "cell_type": "code",
      "metadata": {
        "id": "Gkr2nZYUNO4U",
        "colab_type": "code",
        "outputId": "0eb8e953-0427-4d2f-c2e2-fe5dfdfae9b0",
        "colab": {
          "base_uri": "https://localhost:8080/",
          "height": 33
        }
      },
      "source": [
        "glove_embedding_matrix = np.zeros((NB_WORDS, EMBEDDING_DIM)) # Create empty matrix (max number of tokens, dimension of the embedding vectors)\n",
        "not_in_glove=0\n",
        "for word, i in word_to_id.items():\n",
        "    #your code here\n",
        "    if i<NB_WORDS:\n",
        "      try:\n",
        "        glove_embedding_matrix[i] = embeddings_index[word]\n",
        "      except:\n",
        "        glove_embedding_matrix[i] = embeddings_index['unk']\n",
        "        not_in_glove+=1\n",
        "        continue\n",
        "# compute number of words which there aren't in the GloVe vectors\n",
        "print(f'Null word embeddings: {not_in_glove}')"
      ],
      "execution_count": 126,
      "outputs": [
        {
          "output_type": "stream",
          "text": [
            "Null word embeddings: 2465\n"
          ],
          "name": "stdout"
        }
      ]
    },
    {
      "cell_type": "markdown",
      "metadata": {
        "id": "AQ1gaqKSNO4X",
        "colab_type": "text"
      },
      "source": [
        "Define parameters of the net"
      ]
    },
    {
      "cell_type": "code",
      "metadata": {
        "id": "F4rw7A3mNO4Y",
        "colab_type": "code",
        "colab": {}
      },
      "source": [
        "batch_size = 64\n",
        "max_len = MAX_SEQUENCE_LENGTH\n",
        "emb_dim = EMBEDDING_DIM\n",
        "latent_dim = 32 # dimensionality of the hidden state in encoder and decoder RNN's\n",
        "intermediate_dim = 96 # dimensionality of variational space into which we map encoder's hidden state\n",
        "epsilon_std = 1.0 # standard deviation of gaussian noise\n",
        "act = ELU() # activation function of projection layer"
      ],
      "execution_count": 0,
      "outputs": []
    },
    {
      "cell_type": "markdown",
      "metadata": {
        "id": "sarNC5v1NO4c",
        "colab_type": "text"
      },
      "source": [
        "Encoder of the variational autoencoder. It based on bidirectional LSTM\n",
        "\n",
        "We use following layers: [Input](https://www.tensorflow.org/api_docs/python/tf/keras/Input), [Embedding](https://www.tensorflow.org/api_docs/python/tf/keras/layers/Embedding), [Bidirectional](https://www.tensorflow.org/api_docs/python/tf/keras/layers/Bidirectional), [LSTM](https://www.tensorflow.org/api_docs/python/tf/keras/layers/LSTM), [Dropout](https://www.tensorflow.org/api_docs/python/tf/keras/layers/Dropout), [Dense](https://www.tensorflow.org/api_docs/python/tf/keras/layers/Dense), [ELU](https://www.tensorflow.org/api_docs/python/tf/keras/layers/ELU)"
      ]
    },
    {
      "cell_type": "code",
      "metadata": {
        "id": "YgRQeNiGNO4d",
        "colab_type": "code",
        "colab": {}
      },
      "source": [
        "x = Input(batch_shape=(None, max_len)) # Input layer fo the net. \n",
        "# Write an embedding layer for the input sequences of indexes. \n",
        "# Use pretrained word embeddings as a embedding layer weights and don't update these weights\n",
        "\n",
        "#your code here\n",
        "x_embed = Embedding(NB_WORDS, emb_dim, weights=[glove_embedding_matrix],\n",
        "                            input_length=max_len, trainable=False)(x)\n",
        "\n",
        "\n",
        "# Bidirectional LSTM encoder\n",
        "\n",
        "#your code here\n",
        "h = Bidirectional(LSTM(intermediate_dim, return_sequences=False, recurrent_dropout=0.2), merge_mode='concat')(x_embed)\n",
        "\n",
        "\n",
        "\n",
        "h = Dropout(0.2)(h) # Dropout for the BiLSTM layer to avoid overfitting \n",
        "\n",
        "# Fully-connected layer to map encoder hidden state into variational space\n",
        "\n",
        "#your code here\n",
        "h = act(Dense(intermediate_dim, activation='linear')(h))\n",
        "\n",
        "h = Dropout(0.2)(h) # Dropout for the fully-connected layer to avoid overfitting \n",
        "z_mean = Dense(latent_dim)(h) # Fully-connected layer to map variational space into means space \n",
        "z_log_var = Dense(latent_dim)(h) # Fully-connected layer to map variational space into standard deviations space "
      ],
      "execution_count": 0,
      "outputs": []
    },
    {
      "cell_type": "markdown",
      "metadata": {
        "id": "61_EJbujNO4f",
        "colab_type": "text"
      },
      "source": [
        "The mechanism for sampling hidden vectors from variational space\n",
        "\n",
        "To apply it to our model we use [Lambda](https://www.tensorflow.org/api_docs/python/tf/keras/layers/Lambda) layer"
      ]
    },
    {
      "cell_type": "code",
      "metadata": {
        "id": "F5OGmTyuNO4f",
        "colab_type": "code",
        "colab": {}
      },
      "source": [
        "def sampling(args):\n",
        "    # Vectors from means space and standard deviations space respectively\n",
        "    z_mean, z_log_var = args\n",
        "    # Sample random vectors from normal distribution with mean=0 and std=epsilon_std\n",
        "    epsilon = K.random_normal(shape=(batch_size, latent_dim), mean=0.,\n",
        "                              stddev=epsilon_std)\n",
        "    \n",
        "    #your code here\n",
        "    \n",
        "    # Get new hidden state for decoder using vectors from means, standard deviations and normal random spaces\n",
        "    return z_mean + K.exp(z_log_var / 2) * epsilon\n",
        "\n",
        "# Get hidden states for the decoder\n",
        "z = Lambda(sampling, output_shape=(latent_dim,))([z_mean, z_log_var])"
      ],
      "execution_count": 0,
      "outputs": []
    },
    {
      "cell_type": "markdown",
      "metadata": {
        "id": "7U89BoV9NO4h",
        "colab_type": "text"
      },
      "source": [
        "Define decoder of the autoencoder\n",
        "\n",
        "For this we use following layers: [RepeatVector](https://www.tensorflow.org/api_docs/python/tf/keras/layers/RepeatVector), [LSTM](https://www.tensorflow.org/api_docs/python/tf/keras/layers/LSTM), [TimeDistributed](https://www.tensorflow.org/api_docs/python/tf/keras/layers/TimeDistributed), [Dense](https://www.tensorflow.org/api_docs/python/tf/keras/layers/Dense)"
      ]
    },
    {
      "cell_type": "code",
      "metadata": {
        "id": "9kD2_yfJNO4h",
        "colab_type": "code",
        "colab": {}
      },
      "source": [
        "# Repeat the hidden state vector to form input sequence for decoder\n",
        "repeated_context = RepeatVector(max_len)\n",
        "# Decoder LSTM\n",
        "decoder_h = LSTM(intermediate_dim, return_sequences=True, recurrent_dropout=0.2)\n",
        "# Layer for mapping from hidden satates space to the space of dimension equal to size of vocabulary\n",
        "decoder_mean = TimeDistributed(Dense(NB_WORDS, activation='linear'))\n",
        "# Generated sequence\n",
        "h_decoded = decoder_h(repeated_context(z))\n",
        "# Decode every time step vector of the decoded sequence into space of dimension equal to size of vocabulary\n",
        "x_decoded_mean = decoder_mean(h_decoded)"
      ],
      "execution_count": 0,
      "outputs": []
    },
    {
      "cell_type": "markdown",
      "metadata": {
        "id": "2f90V8-ENO4i",
        "colab_type": "text"
      },
      "source": [
        "Define layer for loss computing"
      ]
    },
    {
      "cell_type": "code",
      "metadata": {
        "id": "mjIXaSO8NO4j",
        "colab_type": "code",
        "colab": {}
      },
      "source": [
        "def zero_loss(y_true, y_pred):\n",
        "    # Return tensor filled with ones with shape equal generated sequence shape\n",
        "    return K.zeros_like(y_pred)"
      ],
      "execution_count": 0,
      "outputs": []
    },
    {
      "cell_type": "code",
      "metadata": {
        "id": "SU1cXC0tNO4k",
        "colab_type": "code",
        "colab": {}
      },
      "source": [
        "class CustomVariationalLayer(Layer):\n",
        "    def __init__(self, **kwargs):\n",
        "        self.is_placeholder = True\n",
        "        super(CustomVariationalLayer, self).__init__(**kwargs)\n",
        "        # Create tensor (batch_size, max_sequence_len) filled with ones to consider all elements of generated sequence \n",
        "        self.target_weights = tf.constant(np.ones((batch_size, max_len)), tf.float32)\n",
        "\n",
        "    def vae_loss(self, x, x_decoded_mean):\n",
        "        # Get tensor with similar shape as x\n",
        "        labels = tf.cast(x, tf.int32)\n",
        "        # Compute sequence reconstruction loss\n",
        "        xent_loss = K.sum(tfa.seq2seq.sequence_loss(x_decoded_mean, labels,\n",
        "                                                    weights=self.target_weights,\n",
        "                                                    average_across_timesteps=False,\n",
        "                                                    average_across_batch=False), axis=-1)\n",
        "        # Compute KL-divergence as Variational loss \n",
        "        kl_loss = -0.5 * K.sum(1 + z_log_var - K.square(z_mean) - K.exp(z_log_var), axis=-1)\n",
        "        # Composite loss (reconstruction loss + Variational loss)\n",
        "        return K.mean(xent_loss + kl_loss)\n",
        "\n",
        "    def call(self, inputs):\n",
        "        x = inputs[0] # input sequence\n",
        "        x_decoded_mean = inputs[1] # reconstructed sequence\n",
        "        print(x.shape, x_decoded_mean.shape)\n",
        "        loss = self.vae_loss(x, x_decoded_mean) # Compute loss of the model\n",
        "        self.add_loss(loss, inputs=inputs)\n",
        "        # we don't use this output, but it has to have the correct shape\n",
        "        return K.ones_like(x)"
      ],
      "execution_count": 0,
      "outputs": []
    },
    {
      "cell_type": "markdown",
      "metadata": {
        "id": "a8GYYLM0NO4m",
        "colab_type": "text"
      },
      "source": [
        "Assemble the model\n",
        "\n",
        "To define model we use [Model](https://www.tensorflow.org/api_docs/python/tf/keras/Model) from tensorflow.\n",
        "\n",
        "To train model employ [Adam](https://www.tensorflow.org/api_docs/python/tf/keras/optimizers/Adam) optimization algorithm"
      ]
    },
    {
      "cell_type": "code",
      "metadata": {
        "id": "zQ9Zwt9DNO4n",
        "colab_type": "code",
        "outputId": "829b8ae1-c29f-463a-da59-d6aad0a3435f",
        "colab": {
          "base_uri": "https://localhost:8080/",
          "height": 669
        }
      },
      "source": [
        "# Create custom layer for loss computing\n",
        "loss_layer = CustomVariationalLayer()([x, x_decoded_mean])\n",
        "\n",
        "vae = Model(x, [loss_layer])\n",
        "# Use Adam optimizer with learning rate = 0.01\n",
        "opt = Adam(lr=0.005)\n",
        "vae.compile(optimizer=opt, loss=[zero_loss])\n",
        "# Show model structure\n",
        "vae.summary()"
      ],
      "execution_count": 133,
      "outputs": [
        {
          "output_type": "stream",
          "text": [
            "(None, 15) (64, 15, 20001)\n",
            "Model: \"model_6\"\n",
            "__________________________________________________________________________________________________\n",
            "Layer (type)                    Output Shape         Param #     Connected to                     \n",
            "==================================================================================================\n",
            "input_4 (InputLayer)            (None, 15)           0                                            \n",
            "__________________________________________________________________________________________________\n",
            "embedding_3 (Embedding)         (None, 15, 50)       1000050     input_4[0][0]                    \n",
            "__________________________________________________________________________________________________\n",
            "bidirectional_3 (Bidirectional) (None, 192)          112896      embedding_3[0][0]                \n",
            "__________________________________________________________________________________________________\n",
            "dropout_5 (Dropout)             (None, 192)          0           bidirectional_3[0][0]            \n",
            "__________________________________________________________________________________________________\n",
            "dense_9 (Dense)                 (None, 96)           18528       dropout_5[0][0]                  \n",
            "__________________________________________________________________________________________________\n",
            "elu_3 (ELU)                     (None, 96)           0           dense_9[0][0]                    \n",
            "__________________________________________________________________________________________________\n",
            "dropout_6 (Dropout)             (None, 96)           0           elu_3[0][0]                      \n",
            "__________________________________________________________________________________________________\n",
            "dense_10 (Dense)                (None, 32)           3104        dropout_6[0][0]                  \n",
            "__________________________________________________________________________________________________\n",
            "dense_11 (Dense)                (None, 32)           3104        dropout_6[0][0]                  \n",
            "__________________________________________________________________________________________________\n",
            "lambda_3 (Lambda)               (None, 32)           0           dense_10[0][0]                   \n",
            "                                                                 dense_11[0][0]                   \n",
            "__________________________________________________________________________________________________\n",
            "repeat_vector_3 (RepeatVector)  (None, 15, 32)       0           lambda_3[0][0]                   \n",
            "__________________________________________________________________________________________________\n",
            "lstm_6 (LSTM)                   (None, 15, 96)       49536       repeat_vector_3[0][0]            \n",
            "__________________________________________________________________________________________________\n",
            "time_distributed_3 (TimeDistrib (None, 15, 20001)    1940097     lstm_6[0][0]                     \n",
            "__________________________________________________________________________________________________\n",
            "custom_variational_layer_4 (Cus [(None, 15), (None,  0           input_4[0][0]                    \n",
            "                                                                 time_distributed_3[0][0]         \n",
            "==================================================================================================\n",
            "Total params: 3,127,315\n",
            "Trainable params: 2,127,265\n",
            "Non-trainable params: 1,000,050\n",
            "__________________________________________________________________________________________________\n"
          ],
          "name": "stdout"
        }
      ]
    },
    {
      "cell_type": "markdown",
      "metadata": {
        "id": "OUq-wpywNO4r",
        "colab_type": "text"
      },
      "source": [
        "Checkpoint function to save states of our model during training"
      ]
    },
    {
      "cell_type": "code",
      "metadata": {
        "id": "6N_2MDF_NO4s",
        "colab_type": "code",
        "colab": {}
      },
      "source": [
        "def create_model_checkpoint(model_name):\n",
        "    filepath = f\"models/{model_name}.h5\"\n",
        "    directory = os.path.dirname(filepath)\n",
        "    try:\n",
        "        # Check if directory exists\n",
        "        os.stat(directory)\n",
        "    except:\n",
        "        # If directory doesn't exist, create the directory\n",
        "        os.mkdir(directory)\n",
        "    # Save model states\n",
        "    checkpointer = ModelCheckpoint(filepath=filepath, verbose=1, save_best_only=False)\n",
        "    return checkpointer\n",
        "\n",
        "# Create model checkpointer\n",
        "checkpointer = create_model_checkpoint('vae_seq2seq')"
      ],
      "execution_count": 0,
      "outputs": []
    },
    {
      "cell_type": "markdown",
      "metadata": {
        "id": "_Cw3RxnCNO4u",
        "colab_type": "text"
      },
      "source": [
        "Train model, test model after each apoch and save model's state"
      ]
    },
    {
      "cell_type": "code",
      "metadata": {
        "id": "mRTTpZOU5Zcf",
        "colab_type": "code",
        "colab": {}
      },
      "source": [
        "sents = val_data['headline']\n",
        "val_1_data = tokenizer.texts_to_sequences(sents)\n",
        "val_1_data = pad_sequences(sequences, maxlen=MAX_SEQUENCE_LENGTH,padding = 'post')\n",
        "val_1_data = val_1_data[:np.max([i for i in range(val_1_data.shape[0]) if i % 64 == 0]),:]"
      ],
      "execution_count": 0,
      "outputs": []
    },
    {
      "cell_type": "code",
      "metadata": {
        "id": "11qcJqOG08PE",
        "colab_type": "code",
        "colab": {
          "base_uri": "https://localhost:8080/",
          "height": 134
        },
        "outputId": "6f32de8b-5cec-44a4-b023-4b44b4278426"
      },
      "source": [
        "val_1_data"
      ],
      "execution_count": 136,
      "outputs": [
        {
          "output_type": "execute_result",
          "data": {
            "text/plain": [
              "array([[16003,   354,  3166, ...,     0,     0,     0],\n",
              "       [11426,  1593,  6417, ...,     0,     0,     0],\n",
              "       [  471,   494,   321, ...,     0,     0,     0],\n",
              "       ...,\n",
              "       [ 6360,  3114,   230, ...,     0,     0,     0],\n",
              "       [ 4070,     1,   961, ...,     0,     0,     0],\n",
              "       [ 5846,  7214,  5576, ...,   268,     0,     0]], dtype=int32)"
            ]
          },
          "metadata": {
            "tags": []
          },
          "execution_count": 136
        }
      ]
    },
    {
      "cell_type": "code",
      "metadata": {
        "id": "iscsBzrwNO4v",
        "colab_type": "code",
        "outputId": "8c389da4-0680-4260-bd42-582c0fe62887",
        "colab": {
          "base_uri": "https://localhost:8080/",
          "height": 234
        }
      },
      "source": [
        "nb_epoch = 50 # number of epochs for model training\n",
        "n_steps = train_data.shape[0] // batch_size # Number of steps per epoch\n",
        "for counter in range(nb_epoch):\n",
        "    print('-------epoch: ', counter, '-------')x\n",
        "    # Train model. Test and save model after every epoch\n",
        "    vae.fit_generator(sent_generator('train_data.csv', batch_size),\n",
        "                      steps_per_epoch=n_steps, epochs=1, callbacks=[checkpointer],\n",
        "                      validation_data=(val_1_data,val_1_data))\n",
        "vae.save(r'vae_lstmFull32dim96hid.h5')"
      ],
      "execution_count": 0,
      "outputs": [
        {
          "output_type": "stream",
          "text": [
            "-------epoch:  0 -------\n",
            "Epoch 1/1\n",
            "335/335 [==============================] - 61s 181ms/step - loss: 87.0867 - val_loss: 83.2054\n",
            "\n",
            "Epoch 00001: saving model to models/vae_seq2seq.h5\n",
            "-------epoch:  1 -------\n",
            "Epoch 1/1\n",
            "335/335 [==============================] - 59s 177ms/step - loss: 77.2917 - val_loss: 82.4800\n",
            "\n",
            "Epoch 00001: saving model to models/vae_seq2seq.h5\n",
            "-------epoch:  2 -------\n",
            "Epoch 1/1\n",
            "189/335 [===============>..............] - ETA: 24s - loss: 75.0610"
          ],
          "name": "stdout"
        }
      ]
    },
    {
      "cell_type": "markdown",
      "metadata": {
        "id": "HjXY9bJMNO4x",
        "colab_type": "text"
      },
      "source": [
        "Assemble encoder and decoder for sentence generation sampled from variational space"
      ]
    },
    {
      "cell_type": "code",
      "metadata": {
        "id": "HArdLjkyeNY8",
        "colab_type": "code",
        "colab": {}
      },
      "source": [
        "\n",
        "# vae.load_weights(\"/content/models/vae_seq2seq.h5\")"
      ],
      "execution_count": 0,
      "outputs": []
    },
    {
      "cell_type": "code",
      "metadata": {
        "id": "iTJBfCHxNO4x",
        "colab_type": "code",
        "colab": {}
      },
      "source": [
        "# Make separate encoder to encode input sentence\n",
        "encoder = Model(x, z_mean)\n",
        "# Input layer for decoder to decode vectors sampled from variational space \n",
        "decoder_input = Input(shape=(latent_dim,))\n",
        "# Apply LSTM to decode hidden vector into sequence\n",
        "_h_decoded = decoder_h(repeated_context(decoder_input))\n",
        "# Decode every time step vector of the decoded sequence into space of dimension equal to size of vocabulary\n",
        "_x_decoded_mean = decoder_mean(_h_decoded)\n",
        "# Apply softmax to get most probable token\n",
        "_x_decoded_mean = Activation('softmax')(_x_decoded_mean)\n",
        "# Make decoderfor sempled sentences\n",
        "generator = Model(decoder_input, _x_decoded_mean)"
      ],
      "execution_count": 0,
      "outputs": []
    },
    {
      "cell_type": "markdown",
      "metadata": {
        "id": "j4a0y7FvNO4z",
        "colab_type": "text"
      },
      "source": [
        "Generate sentence"
      ]
    },
    {
      "cell_type": "code",
      "metadata": {
        "id": "wf7yrbD6NO4z",
        "colab_type": "code",
        "colab": {}
      },
      "source": [
        "# Dictionary maps indexes to words\n",
        "index2word = {v: k for k, v in word_to_id.items()}\n",
        "# Fit sentences from validation set into encoder\n",
        "sent_encoded = encoder.predict(val_1_data, batch_size=16)\n",
        "# Decode encoded sentences\n",
        "x_test_reconstructed = generator.predict(sent_encoded)\n",
        "\n",
        "sent_idx = 400\n",
        "# Get words indexes with highest probability for the 400th sentence from validation set\n",
        "reconstructed_indexes = np.apply_along_axis(np.argmax, 1, x_test_reconstructed[sent_idx])\n",
        "# Map indexes of generated sentence to words\n",
        "word_list = list(np.vectorize(index2word.get)(reconstructed_indexes))\n",
        "word_list = ' '.join([w for w in word_list if w])\n",
        "print(word_list)\n",
        "# Map indexes of input sentence to words\n",
        "original_sent = list(np.vectorize(index2word.get)(val_1_data[sent_idx]))\n",
        "original_sent = ' '.join([w for w in original_sent if w])\n",
        "print(original_sent)"
      ],
      "execution_count": 0,
      "outputs": []
    },
    {
      "cell_type": "code",
      "metadata": {
        "id": "OnJrDAUzaLi8",
        "colab_type": "code",
        "colab": {
          "base_uri": "https://localhost:8080/",
          "height": 33
        },
        "outputId": "ccbb0765-dd45-4c38-c6e9-2621e5f54813"
      },
      "source": [
        "sent_encoded = encoder.predict(val_1_data[:1])\n",
        "x_test_reconstructed = generator.predict(sent_encoded)\n",
        "reconstructed_indexes = np.apply_along_axis(np.argmax, 1, x_test_reconstructed[0])\n",
        "original_sent = list(np.vectorize(id_to_word.get)(val_1_data[0]))\n",
        "original_sent = ' '.join([w for w in original_sent if w])\n",
        "print(original_sent)"
      ],
      "execution_count": 77,
      "outputs": [
        {
          "output_type": "stream",
          "text": [
            "thirtysomething scientists unveil doomsday clock of hair loss None None None None None None None\n"
          ],
          "name": "stdout"
        }
      ]
    },
    {
      "cell_type": "code",
      "metadata": {
        "id": "3qBzs4Vsh5RS",
        "colab_type": "code",
        "colab": {
          "base_uri": "https://localhost:8080/",
          "height": 33
        },
        "outputId": "439ee175-657d-4926-9923-46cd05b71f6f"
      },
      "source": [
        "original_sent"
      ],
      "execution_count": 95,
      "outputs": [
        {
          "output_type": "execute_result",
          "data": {
            "text/plain": [
              "'thirtysomething scientists unveil doomsday clock of hair loss'"
            ]
          },
          "metadata": {
            "tags": []
          },
          "execution_count": 95
        }
      ]
    },
    {
      "cell_type": "code",
      "metadata": {
        "id": "LbMRa6wnh-PM",
        "colab_type": "code",
        "colab": {
          "base_uri": "https://localhost:8080/",
          "height": 268
        },
        "outputId": "fa5e5a0e-dad3-47b4-f997-622f23e61b4d"
      },
      "source": [
        "s = list(np.vectorize(id_to_word.get)(reconstructed_indexes))\n",
        "s"
      ],
      "execution_count": 78,
      "outputs": [
        {
          "output_type": "execute_result",
          "data": {
            "text/plain": [
              "['guitar',\n",
              " 'guitar',\n",
              " 'terri',\n",
              " 'terri',\n",
              " 'terri',\n",
              " 'terri',\n",
              " 'terri',\n",
              " 'terri',\n",
              " 'terri',\n",
              " 'terri',\n",
              " 'terri',\n",
              " 'terri',\n",
              " 'terri',\n",
              " 'terri',\n",
              " 'terri']"
            ]
          },
          "metadata": {
            "tags": []
          },
          "execution_count": 78
        }
      ]
    },
    {
      "cell_type": "code",
      "metadata": {
        "id": "NQujVRfkjA4a",
        "colab_type": "code",
        "colab": {
          "base_uri": "https://localhost:8080/",
          "height": 33
        },
        "outputId": "81b5d21e-220f-4ada-cc88-82ba03aa4eac"
      },
      "source": [
        "' '.join([w for w in s if w])"
      ],
      "execution_count": 79,
      "outputs": [
        {
          "output_type": "execute_result",
          "data": {
            "text/plain": [
              "'guitar guitar terri terri terri terri terri terri terri terri terri terri terri terri terri'"
            ]
          },
          "metadata": {
            "tags": []
          },
          "execution_count": 79
        }
      ]
    },
    {
      "cell_type": "code",
      "metadata": {
        "id": "hHhmLHusjdnS",
        "colab_type": "code",
        "colab": {}
      },
      "source": [
        ""
      ],
      "execution_count": 0,
      "outputs": []
    }
  ]
}